{
  "nbformat": 4,
  "nbformat_minor": 0,
  "metadata": {
    "colab": {
      "provenance": [],
      "authorship_tag": "ABX9TyMAyZwT1ivH0k5kSgZBgBXs",
      "include_colab_link": true
    },
    "kernelspec": {
      "name": "python3",
      "display_name": "Python 3"
    },
    "language_info": {
      "name": "python"
    }
  },
  "cells": [
    {
      "cell_type": "markdown",
      "metadata": {
        "id": "view-in-github",
        "colab_type": "text"
      },
      "source": [
        "<a href=\"https://colab.research.google.com/github/Pakhi27/Vechile-Dataset-Detection-YOLO./blob/main/Vechile_Dataset_Detection_YOLO.ipynb\" target=\"_parent\"><img src=\"https://colab.research.google.com/assets/colab-badge.svg\" alt=\"Open In Colab\"/></a>"
      ]
    },
    {
      "cell_type": "code",
      "source": [
        "from google.colab import drive\n",
        "drive.mount('/content/drive')"
      ],
      "metadata": {
        "colab": {
          "base_uri": "https://localhost:8080/"
        },
        "id": "bo27z72_bX-A",
        "outputId": "3b00f00b-df67-4861-b417-225c0247599e"
      },
      "execution_count": 8,
      "outputs": [
        {
          "output_type": "stream",
          "name": "stdout",
          "text": [
            "Drive already mounted at /content/drive; to attempt to forcibly remount, call drive.mount(\"/content/drive\", force_remount=True).\n"
          ]
        }
      ]
    },
    {
      "cell_type": "code",
      "execution_count": 9,
      "metadata": {
        "colab": {
          "base_uri": "https://localhost:8080/"
        },
        "id": "ks8ehX_d5P3F",
        "outputId": "946c9c76-90ed-4986-e7e9-7c136ace1c07"
      },
      "outputs": [
        {
          "output_type": "stream",
          "name": "stdout",
          "text": [
            "All annotations and images organized.\n"
          ]
        }
      ],
      "source": [
        "# Convert Annotations to YOLO Format\n",
        "# First, you need to convert the CSV annotations to YOLO format.\n",
        "import os\n",
        "\n",
        "# Define the paths\n",
        "# base_image_dir: Path where vehicle images are stored.\n",
        "# base_annotation_dir: Path where corresponding annotation files are located.\n",
        "# output_dir: The directory where converted YOLO-format annotations will be saved.\n",
        "base_image_dir = '/content/drive/MyDrive/archive (43)'\n",
        "base_annotation_dir = '/content/drive/MyDrive/archive (43)/annotation'\n",
        "output_dir = '/content/labels_yolo/'  # Directory for YOLO formatted annotations\n",
        "\n",
        "# Vehicle types and their class IDs\n",
        "class_mapping = {\n",
        "    'van': 0,\n",
        "    'bus': 1,\n",
        "    'auto':2,\n",
        "    'tractor':3\n",
        "}\n",
        "# This dictionary maps vehicle types (van, bus, auto, and tractor) to unique numeric class IDs, which is required by YOLO for training.\n",
        "\n",
        "# Create the output directory if it doesn't exist\n",
        "os.makedirs(output_dir, exist_ok=True)\n",
        "# This creates the output_dir if it doesn't exist.\n",
        "\n",
        "# Function to copy annotations to YOLO folder\n",
        "# This function takes in a vehicle_type (e.g., 'van', 'bus', etc.) and processes images and annotations for that type.\n",
        "def organize_annotations_and_images(vehicle_type):\n",
        "    image_dir = os.path.join(base_image_dir, vehicle_type)\n",
        "    annotation_dir = os.path.join(base_annotation_dir, vehicle_type)\n",
        "    # These lines define the paths to the vehicle-specific image and annotation folders.\n",
        "    # This loop iterates through all image files (JPG, JPEG, PNG) in the image directory.\n",
        "    for image_file in os.listdir(image_dir):\n",
        "        if image_file.endswith(('.jpg', '.jpeg', '.png')):\n",
        "            image_name = os.path.splitext(image_file)[0]\n",
        "            annotation_file = os.path.join(annotation_dir, f\"{image_name}.txt\")\n",
        "            # The annotation file for each image is located using its filename (without the extension) and appending \".txt\" to it.\n",
        "            # Move the annotation file to the YOLO format folder\n",
        "            if os.path.exists(annotation_file):\n",
        "                output_annotation_file = os.path.join(output_dir, f\"{image_name}.txt\")\n",
        "                os.rename(annotation_file, output_annotation_file)\n",
        "\n",
        "                # Copy the image to the YOLO training folder\n",
        "                output_image_file = os.path.join(base_image_dir, f\"{vehicle_type}/{image_file}\")\n",
        "                os.rename(os.path.join(image_dir, image_file), output_image_file)\n",
        "\n",
        "                print(f\"Organized {image_file} and its annotation\")\n",
        "# If the annotation file exists, it is moved to the output_dir. The image is also moved to the correct directory for YOLO.\n",
        "# Organize annotations and images for all vehicle types\n",
        "for vehicle_type in ['van', 'bus','auto','tractor']:\n",
        "    organize_annotations_and_images(vehicle_type)\n",
        "# This calls the function for each vehicle type: van, bus, auto, and tractor.\n",
        "print(\"All annotations and images organized.\")\n",
        "\n",
        "\n"
      ]
    },
    {
      "cell_type": "code",
      "source": [
        "#  Create YOLOv5 Configuration File\n",
        "yaml_content = \"\"\"\n",
        "train: '/content/drive/MyDrive/archive (43)'  # Path to the folder with training images\n",
        "val: '/content/drive/MyDrive/archive (43)'    # Using the same folder for validation (if no separate validation set)\n",
        "nc: 4  # Number of classes (van, bus, auto, tractor)\n",
        "names: ['van', 'bus', 'auto', 'tractor']  # List of class names\n",
        "\"\"\"\n",
        "\n",
        "# Write the YAML content to a file\n",
        "with open('/content/vehicle.yaml', 'w') as file:\n",
        "    file.write(yaml_content)\n",
        "\n",
        "\n",
        "print(\"vehicle.yaml file created.\")"
      ],
      "metadata": {
        "colab": {
          "base_uri": "https://localhost:8080/"
        },
        "id": "dnQrPGnDb2mM",
        "outputId": "abb0089e-7012-4cc5-9e7a-8655ea7793d6"
      },
      "execution_count": 11,
      "outputs": [
        {
          "output_type": "stream",
          "name": "stdout",
          "text": [
            "vehicle.yaml file created.\n"
          ]
        }
      ]
    },
    {
      "cell_type": "code",
      "source": [
        "!git clone https://github.com/ultralytics/yolov5.git\n",
        "# This command clones the official YOLOv5 repository from GitHub."
      ],
      "metadata": {
        "colab": {
          "base_uri": "https://localhost:8080/"
        },
        "id": "Y5f2-qewoXgu",
        "outputId": "f5bd60d0-e9e0-4181-abe3-7ea43ef2e0ff"
      },
      "execution_count": 13,
      "outputs": [
        {
          "output_type": "stream",
          "name": "stdout",
          "text": [
            "Cloning into 'yolov5'...\n",
            "remote: Enumerating objects: 16954, done.\u001b[K\n",
            "remote: Counting objects: 100% (149/149), done.\u001b[K\n",
            "remote: Compressing objects: 100% (104/104), done.\u001b[K\n",
            "remote: Total 16954 (delta 76), reused 95 (delta 45), pack-reused 16805 (from 1)\u001b[K\n",
            "Receiving objects: 100% (16954/16954), 15.71 MiB | 17.75 MiB/s, done.\n",
            "Resolving deltas: 100% (11609/11609), done.\n"
          ]
        }
      ]
    },
    {
      "cell_type": "code",
      "source": [
        "#  Train the YOLOv5 Model\n",
        "# This command starts training the YOLOv5 model using the provided data:\n",
        "# --img 640: Resizes input images to 640x640 pixels.\n",
        "# --batch 16: Uses a batch size of 16.\n",
        "# --epochs 50: Runs the training for 50 epochs.\n",
        "# --data: The path to the vehicle.yaml file that contains class and data paths.\n",
        "# --weights: Uses the pre-trained YOLOv5 small (yolov5s.pt) weights as the starting point.\n",
        "!python /content/yolov5/train.py --img 640 --batch 16 --epochs 50 --data /content/vehicle.yaml --weights yolov5s.pt\n"
      ],
      "metadata": {
        "colab": {
          "base_uri": "https://localhost:8080/"
        },
        "id": "3btud9nvb2pr",
        "outputId": "915f9661-726d-43e0-89aa-67b7c6885320"
      },
      "execution_count": 14,
      "outputs": [
        {
          "output_type": "stream",
          "name": "stdout",
          "text": [
            "Collecting ultralytics\n",
            "  Downloading ultralytics-8.2.93-py3-none-any.whl.metadata (41 kB)\n",
            "\u001b[?25l     \u001b[90m━━━━━━━━━━━━━━━━━━━━━━━━━━━━━━━━━━━━━━━━\u001b[0m \u001b[32m0.0/41.9 kB\u001b[0m \u001b[31m?\u001b[0m eta \u001b[36m-:--:--\u001b[0m\r\u001b[2K     \u001b[90m━━━━━━━━━━━━━━━━━━━━━━━━━━━━━━━━━━━━━━━━\u001b[0m \u001b[32m41.9/41.9 kB\u001b[0m \u001b[31m1.6 MB/s\u001b[0m eta \u001b[36m0:00:00\u001b[0m\n",
            "\u001b[?25hRequirement already satisfied: numpy<2.0.0,>=1.23.0 in /usr/local/lib/python3.10/dist-packages (from ultralytics) (1.26.4)\n",
            "Requirement already satisfied: matplotlib>=3.3.0 in /usr/local/lib/python3.10/dist-packages (from ultralytics) (3.7.1)\n",
            "Requirement already satisfied: opencv-python>=4.6.0 in /usr/local/lib/python3.10/dist-packages (from ultralytics) (4.10.0.84)\n",
            "Requirement already satisfied: pillow>=7.1.2 in /usr/local/lib/python3.10/dist-packages (from ultralytics) (9.4.0)\n",
            "Requirement already satisfied: pyyaml>=5.3.1 in /usr/local/lib/python3.10/dist-packages (from ultralytics) (6.0.2)\n",
            "Requirement already satisfied: requests>=2.23.0 in /usr/local/lib/python3.10/dist-packages (from ultralytics) (2.32.3)\n",
            "Requirement already satisfied: scipy>=1.4.1 in /usr/local/lib/python3.10/dist-packages (from ultralytics) (1.13.1)\n",
            "Requirement already satisfied: torch>=1.8.0 in /usr/local/lib/python3.10/dist-packages (from ultralytics) (2.4.0+cu121)\n",
            "Requirement already satisfied: torchvision>=0.9.0 in /usr/local/lib/python3.10/dist-packages (from ultralytics) (0.19.0+cu121)\n",
            "Requirement already satisfied: tqdm>=4.64.0 in /usr/local/lib/python3.10/dist-packages (from ultralytics) (4.66.5)\n",
            "Requirement already satisfied: psutil in /usr/local/lib/python3.10/dist-packages (from ultralytics) (5.9.5)\n",
            "Requirement already satisfied: py-cpuinfo in /usr/local/lib/python3.10/dist-packages (from ultralytics) (9.0.0)\n",
            "Requirement already satisfied: pandas>=1.1.4 in /usr/local/lib/python3.10/dist-packages (from ultralytics) (2.1.4)\n",
            "Requirement already satisfied: seaborn>=0.11.0 in /usr/local/lib/python3.10/dist-packages (from ultralytics) (0.13.1)\n",
            "Collecting ultralytics-thop>=2.0.0 (from ultralytics)\n",
            "  Downloading ultralytics_thop-2.0.6-py3-none-any.whl.metadata (9.1 kB)\n",
            "Requirement already satisfied: contourpy>=1.0.1 in /usr/local/lib/python3.10/dist-packages (from matplotlib>=3.3.0->ultralytics) (1.3.0)\n",
            "Requirement already satisfied: cycler>=0.10 in /usr/local/lib/python3.10/dist-packages (from matplotlib>=3.3.0->ultralytics) (0.12.1)\n",
            "Requirement already satisfied: fonttools>=4.22.0 in /usr/local/lib/python3.10/dist-packages (from matplotlib>=3.3.0->ultralytics) (4.53.1)\n",
            "Requirement already satisfied: kiwisolver>=1.0.1 in /usr/local/lib/python3.10/dist-packages (from matplotlib>=3.3.0->ultralytics) (1.4.7)\n",
            "Requirement already satisfied: packaging>=20.0 in /usr/local/lib/python3.10/dist-packages (from matplotlib>=3.3.0->ultralytics) (24.1)\n",
            "Requirement already satisfied: pyparsing>=2.3.1 in /usr/local/lib/python3.10/dist-packages (from matplotlib>=3.3.0->ultralytics) (3.1.4)\n",
            "Requirement already satisfied: python-dateutil>=2.7 in /usr/local/lib/python3.10/dist-packages (from matplotlib>=3.3.0->ultralytics) (2.8.2)\n",
            "Requirement already satisfied: pytz>=2020.1 in /usr/local/lib/python3.10/dist-packages (from pandas>=1.1.4->ultralytics) (2024.2)\n",
            "Requirement already satisfied: tzdata>=2022.1 in /usr/local/lib/python3.10/dist-packages (from pandas>=1.1.4->ultralytics) (2024.1)\n",
            "Requirement already satisfied: charset-normalizer<4,>=2 in /usr/local/lib/python3.10/dist-packages (from requests>=2.23.0->ultralytics) (3.3.2)\n",
            "Requirement already satisfied: idna<4,>=2.5 in /usr/local/lib/python3.10/dist-packages (from requests>=2.23.0->ultralytics) (3.8)\n",
            "Requirement already satisfied: urllib3<3,>=1.21.1 in /usr/local/lib/python3.10/dist-packages (from requests>=2.23.0->ultralytics) (2.0.7)\n",
            "Requirement already satisfied: certifi>=2017.4.17 in /usr/local/lib/python3.10/dist-packages (from requests>=2.23.0->ultralytics) (2024.8.30)\n",
            "Requirement already satisfied: filelock in /usr/local/lib/python3.10/dist-packages (from torch>=1.8.0->ultralytics) (3.16.0)\n",
            "Requirement already satisfied: typing-extensions>=4.8.0 in /usr/local/lib/python3.10/dist-packages (from torch>=1.8.0->ultralytics) (4.12.2)\n",
            "Requirement already satisfied: sympy in /usr/local/lib/python3.10/dist-packages (from torch>=1.8.0->ultralytics) (1.13.2)\n",
            "Requirement already satisfied: networkx in /usr/local/lib/python3.10/dist-packages (from torch>=1.8.0->ultralytics) (3.3)\n",
            "Requirement already satisfied: jinja2 in /usr/local/lib/python3.10/dist-packages (from torch>=1.8.0->ultralytics) (3.1.4)\n",
            "Requirement already satisfied: fsspec in /usr/local/lib/python3.10/dist-packages (from torch>=1.8.0->ultralytics) (2024.6.1)\n",
            "Requirement already satisfied: six>=1.5 in /usr/local/lib/python3.10/dist-packages (from python-dateutil>=2.7->matplotlib>=3.3.0->ultralytics) (1.16.0)\n",
            "Requirement already satisfied: MarkupSafe>=2.0 in /usr/local/lib/python3.10/dist-packages (from jinja2->torch>=1.8.0->ultralytics) (2.1.5)\n",
            "Requirement already satisfied: mpmath<1.4,>=1.1.0 in /usr/local/lib/python3.10/dist-packages (from sympy->torch>=1.8.0->ultralytics) (1.3.0)\n",
            "Downloading ultralytics-8.2.93-py3-none-any.whl (871 kB)\n",
            "\u001b[2K   \u001b[90m━━━━━━━━━━━━━━━━━━━━━━━━━━━━━━━━━━━━━━━━\u001b[0m \u001b[32m871.6/871.6 kB\u001b[0m \u001b[31m14.4 MB/s\u001b[0m eta \u001b[36m0:00:00\u001b[0m\n",
            "\u001b[?25hDownloading ultralytics_thop-2.0.6-py3-none-any.whl (26 kB)\n",
            "Installing collected packages: ultralytics-thop, ultralytics\n",
            "Successfully installed ultralytics-8.2.93 ultralytics-thop-2.0.6\n",
            "2024-09-14 17:43:24.602648: E external/local_xla/xla/stream_executor/cuda/cuda_fft.cc:485] Unable to register cuFFT factory: Attempting to register factory for plugin cuFFT when one has already been registered\n",
            "2024-09-14 17:43:24.863466: E external/local_xla/xla/stream_executor/cuda/cuda_dnn.cc:8454] Unable to register cuDNN factory: Attempting to register factory for plugin cuDNN when one has already been registered\n",
            "2024-09-14 17:43:24.879869: E external/local_xla/xla/stream_executor/cuda/cuda_blas.cc:1452] Unable to register cuBLAS factory: Attempting to register factory for plugin cuBLAS when one has already been registered\n",
            "\u001b[31m\u001b[1mrequirements:\u001b[0m Ultralytics requirement ['gitpython'] not found, attempting AutoUpdate...\n",
            "Collecting gitpython\n",
            "  Downloading GitPython-3.1.43-py3-none-any.whl.metadata (13 kB)\n",
            "Collecting gitdb<5,>=4.0.1 (from gitpython)\n",
            "  Downloading gitdb-4.0.11-py3-none-any.whl.metadata (1.2 kB)\n",
            "Collecting smmap<6,>=3.0.1 (from gitdb<5,>=4.0.1->gitpython)\n",
            "  Downloading smmap-5.0.1-py3-none-any.whl.metadata (4.3 kB)\n",
            "Downloading GitPython-3.1.43-py3-none-any.whl (207 kB)\n",
            "   ━━━━━━━━━━━━━━━━━━━━━━━━━━━━━━━━━━━━━━━━ 207.3/207.3 kB 5.0 MB/s eta 0:00:00\n",
            "Downloading gitdb-4.0.11-py3-none-any.whl (62 kB)\n",
            "   ━━━━━━━━━━━━━━━━━━━━━━━━━━━━━━━━━━━━━━━━ 62.7/62.7 kB 166.3 MB/s eta 0:00:00\n",
            "Downloading smmap-5.0.1-py3-none-any.whl (24 kB)\n",
            "Installing collected packages: smmap, gitdb, gitpython\n",
            "Successfully installed gitdb-4.0.11 gitpython-3.1.43 smmap-5.0.1\n",
            "\n",
            "\u001b[31m\u001b[1mrequirements:\u001b[0m AutoUpdate success ✅ 3.7s, installed 1 package: ['gitpython']\n",
            "\u001b[31m\u001b[1mrequirements:\u001b[0m ⚠️ \u001b[1mRestart runtime or rerun command for updates to take effect\u001b[0m\n",
            "\n",
            "\u001b[34m\u001b[1mtrain: \u001b[0mweights=yolov5s.pt, cfg=, data=/content/vehicle.yaml, hyp=yolov5/data/hyps/hyp.scratch-low.yaml, epochs=50, batch_size=16, imgsz=640, rect=False, resume=False, nosave=False, noval=False, noautoanchor=False, noplots=False, evolve=None, evolve_population=yolov5/data/hyps, resume_evolve=None, bucket=, cache=None, image_weights=False, device=, multi_scale=False, single_cls=False, optimizer=SGD, sync_bn=False, workers=8, project=yolov5/runs/train, name=exp, exist_ok=False, quad=False, cos_lr=False, label_smoothing=0.0, patience=100, freeze=[0], save_period=-1, seed=0, local_rank=-1, entity=None, upload_dataset=False, bbox_interval=-1, artifact_alias=latest, ndjson_console=False, ndjson_file=False\n",
            "\u001b[34m\u001b[1mgithub: \u001b[0mup to date with https://github.com/ultralytics/yolov5 ✅\n",
            "\u001b[31m\u001b[1mrequirements:\u001b[0m Ultralytics requirements ['pillow>=10.3.0', 'thop>=0.1.1'] not found, attempting AutoUpdate...\n",
            "Collecting pillow>=10.3.0\n",
            "  Downloading pillow-10.4.0-cp310-cp310-manylinux_2_28_x86_64.whl.metadata (9.2 kB)\n",
            "Collecting thop>=0.1.1\n",
            "  Downloading thop-0.1.1.post2209072238-py3-none-any.whl.metadata (2.7 kB)\n",
            "Requirement already satisfied: torch in /usr/local/lib/python3.10/dist-packages (from thop>=0.1.1) (2.4.0+cu121)\n",
            "Requirement already satisfied: filelock in /usr/local/lib/python3.10/dist-packages (from torch->thop>=0.1.1) (3.16.0)\n",
            "Requirement already satisfied: typing-extensions>=4.8.0 in /usr/local/lib/python3.10/dist-packages (from torch->thop>=0.1.1) (4.12.2)\n",
            "Requirement already satisfied: sympy in /usr/local/lib/python3.10/dist-packages (from torch->thop>=0.1.1) (1.13.2)\n",
            "Requirement already satisfied: networkx in /usr/local/lib/python3.10/dist-packages (from torch->thop>=0.1.1) (3.3)\n",
            "Requirement already satisfied: jinja2 in /usr/local/lib/python3.10/dist-packages (from torch->thop>=0.1.1) (3.1.4)\n",
            "Requirement already satisfied: fsspec in /usr/local/lib/python3.10/dist-packages (from torch->thop>=0.1.1) (2024.6.1)\n",
            "Requirement already satisfied: MarkupSafe>=2.0 in /usr/local/lib/python3.10/dist-packages (from jinja2->torch->thop>=0.1.1) (2.1.5)\n",
            "Requirement already satisfied: mpmath<1.4,>=1.1.0 in /usr/local/lib/python3.10/dist-packages (from sympy->torch->thop>=0.1.1) (1.3.0)\n",
            "Downloading pillow-10.4.0-cp310-cp310-manylinux_2_28_x86_64.whl (4.5 MB)\n",
            "   ━━━━━━━━━━━━━━━━━━━━━━━━━━━━━━━━━━━━━━━━ 4.5/4.5 MB 43.6 MB/s eta 0:00:00\n",
            "Downloading thop-0.1.1.post2209072238-py3-none-any.whl (15 kB)\n",
            "Installing collected packages: pillow, thop\n",
            "  Attempting uninstall: pillow\n",
            "    Found existing installation: Pillow 9.4.0\n",
            "    Uninstalling Pillow-9.4.0:\n",
            "      Successfully uninstalled Pillow-9.4.0\n",
            "Successfully installed pillow-10.4.0 thop-0.1.1.post2209072238\n",
            "\n",
            "\u001b[31m\u001b[1mrequirements:\u001b[0m AutoUpdate success ✅ 5.3s, installed 2 packages: ['pillow>=10.3.0', 'thop>=0.1.1']\n",
            "\u001b[31m\u001b[1mrequirements:\u001b[0m ⚠️ \u001b[1mRestart runtime or rerun command for updates to take effect\u001b[0m\n",
            "\n",
            "YOLOv5 🚀 v7.0-366-gf7322921 Python-3.10.12 torch-2.4.0+cu121 CPU\n",
            "\n",
            "\u001b[34m\u001b[1mhyperparameters: \u001b[0mlr0=0.01, lrf=0.01, momentum=0.937, weight_decay=0.0005, warmup_epochs=3.0, warmup_momentum=0.8, warmup_bias_lr=0.1, box=0.05, cls=0.5, cls_pw=1.0, obj=1.0, obj_pw=1.0, iou_t=0.2, anchor_t=4.0, fl_gamma=0.0, hsv_h=0.015, hsv_s=0.7, hsv_v=0.4, degrees=0.0, translate=0.1, scale=0.5, shear=0.0, perspective=0.0, flipud=0.0, fliplr=0.5, mosaic=1.0, mixup=0.0, copy_paste=0.0\n",
            "\u001b[34m\u001b[1mComet: \u001b[0mrun 'pip install comet_ml' to automatically track and visualize YOLOv5 🚀 runs in Comet\n",
            "\u001b[34m\u001b[1mTensorBoard: \u001b[0mStart with 'tensorboard --logdir yolov5/runs/train', view at http://localhost:6006/\n",
            "Downloading https://github.com/ultralytics/assets/releases/download/v0.0.0/Arial.ttf to /root/.config/Ultralytics/Arial.ttf...\n",
            "100% 755k/755k [00:00<00:00, 14.0MB/s]\n",
            "Downloading https://github.com/ultralytics/yolov5/releases/download/v7.0/yolov5s.pt to yolov5s.pt...\n",
            "100% 14.1M/14.1M [00:00<00:00, 126MB/s] \n",
            "\n",
            "Overriding model.yaml nc=80 with nc=4\n",
            "\n",
            "                 from  n    params  module                                  arguments                     \n",
            "  0                -1  1      3520  models.common.Conv                      [3, 32, 6, 2, 2]              \n",
            "  1                -1  1     18560  models.common.Conv                      [32, 64, 3, 2]                \n",
            "  2                -1  1     18816  models.common.C3                        [64, 64, 1]                   \n",
            "  3                -1  1     73984  models.common.Conv                      [64, 128, 3, 2]               \n",
            "  4                -1  2    115712  models.common.C3                        [128, 128, 2]                 \n",
            "  5                -1  1    295424  models.common.Conv                      [128, 256, 3, 2]              \n",
            "  6                -1  3    625152  models.common.C3                        [256, 256, 3]                 \n",
            "  7                -1  1   1180672  models.common.Conv                      [256, 512, 3, 2]              \n",
            "  8                -1  1   1182720  models.common.C3                        [512, 512, 1]                 \n",
            "  9                -1  1    656896  models.common.SPPF                      [512, 512, 5]                 \n",
            " 10                -1  1    131584  models.common.Conv                      [512, 256, 1, 1]              \n",
            " 11                -1  1         0  torch.nn.modules.upsampling.Upsample    [None, 2, 'nearest']          \n",
            " 12           [-1, 6]  1         0  models.common.Concat                    [1]                           \n",
            " 13                -1  1    361984  models.common.C3                        [512, 256, 1, False]          \n",
            " 14                -1  1     33024  models.common.Conv                      [256, 128, 1, 1]              \n",
            " 15                -1  1         0  torch.nn.modules.upsampling.Upsample    [None, 2, 'nearest']          \n",
            " 16           [-1, 4]  1         0  models.common.Concat                    [1]                           \n",
            " 17                -1  1     90880  models.common.C3                        [256, 128, 1, False]          \n",
            " 18                -1  1    147712  models.common.Conv                      [128, 128, 3, 2]              \n",
            " 19          [-1, 14]  1         0  models.common.Concat                    [1]                           \n",
            " 20                -1  1    296448  models.common.C3                        [256, 256, 1, False]          \n",
            " 21                -1  1    590336  models.common.Conv                      [256, 256, 3, 2]              \n",
            " 22          [-1, 10]  1         0  models.common.Concat                    [1]                           \n",
            " 23                -1  1   1182720  models.common.C3                        [512, 512, 1, False]          \n",
            " 24      [17, 20, 23]  1     24273  models.yolo.Detect                      [4, [[10, 13, 16, 30, 33, 23], [30, 61, 62, 45, 59, 119], [116, 90, 156, 198, 373, 326]], [128, 256, 512]]\n",
            "Model summary: 214 layers, 7030417 parameters, 7030417 gradients, 16.0 GFLOPs\n",
            "\n",
            "Transferred 343/349 items from yolov5s.pt\n",
            "\u001b[34m\u001b[1moptimizer:\u001b[0m SGD(lr=0.01) with parameter groups 57 weight(decay=0.0), 60 weight(decay=0.0005), 60 bias\n",
            "\u001b[34m\u001b[1malbumentations: \u001b[0mBlur(p=0.01, blur_limit=(3, 7)), MedianBlur(p=0.01, blur_limit=(3, 7)), ToGray(p=0.01), CLAHE(p=0.01, clip_limit=(1, 4.0), tile_grid_size=(8, 8))\n",
            "/usr/lib/python3.10/multiprocessing/popen_fork.py:66: RuntimeWarning: os.fork() was called. os.fork() is incompatible with multithreaded code, and JAX is multithreaded, so this will likely lead to a deadlock.\n",
            "  self.pid = os.fork()\n",
            "\u001b[34m\u001b[1mtrain: \u001b[0mScanning /content/drive/MyDrive/archive (43)/auto... 0 images, 0 backgrounds, 221 corrupt: 100% 221/221 [01:56<00:00,  1.90it/s]\n",
            "\u001b[34m\u001b[1mtrain: \u001b[0mWARNING ⚠️ /content/drive/MyDrive/archive (43)/auto/Datacluster_auto (1).jpg: ignoring corrupt image/label: cannot identify image file '/content/drive/MyDrive/archive (43)/auto/Datacluster_auto (1).jpg'\n",
            "\u001b[34m\u001b[1mtrain: \u001b[0mWARNING ⚠️ /content/drive/MyDrive/archive (43)/auto/Datacluster_auto (10).jpg: ignoring corrupt image/label: cannot identify image file '/content/drive/MyDrive/archive (43)/auto/Datacluster_auto (10).jpg'\n",
            "\u001b[34m\u001b[1mtrain: \u001b[0mWARNING ⚠️ /content/drive/MyDrive/archive (43)/auto/Datacluster_auto (11).jpg: ignoring corrupt image/label: cannot identify image file '/content/drive/MyDrive/archive (43)/auto/Datacluster_auto (11).jpg'\n",
            "\u001b[34m\u001b[1mtrain: \u001b[0mWARNING ⚠️ /content/drive/MyDrive/archive (43)/auto/Datacluster_auto (12).jpg: ignoring corrupt image/label: cannot identify image file '/content/drive/MyDrive/archive (43)/auto/Datacluster_auto (12).jpg'\n",
            "\u001b[34m\u001b[1mtrain: \u001b[0mWARNING ⚠️ /content/drive/MyDrive/archive (43)/auto/Datacluster_auto (13).jpg: ignoring corrupt image/label: cannot identify image file '/content/drive/MyDrive/archive (43)/auto/Datacluster_auto (13).jpg'\n",
            "\u001b[34m\u001b[1mtrain: \u001b[0mWARNING ⚠️ /content/drive/MyDrive/archive (43)/auto/Datacluster_auto (14).jpg: ignoring corrupt image/label: cannot identify image file '/content/drive/MyDrive/archive (43)/auto/Datacluster_auto (14).jpg'\n",
            "\u001b[34m\u001b[1mtrain: \u001b[0mWARNING ⚠️ /content/drive/MyDrive/archive (43)/auto/Datacluster_auto (15).jpg: ignoring corrupt image/label: cannot identify image file '/content/drive/MyDrive/archive (43)/auto/Datacluster_auto (15).jpg'\n",
            "\u001b[34m\u001b[1mtrain: \u001b[0mWARNING ⚠️ /content/drive/MyDrive/archive (43)/auto/Datacluster_auto (16).jpg: ignoring corrupt image/label: cannot identify image file '/content/drive/MyDrive/archive (43)/auto/Datacluster_auto (16).jpg'\n",
            "\u001b[34m\u001b[1mtrain: \u001b[0mWARNING ⚠️ /content/drive/MyDrive/archive (43)/auto/Datacluster_auto (17).jpg: ignoring corrupt image/label: cannot identify image file '/content/drive/MyDrive/archive (43)/auto/Datacluster_auto (17).jpg'\n",
            "\u001b[34m\u001b[1mtrain: \u001b[0mWARNING ⚠️ /content/drive/MyDrive/archive (43)/auto/Datacluster_auto (18).jpg: ignoring corrupt image/label: cannot identify image file '/content/drive/MyDrive/archive (43)/auto/Datacluster_auto (18).jpg'\n",
            "\u001b[34m\u001b[1mtrain: \u001b[0mWARNING ⚠️ /content/drive/MyDrive/archive (43)/auto/Datacluster_auto (19).jpg: ignoring corrupt image/label: cannot identify image file '/content/drive/MyDrive/archive (43)/auto/Datacluster_auto (19).jpg'\n",
            "\u001b[34m\u001b[1mtrain: \u001b[0mWARNING ⚠️ /content/drive/MyDrive/archive (43)/auto/Datacluster_auto (2).jpg: ignoring corrupt image/label: cannot identify image file '/content/drive/MyDrive/archive (43)/auto/Datacluster_auto (2).jpg'\n",
            "\u001b[34m\u001b[1mtrain: \u001b[0mWARNING ⚠️ /content/drive/MyDrive/archive (43)/auto/Datacluster_auto (20).jpg: ignoring corrupt image/label: cannot identify image file '/content/drive/MyDrive/archive (43)/auto/Datacluster_auto (20).jpg'\n",
            "\u001b[34m\u001b[1mtrain: \u001b[0mWARNING ⚠️ /content/drive/MyDrive/archive (43)/auto/Datacluster_auto (21).jpg: ignoring corrupt image/label: cannot identify image file '/content/drive/MyDrive/archive (43)/auto/Datacluster_auto (21).jpg'\n",
            "\u001b[34m\u001b[1mtrain: \u001b[0mWARNING ⚠️ /content/drive/MyDrive/archive (43)/auto/Datacluster_auto (22).jpg: ignoring corrupt image/label: cannot identify image file '/content/drive/MyDrive/archive (43)/auto/Datacluster_auto (22).jpg'\n",
            "\u001b[34m\u001b[1mtrain: \u001b[0mWARNING ⚠️ /content/drive/MyDrive/archive (43)/auto/Datacluster_auto (23).jpg: ignoring corrupt image/label: cannot identify image file '/content/drive/MyDrive/archive (43)/auto/Datacluster_auto (23).jpg'\n",
            "\u001b[34m\u001b[1mtrain: \u001b[0mWARNING ⚠️ /content/drive/MyDrive/archive (43)/auto/Datacluster_auto (24).jpg: ignoring corrupt image/label: cannot identify image file '/content/drive/MyDrive/archive (43)/auto/Datacluster_auto (24).jpg'\n",
            "\u001b[34m\u001b[1mtrain: \u001b[0mWARNING ⚠️ /content/drive/MyDrive/archive (43)/auto/Datacluster_auto (25).jpg: ignoring corrupt image/label: cannot identify image file '/content/drive/MyDrive/archive (43)/auto/Datacluster_auto (25).jpg'\n",
            "\u001b[34m\u001b[1mtrain: \u001b[0mWARNING ⚠️ /content/drive/MyDrive/archive (43)/auto/Datacluster_auto (26).jpg: ignoring corrupt image/label: cannot identify image file '/content/drive/MyDrive/archive (43)/auto/Datacluster_auto (26).jpg'\n",
            "\u001b[34m\u001b[1mtrain: \u001b[0mWARNING ⚠️ /content/drive/MyDrive/archive (43)/auto/Datacluster_auto (27).jpg: ignoring corrupt image/label: cannot identify image file '/content/drive/MyDrive/archive (43)/auto/Datacluster_auto (27).jpg'\n",
            "\u001b[34m\u001b[1mtrain: \u001b[0mWARNING ⚠️ /content/drive/MyDrive/archive (43)/auto/Datacluster_auto (28).jpg: ignoring corrupt image/label: cannot identify image file '/content/drive/MyDrive/archive (43)/auto/Datacluster_auto (28).jpg'\n",
            "\u001b[34m\u001b[1mtrain: \u001b[0mWARNING ⚠️ /content/drive/MyDrive/archive (43)/auto/Datacluster_auto (29).jpg: ignoring corrupt image/label: cannot identify image file '/content/drive/MyDrive/archive (43)/auto/Datacluster_auto (29).jpg'\n",
            "\u001b[34m\u001b[1mtrain: \u001b[0mWARNING ⚠️ /content/drive/MyDrive/archive (43)/auto/Datacluster_auto (3).jpg: ignoring corrupt image/label: cannot identify image file '/content/drive/MyDrive/archive (43)/auto/Datacluster_auto (3).jpg'\n",
            "\u001b[34m\u001b[1mtrain: \u001b[0mWARNING ⚠️ /content/drive/MyDrive/archive (43)/auto/Datacluster_auto (30).jpg: ignoring corrupt image/label: cannot identify image file '/content/drive/MyDrive/archive (43)/auto/Datacluster_auto (30).jpg'\n",
            "\u001b[34m\u001b[1mtrain: \u001b[0mWARNING ⚠️ /content/drive/MyDrive/archive (43)/auto/Datacluster_auto (4).jpg: ignoring corrupt image/label: cannot identify image file '/content/drive/MyDrive/archive (43)/auto/Datacluster_auto (4).jpg'\n",
            "\u001b[34m\u001b[1mtrain: \u001b[0mWARNING ⚠️ /content/drive/MyDrive/archive (43)/auto/Datacluster_auto (5).jpg: ignoring corrupt image/label: cannot identify image file '/content/drive/MyDrive/archive (43)/auto/Datacluster_auto (5).jpg'\n",
            "\u001b[34m\u001b[1mtrain: \u001b[0mWARNING ⚠️ /content/drive/MyDrive/archive (43)/auto/Datacluster_auto (6).jpg: ignoring corrupt image/label: cannot identify image file '/content/drive/MyDrive/archive (43)/auto/Datacluster_auto (6).jpg'\n",
            "\u001b[34m\u001b[1mtrain: \u001b[0mWARNING ⚠️ /content/drive/MyDrive/archive (43)/auto/Datacluster_auto (7).jpg: ignoring corrupt image/label: cannot identify image file '/content/drive/MyDrive/archive (43)/auto/Datacluster_auto (7).jpg'\n",
            "\u001b[34m\u001b[1mtrain: \u001b[0mWARNING ⚠️ /content/drive/MyDrive/archive (43)/auto/Datacluster_auto (8).jpg: ignoring corrupt image/label: cannot identify image file '/content/drive/MyDrive/archive (43)/auto/Datacluster_auto (8).jpg'\n",
            "\u001b[34m\u001b[1mtrain: \u001b[0mWARNING ⚠️ /content/drive/MyDrive/archive (43)/auto/Datacluster_auto (9).jpg: ignoring corrupt image/label: cannot identify image file '/content/drive/MyDrive/archive (43)/auto/Datacluster_auto (9).jpg'\n",
            "\u001b[34m\u001b[1mtrain: \u001b[0mWARNING ⚠️ /content/drive/MyDrive/archive (43)/bus/Datacluster_bus (1).jpg: ignoring corrupt image/label: cannot identify image file '/content/drive/MyDrive/archive (43)/bus/Datacluster_bus (1).jpg'\n",
            "\u001b[34m\u001b[1mtrain: \u001b[0mWARNING ⚠️ /content/drive/MyDrive/archive (43)/bus/Datacluster_bus (10).jpg: ignoring corrupt image/label: cannot identify image file '/content/drive/MyDrive/archive (43)/bus/Datacluster_bus (10).jpg'\n",
            "\u001b[34m\u001b[1mtrain: \u001b[0mWARNING ⚠️ /content/drive/MyDrive/archive (43)/bus/Datacluster_bus (11).jpg: ignoring corrupt image/label: cannot identify image file '/content/drive/MyDrive/archive (43)/bus/Datacluster_bus (11).jpg'\n",
            "\u001b[34m\u001b[1mtrain: \u001b[0mWARNING ⚠️ /content/drive/MyDrive/archive (43)/bus/Datacluster_bus (12).jpg: ignoring corrupt image/label: cannot identify image file '/content/drive/MyDrive/archive (43)/bus/Datacluster_bus (12).jpg'\n",
            "\u001b[34m\u001b[1mtrain: \u001b[0mWARNING ⚠️ /content/drive/MyDrive/archive (43)/bus/Datacluster_bus (13).jpg: ignoring corrupt image/label: cannot identify image file '/content/drive/MyDrive/archive (43)/bus/Datacluster_bus (13).jpg'\n",
            "\u001b[34m\u001b[1mtrain: \u001b[0mWARNING ⚠️ /content/drive/MyDrive/archive (43)/bus/Datacluster_bus (14).jpg: ignoring corrupt image/label: cannot identify image file '/content/drive/MyDrive/archive (43)/bus/Datacluster_bus (14).jpg'\n",
            "\u001b[34m\u001b[1mtrain: \u001b[0mWARNING ⚠️ /content/drive/MyDrive/archive (43)/bus/Datacluster_bus (15).jpg: ignoring corrupt image/label: cannot identify image file '/content/drive/MyDrive/archive (43)/bus/Datacluster_bus (15).jpg'\n",
            "\u001b[34m\u001b[1mtrain: \u001b[0mWARNING ⚠️ /content/drive/MyDrive/archive (43)/bus/Datacluster_bus (16).jpg: ignoring corrupt image/label: cannot identify image file '/content/drive/MyDrive/archive (43)/bus/Datacluster_bus (16).jpg'\n",
            "\u001b[34m\u001b[1mtrain: \u001b[0mWARNING ⚠️ /content/drive/MyDrive/archive (43)/bus/Datacluster_bus (17).jpg: ignoring corrupt image/label: cannot identify image file '/content/drive/MyDrive/archive (43)/bus/Datacluster_bus (17).jpg'\n",
            "\u001b[34m\u001b[1mtrain: \u001b[0mWARNING ⚠️ /content/drive/MyDrive/archive (43)/bus/Datacluster_bus (18).jpg: ignoring corrupt image/label: cannot identify image file '/content/drive/MyDrive/archive (43)/bus/Datacluster_bus (18).jpg'\n",
            "\u001b[34m\u001b[1mtrain: \u001b[0mWARNING ⚠️ /content/drive/MyDrive/archive (43)/bus/Datacluster_bus (19).jpg: ignoring corrupt image/label: cannot identify image file '/content/drive/MyDrive/archive (43)/bus/Datacluster_bus (19).jpg'\n",
            "\u001b[34m\u001b[1mtrain: \u001b[0mWARNING ⚠️ /content/drive/MyDrive/archive (43)/bus/Datacluster_bus (2).jpg: ignoring corrupt image/label: cannot identify image file '/content/drive/MyDrive/archive (43)/bus/Datacluster_bus (2).jpg'\n",
            "\u001b[34m\u001b[1mtrain: \u001b[0mWARNING ⚠️ /content/drive/MyDrive/archive (43)/bus/Datacluster_bus (20).jpg: ignoring corrupt image/label: cannot identify image file '/content/drive/MyDrive/archive (43)/bus/Datacluster_bus (20).jpg'\n",
            "\u001b[34m\u001b[1mtrain: \u001b[0mWARNING ⚠️ /content/drive/MyDrive/archive (43)/bus/Datacluster_bus (21).jpg: ignoring corrupt image/label: cannot identify image file '/content/drive/MyDrive/archive (43)/bus/Datacluster_bus (21).jpg'\n",
            "\u001b[34m\u001b[1mtrain: \u001b[0mWARNING ⚠️ /content/drive/MyDrive/archive (43)/bus/Datacluster_bus (22).jpg: ignoring corrupt image/label: cannot identify image file '/content/drive/MyDrive/archive (43)/bus/Datacluster_bus (22).jpg'\n",
            "\u001b[34m\u001b[1mtrain: \u001b[0mWARNING ⚠️ /content/drive/MyDrive/archive (43)/bus/Datacluster_bus (23).jpg: ignoring corrupt image/label: cannot identify image file '/content/drive/MyDrive/archive (43)/bus/Datacluster_bus (23).jpg'\n",
            "\u001b[34m\u001b[1mtrain: \u001b[0mWARNING ⚠️ /content/drive/MyDrive/archive (43)/bus/Datacluster_bus (24).jpg: ignoring corrupt image/label: cannot identify image file '/content/drive/MyDrive/archive (43)/bus/Datacluster_bus (24).jpg'\n",
            "\u001b[34m\u001b[1mtrain: \u001b[0mWARNING ⚠️ /content/drive/MyDrive/archive (43)/bus/Datacluster_bus (25).jpg: ignoring corrupt image/label: cannot identify image file '/content/drive/MyDrive/archive (43)/bus/Datacluster_bus (25).jpg'\n",
            "\u001b[34m\u001b[1mtrain: \u001b[0mWARNING ⚠️ /content/drive/MyDrive/archive (43)/bus/Datacluster_bus (26).jpg: ignoring corrupt image/label: cannot identify image file '/content/drive/MyDrive/archive (43)/bus/Datacluster_bus (26).jpg'\n",
            "\u001b[34m\u001b[1mtrain: \u001b[0mWARNING ⚠️ /content/drive/MyDrive/archive (43)/bus/Datacluster_bus (27).jpg: ignoring corrupt image/label: cannot identify image file '/content/drive/MyDrive/archive (43)/bus/Datacluster_bus (27).jpg'\n",
            "\u001b[34m\u001b[1mtrain: \u001b[0mWARNING ⚠️ /content/drive/MyDrive/archive (43)/bus/Datacluster_bus (28).jpg: ignoring corrupt image/label: cannot identify image file '/content/drive/MyDrive/archive (43)/bus/Datacluster_bus (28).jpg'\n",
            "\u001b[34m\u001b[1mtrain: \u001b[0mWARNING ⚠️ /content/drive/MyDrive/archive (43)/bus/Datacluster_bus (29).jpg: ignoring corrupt image/label: cannot identify image file '/content/drive/MyDrive/archive (43)/bus/Datacluster_bus (29).jpg'\n",
            "\u001b[34m\u001b[1mtrain: \u001b[0mWARNING ⚠️ /content/drive/MyDrive/archive (43)/bus/Datacluster_bus (3).jpg: ignoring corrupt image/label: cannot identify image file '/content/drive/MyDrive/archive (43)/bus/Datacluster_bus (3).jpg'\n",
            "\u001b[34m\u001b[1mtrain: \u001b[0mWARNING ⚠️ /content/drive/MyDrive/archive (43)/bus/Datacluster_bus (30).jpg: ignoring corrupt image/label: cannot identify image file '/content/drive/MyDrive/archive (43)/bus/Datacluster_bus (30).jpg'\n",
            "\u001b[34m\u001b[1mtrain: \u001b[0mWARNING ⚠️ /content/drive/MyDrive/archive (43)/bus/Datacluster_bus (31).jpg: ignoring corrupt image/label: cannot identify image file '/content/drive/MyDrive/archive (43)/bus/Datacluster_bus (31).jpg'\n",
            "\u001b[34m\u001b[1mtrain: \u001b[0mWARNING ⚠️ /content/drive/MyDrive/archive (43)/bus/Datacluster_bus (32).jpg: ignoring corrupt image/label: cannot identify image file '/content/drive/MyDrive/archive (43)/bus/Datacluster_bus (32).jpg'\n",
            "\u001b[34m\u001b[1mtrain: \u001b[0mWARNING ⚠️ /content/drive/MyDrive/archive (43)/bus/Datacluster_bus (33).jpg: ignoring corrupt image/label: cannot identify image file '/content/drive/MyDrive/archive (43)/bus/Datacluster_bus (33).jpg'\n",
            "\u001b[34m\u001b[1mtrain: \u001b[0mWARNING ⚠️ /content/drive/MyDrive/archive (43)/bus/Datacluster_bus (34).jpg: ignoring corrupt image/label: cannot identify image file '/content/drive/MyDrive/archive (43)/bus/Datacluster_bus (34).jpg'\n",
            "\u001b[34m\u001b[1mtrain: \u001b[0mWARNING ⚠️ /content/drive/MyDrive/archive (43)/bus/Datacluster_bus (35).jpg: ignoring corrupt image/label: cannot identify image file '/content/drive/MyDrive/archive (43)/bus/Datacluster_bus (35).jpg'\n",
            "\u001b[34m\u001b[1mtrain: \u001b[0mWARNING ⚠️ /content/drive/MyDrive/archive (43)/bus/Datacluster_bus (36).jpg: ignoring corrupt image/label: cannot identify image file '/content/drive/MyDrive/archive (43)/bus/Datacluster_bus (36).jpg'\n",
            "\u001b[34m\u001b[1mtrain: \u001b[0mWARNING ⚠️ /content/drive/MyDrive/archive (43)/bus/Datacluster_bus (37).jpg: ignoring corrupt image/label: cannot identify image file '/content/drive/MyDrive/archive (43)/bus/Datacluster_bus (37).jpg'\n",
            "\u001b[34m\u001b[1mtrain: \u001b[0mWARNING ⚠️ /content/drive/MyDrive/archive (43)/bus/Datacluster_bus (4).jpg: ignoring corrupt image/label: cannot identify image file '/content/drive/MyDrive/archive (43)/bus/Datacluster_bus (4).jpg'\n",
            "\u001b[34m\u001b[1mtrain: \u001b[0mWARNING ⚠️ /content/drive/MyDrive/archive (43)/bus/Datacluster_bus (5).jpg: ignoring corrupt image/label: cannot identify image file '/content/drive/MyDrive/archive (43)/bus/Datacluster_bus (5).jpg'\n",
            "\u001b[34m\u001b[1mtrain: \u001b[0mWARNING ⚠️ /content/drive/MyDrive/archive (43)/bus/Datacluster_bus (6).jpg: ignoring corrupt image/label: cannot identify image file '/content/drive/MyDrive/archive (43)/bus/Datacluster_bus (6).jpg'\n",
            "\u001b[34m\u001b[1mtrain: \u001b[0mWARNING ⚠️ /content/drive/MyDrive/archive (43)/bus/Datacluster_bus (7).jpg: ignoring corrupt image/label: cannot identify image file '/content/drive/MyDrive/archive (43)/bus/Datacluster_bus (7).jpg'\n",
            "\u001b[34m\u001b[1mtrain: \u001b[0mWARNING ⚠️ /content/drive/MyDrive/archive (43)/bus/Datacluster_bus (8).jpg: ignoring corrupt image/label: cannot identify image file '/content/drive/MyDrive/archive (43)/bus/Datacluster_bus (8).jpg'\n",
            "\u001b[34m\u001b[1mtrain: \u001b[0mWARNING ⚠️ /content/drive/MyDrive/archive (43)/bus/Datacluster_bus (9).jpg: ignoring corrupt image/label: cannot identify image file '/content/drive/MyDrive/archive (43)/bus/Datacluster_bus (9).jpg'\n",
            "\u001b[34m\u001b[1mtrain: \u001b[0mWARNING ⚠️ /content/drive/MyDrive/archive (43)/tractor/Datacluster_tracktor (1).jpg: ignoring corrupt image/label: cannot identify image file '/content/drive/MyDrive/archive (43)/tractor/Datacluster_tracktor (1).jpg'\n",
            "\u001b[34m\u001b[1mtrain: \u001b[0mWARNING ⚠️ /content/drive/MyDrive/archive (43)/tractor/Datacluster_tracktor (10).jpg: ignoring corrupt image/label: cannot identify image file '/content/drive/MyDrive/archive (43)/tractor/Datacluster_tracktor (10).jpg'\n",
            "\u001b[34m\u001b[1mtrain: \u001b[0mWARNING ⚠️ /content/drive/MyDrive/archive (43)/tractor/Datacluster_tracktor (11).jpg: ignoring corrupt image/label: cannot identify image file '/content/drive/MyDrive/archive (43)/tractor/Datacluster_tracktor (11).jpg'\n",
            "\u001b[34m\u001b[1mtrain: \u001b[0mWARNING ⚠️ /content/drive/MyDrive/archive (43)/tractor/Datacluster_tracktor (12).jpg: ignoring corrupt image/label: cannot identify image file '/content/drive/MyDrive/archive (43)/tractor/Datacluster_tracktor (12).jpg'\n",
            "\u001b[34m\u001b[1mtrain: \u001b[0mWARNING ⚠️ /content/drive/MyDrive/archive (43)/tractor/Datacluster_tracktor (13).jpg: ignoring corrupt image/label: cannot identify image file '/content/drive/MyDrive/archive (43)/tractor/Datacluster_tracktor (13).jpg'\n",
            "\u001b[34m\u001b[1mtrain: \u001b[0mWARNING ⚠️ /content/drive/MyDrive/archive (43)/tractor/Datacluster_tracktor (14).jpg: ignoring corrupt image/label: cannot identify image file '/content/drive/MyDrive/archive (43)/tractor/Datacluster_tracktor (14).jpg'\n",
            "\u001b[34m\u001b[1mtrain: \u001b[0mWARNING ⚠️ /content/drive/MyDrive/archive (43)/tractor/Datacluster_tracktor (15).jpg: ignoring corrupt image/label: cannot identify image file '/content/drive/MyDrive/archive (43)/tractor/Datacluster_tracktor (15).jpg'\n",
            "\u001b[34m\u001b[1mtrain: \u001b[0mWARNING ⚠️ /content/drive/MyDrive/archive (43)/tractor/Datacluster_tracktor (16).jpg: ignoring corrupt image/label: cannot identify image file '/content/drive/MyDrive/archive (43)/tractor/Datacluster_tracktor (16).jpg'\n",
            "\u001b[34m\u001b[1mtrain: \u001b[0mWARNING ⚠️ /content/drive/MyDrive/archive (43)/tractor/Datacluster_tracktor (17).jpg: ignoring corrupt image/label: cannot identify image file '/content/drive/MyDrive/archive (43)/tractor/Datacluster_tracktor (17).jpg'\n",
            "\u001b[34m\u001b[1mtrain: \u001b[0mWARNING ⚠️ /content/drive/MyDrive/archive (43)/tractor/Datacluster_tracktor (18).jpg: ignoring corrupt image/label: cannot identify image file '/content/drive/MyDrive/archive (43)/tractor/Datacluster_tracktor (18).jpg'\n",
            "\u001b[34m\u001b[1mtrain: \u001b[0mWARNING ⚠️ /content/drive/MyDrive/archive (43)/tractor/Datacluster_tracktor (19).jpg: ignoring corrupt image/label: cannot identify image file '/content/drive/MyDrive/archive (43)/tractor/Datacluster_tracktor (19).jpg'\n",
            "\u001b[34m\u001b[1mtrain: \u001b[0mWARNING ⚠️ /content/drive/MyDrive/archive (43)/tractor/Datacluster_tracktor (2).jpg: ignoring corrupt image/label: cannot identify image file '/content/drive/MyDrive/archive (43)/tractor/Datacluster_tracktor (2).jpg'\n",
            "\u001b[34m\u001b[1mtrain: \u001b[0mWARNING ⚠️ /content/drive/MyDrive/archive (43)/tractor/Datacluster_tracktor (20).jpg: ignoring corrupt image/label: cannot identify image file '/content/drive/MyDrive/archive (43)/tractor/Datacluster_tracktor (20).jpg'\n",
            "\u001b[34m\u001b[1mtrain: \u001b[0mWARNING ⚠️ /content/drive/MyDrive/archive (43)/tractor/Datacluster_tracktor (21).jpg: ignoring corrupt image/label: cannot identify image file '/content/drive/MyDrive/archive (43)/tractor/Datacluster_tracktor (21).jpg'\n",
            "\u001b[34m\u001b[1mtrain: \u001b[0mWARNING ⚠️ /content/drive/MyDrive/archive (43)/tractor/Datacluster_tracktor (22).jpg: ignoring corrupt image/label: cannot identify image file '/content/drive/MyDrive/archive (43)/tractor/Datacluster_tracktor (22).jpg'\n",
            "\u001b[34m\u001b[1mtrain: \u001b[0mWARNING ⚠️ /content/drive/MyDrive/archive (43)/tractor/Datacluster_tracktor (23).jpg: ignoring corrupt image/label: cannot identify image file '/content/drive/MyDrive/archive (43)/tractor/Datacluster_tracktor (23).jpg'\n",
            "\u001b[34m\u001b[1mtrain: \u001b[0mWARNING ⚠️ /content/drive/MyDrive/archive (43)/tractor/Datacluster_tracktor (24).jpg: ignoring corrupt image/label: cannot identify image file '/content/drive/MyDrive/archive (43)/tractor/Datacluster_tracktor (24).jpg'\n",
            "\u001b[34m\u001b[1mtrain: \u001b[0mWARNING ⚠️ /content/drive/MyDrive/archive (43)/tractor/Datacluster_tracktor (25).jpg: ignoring corrupt image/label: cannot identify image file '/content/drive/MyDrive/archive (43)/tractor/Datacluster_tracktor (25).jpg'\n",
            "\u001b[34m\u001b[1mtrain: \u001b[0mWARNING ⚠️ /content/drive/MyDrive/archive (43)/tractor/Datacluster_tracktor (26).jpg: ignoring corrupt image/label: cannot identify image file '/content/drive/MyDrive/archive (43)/tractor/Datacluster_tracktor (26).jpg'\n",
            "\u001b[34m\u001b[1mtrain: \u001b[0mWARNING ⚠️ /content/drive/MyDrive/archive (43)/tractor/Datacluster_tracktor (27).jpg: ignoring corrupt image/label: cannot identify image file '/content/drive/MyDrive/archive (43)/tractor/Datacluster_tracktor (27).jpg'\n",
            "\u001b[34m\u001b[1mtrain: \u001b[0mWARNING ⚠️ /content/drive/MyDrive/archive (43)/tractor/Datacluster_tracktor (28).jpg: ignoring corrupt image/label: cannot identify image file '/content/drive/MyDrive/archive (43)/tractor/Datacluster_tracktor (28).jpg'\n",
            "\u001b[34m\u001b[1mtrain: \u001b[0mWARNING ⚠️ /content/drive/MyDrive/archive (43)/tractor/Datacluster_tracktor (29).jpg: ignoring corrupt image/label: cannot identify image file '/content/drive/MyDrive/archive (43)/tractor/Datacluster_tracktor (29).jpg'\n",
            "\u001b[34m\u001b[1mtrain: \u001b[0mWARNING ⚠️ /content/drive/MyDrive/archive (43)/tractor/Datacluster_tracktor (3).jpg: ignoring corrupt image/label: cannot identify image file '/content/drive/MyDrive/archive (43)/tractor/Datacluster_tracktor (3).jpg'\n",
            "\u001b[34m\u001b[1mtrain: \u001b[0mWARNING ⚠️ /content/drive/MyDrive/archive (43)/tractor/Datacluster_tracktor (30).jpg: ignoring corrupt image/label: cannot identify image file '/content/drive/MyDrive/archive (43)/tractor/Datacluster_tracktor (30).jpg'\n",
            "\u001b[34m\u001b[1mtrain: \u001b[0mWARNING ⚠️ /content/drive/MyDrive/archive (43)/tractor/Datacluster_tracktor (31).jpg: ignoring corrupt image/label: cannot identify image file '/content/drive/MyDrive/archive (43)/tractor/Datacluster_tracktor (31).jpg'\n",
            "\u001b[34m\u001b[1mtrain: \u001b[0mWARNING ⚠️ /content/drive/MyDrive/archive (43)/tractor/Datacluster_tracktor (32).jpg: ignoring corrupt image/label: cannot identify image file '/content/drive/MyDrive/archive (43)/tractor/Datacluster_tracktor (32).jpg'\n",
            "\u001b[34m\u001b[1mtrain: \u001b[0mWARNING ⚠️ /content/drive/MyDrive/archive (43)/tractor/Datacluster_tracktor (33).jpg: ignoring corrupt image/label: cannot identify image file '/content/drive/MyDrive/archive (43)/tractor/Datacluster_tracktor (33).jpg'\n",
            "\u001b[34m\u001b[1mtrain: \u001b[0mWARNING ⚠️ /content/drive/MyDrive/archive (43)/tractor/Datacluster_tracktor (34).jpg: ignoring corrupt image/label: cannot identify image file '/content/drive/MyDrive/archive (43)/tractor/Datacluster_tracktor (34).jpg'\n",
            "\u001b[34m\u001b[1mtrain: \u001b[0mWARNING ⚠️ /content/drive/MyDrive/archive (43)/tractor/Datacluster_tracktor (35).jpg: ignoring corrupt image/label: cannot identify image file '/content/drive/MyDrive/archive (43)/tractor/Datacluster_tracktor (35).jpg'\n",
            "\u001b[34m\u001b[1mtrain: \u001b[0mWARNING ⚠️ /content/drive/MyDrive/archive (43)/tractor/Datacluster_tracktor (36).jpg: ignoring corrupt image/label: cannot identify image file '/content/drive/MyDrive/archive (43)/tractor/Datacluster_tracktor (36).jpg'\n",
            "\u001b[34m\u001b[1mtrain: \u001b[0mWARNING ⚠️ /content/drive/MyDrive/archive (43)/tractor/Datacluster_tracktor (37).jpg: ignoring corrupt image/label: cannot identify image file '/content/drive/MyDrive/archive (43)/tractor/Datacluster_tracktor (37).jpg'\n",
            "\u001b[34m\u001b[1mtrain: \u001b[0mWARNING ⚠️ /content/drive/MyDrive/archive (43)/tractor/Datacluster_tracktor (38).jpg: ignoring corrupt image/label: cannot identify image file '/content/drive/MyDrive/archive (43)/tractor/Datacluster_tracktor (38).jpg'\n",
            "\u001b[34m\u001b[1mtrain: \u001b[0mWARNING ⚠️ /content/drive/MyDrive/archive (43)/tractor/Datacluster_tracktor (39).jpg: ignoring corrupt image/label: cannot identify image file '/content/drive/MyDrive/archive (43)/tractor/Datacluster_tracktor (39).jpg'\n",
            "\u001b[34m\u001b[1mtrain: \u001b[0mWARNING ⚠️ /content/drive/MyDrive/archive (43)/tractor/Datacluster_tracktor (4).jpg: ignoring corrupt image/label: cannot identify image file '/content/drive/MyDrive/archive (43)/tractor/Datacluster_tracktor (4).jpg'\n",
            "\u001b[34m\u001b[1mtrain: \u001b[0mWARNING ⚠️ /content/drive/MyDrive/archive (43)/tractor/Datacluster_tracktor (40).jpg: ignoring corrupt image/label: cannot identify image file '/content/drive/MyDrive/archive (43)/tractor/Datacluster_tracktor (40).jpg'\n",
            "\u001b[34m\u001b[1mtrain: \u001b[0mWARNING ⚠️ /content/drive/MyDrive/archive (43)/tractor/Datacluster_tracktor (41).jpg: ignoring corrupt image/label: cannot identify image file '/content/drive/MyDrive/archive (43)/tractor/Datacluster_tracktor (41).jpg'\n",
            "\u001b[34m\u001b[1mtrain: \u001b[0mWARNING ⚠️ /content/drive/MyDrive/archive (43)/tractor/Datacluster_tracktor (42).jpg: ignoring corrupt image/label: cannot identify image file '/content/drive/MyDrive/archive (43)/tractor/Datacluster_tracktor (42).jpg'\n",
            "\u001b[34m\u001b[1mtrain: \u001b[0mWARNING ⚠️ /content/drive/MyDrive/archive (43)/tractor/Datacluster_tracktor (5).jpg: ignoring corrupt image/label: cannot identify image file '/content/drive/MyDrive/archive (43)/tractor/Datacluster_tracktor (5).jpg'\n",
            "\u001b[34m\u001b[1mtrain: \u001b[0mWARNING ⚠️ /content/drive/MyDrive/archive (43)/tractor/Datacluster_tracktor (6).jpg: ignoring corrupt image/label: cannot identify image file '/content/drive/MyDrive/archive (43)/tractor/Datacluster_tracktor (6).jpg'\n",
            "\u001b[34m\u001b[1mtrain: \u001b[0mWARNING ⚠️ /content/drive/MyDrive/archive (43)/tractor/Datacluster_tracktor (7).jpg: ignoring corrupt image/label: cannot identify image file '/content/drive/MyDrive/archive (43)/tractor/Datacluster_tracktor (7).jpg'\n",
            "\u001b[34m\u001b[1mtrain: \u001b[0mWARNING ⚠️ /content/drive/MyDrive/archive (43)/tractor/Datacluster_tracktor (8).jpg: ignoring corrupt image/label: cannot identify image file '/content/drive/MyDrive/archive (43)/tractor/Datacluster_tracktor (8).jpg'\n",
            "\u001b[34m\u001b[1mtrain: \u001b[0mWARNING ⚠️ /content/drive/MyDrive/archive (43)/tractor/Datacluster_tracktor (9).jpg: ignoring corrupt image/label: cannot identify image file '/content/drive/MyDrive/archive (43)/tractor/Datacluster_tracktor (9).jpg'\n",
            "\u001b[34m\u001b[1mtrain: \u001b[0mWARNING ⚠️ /content/drive/MyDrive/archive (43)/tru├ºk/Datacluster_truck (1).jpg: ignoring corrupt image/label: cannot identify image file '/content/drive/MyDrive/archive (43)/tru├ºk/Datacluster_truck (1).jpg'\n",
            "\u001b[34m\u001b[1mtrain: \u001b[0mWARNING ⚠️ /content/drive/MyDrive/archive (43)/tru├ºk/Datacluster_truck (10).jpg: ignoring corrupt image/label: cannot identify image file '/content/drive/MyDrive/archive (43)/tru├ºk/Datacluster_truck (10).jpg'\n",
            "\u001b[34m\u001b[1mtrain: \u001b[0mWARNING ⚠️ /content/drive/MyDrive/archive (43)/tru├ºk/Datacluster_truck (11).jpg: ignoring corrupt image/label: cannot identify image file '/content/drive/MyDrive/archive (43)/tru├ºk/Datacluster_truck (11).jpg'\n",
            "\u001b[34m\u001b[1mtrain: \u001b[0mWARNING ⚠️ /content/drive/MyDrive/archive (43)/tru├ºk/Datacluster_truck (12).jpg: ignoring corrupt image/label: cannot identify image file '/content/drive/MyDrive/archive (43)/tru├ºk/Datacluster_truck (12).jpg'\n",
            "\u001b[34m\u001b[1mtrain: \u001b[0mWARNING ⚠️ /content/drive/MyDrive/archive (43)/tru├ºk/Datacluster_truck (13).jpg: ignoring corrupt image/label: cannot identify image file '/content/drive/MyDrive/archive (43)/tru├ºk/Datacluster_truck (13).jpg'\n",
            "\u001b[34m\u001b[1mtrain: \u001b[0mWARNING ⚠️ /content/drive/MyDrive/archive (43)/tru├ºk/Datacluster_truck (14).jpg: ignoring corrupt image/label: cannot identify image file '/content/drive/MyDrive/archive (43)/tru├ºk/Datacluster_truck (14).jpg'\n",
            "\u001b[34m\u001b[1mtrain: \u001b[0mWARNING ⚠️ /content/drive/MyDrive/archive (43)/tru├ºk/Datacluster_truck (15).jpg: ignoring corrupt image/label: cannot identify image file '/content/drive/MyDrive/archive (43)/tru├ºk/Datacluster_truck (15).jpg'\n",
            "\u001b[34m\u001b[1mtrain: \u001b[0mWARNING ⚠️ /content/drive/MyDrive/archive (43)/tru├ºk/Datacluster_truck (16).jpg: ignoring corrupt image/label: cannot identify image file '/content/drive/MyDrive/archive (43)/tru├ºk/Datacluster_truck (16).jpg'\n",
            "\u001b[34m\u001b[1mtrain: \u001b[0mWARNING ⚠️ /content/drive/MyDrive/archive (43)/tru├ºk/Datacluster_truck (17).jpg: ignoring corrupt image/label: cannot identify image file '/content/drive/MyDrive/archive (43)/tru├ºk/Datacluster_truck (17).jpg'\n",
            "\u001b[34m\u001b[1mtrain: \u001b[0mWARNING ⚠️ /content/drive/MyDrive/archive (43)/tru├ºk/Datacluster_truck (18).jpg: ignoring corrupt image/label: cannot identify image file '/content/drive/MyDrive/archive (43)/tru├ºk/Datacluster_truck (18).jpg'\n",
            "\u001b[34m\u001b[1mtrain: \u001b[0mWARNING ⚠️ /content/drive/MyDrive/archive (43)/tru├ºk/Datacluster_truck (19).jpg: ignoring corrupt image/label: cannot identify image file '/content/drive/MyDrive/archive (43)/tru├ºk/Datacluster_truck (19).jpg'\n",
            "\u001b[34m\u001b[1mtrain: \u001b[0mWARNING ⚠️ /content/drive/MyDrive/archive (43)/tru├ºk/Datacluster_truck (2).jpg: ignoring corrupt image/label: cannot identify image file '/content/drive/MyDrive/archive (43)/tru├ºk/Datacluster_truck (2).jpg'\n",
            "\u001b[34m\u001b[1mtrain: \u001b[0mWARNING ⚠️ /content/drive/MyDrive/archive (43)/tru├ºk/Datacluster_truck (20).jpg: ignoring corrupt image/label: cannot identify image file '/content/drive/MyDrive/archive (43)/tru├ºk/Datacluster_truck (20).jpg'\n",
            "\u001b[34m\u001b[1mtrain: \u001b[0mWARNING ⚠️ /content/drive/MyDrive/archive (43)/tru├ºk/Datacluster_truck (21).jpg: ignoring corrupt image/label: cannot identify image file '/content/drive/MyDrive/archive (43)/tru├ºk/Datacluster_truck (21).jpg'\n",
            "\u001b[34m\u001b[1mtrain: \u001b[0mWARNING ⚠️ /content/drive/MyDrive/archive (43)/tru├ºk/Datacluster_truck (22).jpg: ignoring corrupt image/label: cannot identify image file '/content/drive/MyDrive/archive (43)/tru├ºk/Datacluster_truck (22).jpg'\n",
            "\u001b[34m\u001b[1mtrain: \u001b[0mWARNING ⚠️ /content/drive/MyDrive/archive (43)/tru├ºk/Datacluster_truck (23).jpg: ignoring corrupt image/label: cannot identify image file '/content/drive/MyDrive/archive (43)/tru├ºk/Datacluster_truck (23).jpg'\n",
            "\u001b[34m\u001b[1mtrain: \u001b[0mWARNING ⚠️ /content/drive/MyDrive/archive (43)/tru├ºk/Datacluster_truck (24).jpg: ignoring corrupt image/label: cannot identify image file '/content/drive/MyDrive/archive (43)/tru├ºk/Datacluster_truck (24).jpg'\n",
            "\u001b[34m\u001b[1mtrain: \u001b[0mWARNING ⚠️ /content/drive/MyDrive/archive (43)/tru├ºk/Datacluster_truck (25).jpg: ignoring corrupt image/label: cannot identify image file '/content/drive/MyDrive/archive (43)/tru├ºk/Datacluster_truck (25).jpg'\n",
            "\u001b[34m\u001b[1mtrain: \u001b[0mWARNING ⚠️ /content/drive/MyDrive/archive (43)/tru├ºk/Datacluster_truck (26).jpg: ignoring corrupt image/label: cannot identify image file '/content/drive/MyDrive/archive (43)/tru├ºk/Datacluster_truck (26).jpg'\n",
            "\u001b[34m\u001b[1mtrain: \u001b[0mWARNING ⚠️ /content/drive/MyDrive/archive (43)/tru├ºk/Datacluster_truck (27).jpg: ignoring corrupt image/label: cannot identify image file '/content/drive/MyDrive/archive (43)/tru├ºk/Datacluster_truck (27).jpg'\n",
            "\u001b[34m\u001b[1mtrain: \u001b[0mWARNING ⚠️ /content/drive/MyDrive/archive (43)/tru├ºk/Datacluster_truck (28).jpg: ignoring corrupt image/label: cannot identify image file '/content/drive/MyDrive/archive (43)/tru├ºk/Datacluster_truck (28).jpg'\n",
            "\u001b[34m\u001b[1mtrain: \u001b[0mWARNING ⚠️ /content/drive/MyDrive/archive (43)/tru├ºk/Datacluster_truck (29).jpg: ignoring corrupt image/label: cannot identify image file '/content/drive/MyDrive/archive (43)/tru├ºk/Datacluster_truck (29).jpg'\n",
            "\u001b[34m\u001b[1mtrain: \u001b[0mWARNING ⚠️ /content/drive/MyDrive/archive (43)/tru├ºk/Datacluster_truck (3).jpg: ignoring corrupt image/label: cannot identify image file '/content/drive/MyDrive/archive (43)/tru├ºk/Datacluster_truck (3).jpg'\n",
            "\u001b[34m\u001b[1mtrain: \u001b[0mWARNING ⚠️ /content/drive/MyDrive/archive (43)/tru├ºk/Datacluster_truck (30).jpg: ignoring corrupt image/label: cannot identify image file '/content/drive/MyDrive/archive (43)/tru├ºk/Datacluster_truck (30).jpg'\n",
            "\u001b[34m\u001b[1mtrain: \u001b[0mWARNING ⚠️ /content/drive/MyDrive/archive (43)/tru├ºk/Datacluster_truck (31).jpg: ignoring corrupt image/label: cannot identify image file '/content/drive/MyDrive/archive (43)/tru├ºk/Datacluster_truck (31).jpg'\n",
            "\u001b[34m\u001b[1mtrain: \u001b[0mWARNING ⚠️ /content/drive/MyDrive/archive (43)/tru├ºk/Datacluster_truck (32).jpg: ignoring corrupt image/label: cannot identify image file '/content/drive/MyDrive/archive (43)/tru├ºk/Datacluster_truck (32).jpg'\n",
            "\u001b[34m\u001b[1mtrain: \u001b[0mWARNING ⚠️ /content/drive/MyDrive/archive (43)/tru├ºk/Datacluster_truck (33).jpg: ignoring corrupt image/label: cannot identify image file '/content/drive/MyDrive/archive (43)/tru├ºk/Datacluster_truck (33).jpg'\n",
            "\u001b[34m\u001b[1mtrain: \u001b[0mWARNING ⚠️ /content/drive/MyDrive/archive (43)/tru├ºk/Datacluster_truck (34).jpg: ignoring corrupt image/label: cannot identify image file '/content/drive/MyDrive/archive (43)/tru├ºk/Datacluster_truck (34).jpg'\n",
            "\u001b[34m\u001b[1mtrain: \u001b[0mWARNING ⚠️ /content/drive/MyDrive/archive (43)/tru├ºk/Datacluster_truck (35).jpg: ignoring corrupt image/label: cannot identify image file '/content/drive/MyDrive/archive (43)/tru├ºk/Datacluster_truck (35).jpg'\n",
            "\u001b[34m\u001b[1mtrain: \u001b[0mWARNING ⚠️ /content/drive/MyDrive/archive (43)/tru├ºk/Datacluster_truck (36).jpg: ignoring corrupt image/label: cannot identify image file '/content/drive/MyDrive/archive (43)/tru├ºk/Datacluster_truck (36).jpg'\n",
            "\u001b[34m\u001b[1mtrain: \u001b[0mWARNING ⚠️ /content/drive/MyDrive/archive (43)/tru├ºk/Datacluster_truck (37).jpg: ignoring corrupt image/label: cannot identify image file '/content/drive/MyDrive/archive (43)/tru├ºk/Datacluster_truck (37).jpg'\n",
            "\u001b[34m\u001b[1mtrain: \u001b[0mWARNING ⚠️ /content/drive/MyDrive/archive (43)/tru├ºk/Datacluster_truck (38).jpg: ignoring corrupt image/label: cannot identify image file '/content/drive/MyDrive/archive (43)/tru├ºk/Datacluster_truck (38).jpg'\n",
            "\u001b[34m\u001b[1mtrain: \u001b[0mWARNING ⚠️ /content/drive/MyDrive/archive (43)/tru├ºk/Datacluster_truck (39).jpg: ignoring corrupt image/label: cannot identify image file '/content/drive/MyDrive/archive (43)/tru├ºk/Datacluster_truck (39).jpg'\n",
            "\u001b[34m\u001b[1mtrain: \u001b[0mWARNING ⚠️ /content/drive/MyDrive/archive (43)/tru├ºk/Datacluster_truck (4).jpg: ignoring corrupt image/label: cannot identify image file '/content/drive/MyDrive/archive (43)/tru├ºk/Datacluster_truck (4).jpg'\n",
            "\u001b[34m\u001b[1mtrain: \u001b[0mWARNING ⚠️ /content/drive/MyDrive/archive (43)/tru├ºk/Datacluster_truck (40).jpg: ignoring corrupt image/label: cannot identify image file '/content/drive/MyDrive/archive (43)/tru├ºk/Datacluster_truck (40).jpg'\n",
            "\u001b[34m\u001b[1mtrain: \u001b[0mWARNING ⚠️ /content/drive/MyDrive/archive (43)/tru├ºk/Datacluster_truck (41).jpg: ignoring corrupt image/label: cannot identify image file '/content/drive/MyDrive/archive (43)/tru├ºk/Datacluster_truck (41).jpg'\n",
            "\u001b[34m\u001b[1mtrain: \u001b[0mWARNING ⚠️ /content/drive/MyDrive/archive (43)/tru├ºk/Datacluster_truck (42).jpg: ignoring corrupt image/label: cannot identify image file '/content/drive/MyDrive/archive (43)/tru├ºk/Datacluster_truck (42).jpg'\n",
            "\u001b[34m\u001b[1mtrain: \u001b[0mWARNING ⚠️ /content/drive/MyDrive/archive (43)/tru├ºk/Datacluster_truck (43).jpg: ignoring corrupt image/label: cannot identify image file '/content/drive/MyDrive/archive (43)/tru├ºk/Datacluster_truck (43).jpg'\n",
            "\u001b[34m\u001b[1mtrain: \u001b[0mWARNING ⚠️ /content/drive/MyDrive/archive (43)/tru├ºk/Datacluster_truck (44).jpg: ignoring corrupt image/label: cannot identify image file '/content/drive/MyDrive/archive (43)/tru├ºk/Datacluster_truck (44).jpg'\n",
            "\u001b[34m\u001b[1mtrain: \u001b[0mWARNING ⚠️ /content/drive/MyDrive/archive (43)/tru├ºk/Datacluster_truck (45).jpg: ignoring corrupt image/label: cannot identify image file '/content/drive/MyDrive/archive (43)/tru├ºk/Datacluster_truck (45).jpg'\n",
            "\u001b[34m\u001b[1mtrain: \u001b[0mWARNING ⚠️ /content/drive/MyDrive/archive (43)/tru├ºk/Datacluster_truck (46).jpg: ignoring corrupt image/label: cannot identify image file '/content/drive/MyDrive/archive (43)/tru├ºk/Datacluster_truck (46).jpg'\n",
            "\u001b[34m\u001b[1mtrain: \u001b[0mWARNING ⚠️ /content/drive/MyDrive/archive (43)/tru├ºk/Datacluster_truck (47).jpg: ignoring corrupt image/label: cannot identify image file '/content/drive/MyDrive/archive (43)/tru├ºk/Datacluster_truck (47).jpg'\n",
            "\u001b[34m\u001b[1mtrain: \u001b[0mWARNING ⚠️ /content/drive/MyDrive/archive (43)/tru├ºk/Datacluster_truck (48).jpg: ignoring corrupt image/label: cannot identify image file '/content/drive/MyDrive/archive (43)/tru├ºk/Datacluster_truck (48).jpg'\n",
            "\u001b[34m\u001b[1mtrain: \u001b[0mWARNING ⚠️ /content/drive/MyDrive/archive (43)/tru├ºk/Datacluster_truck (49).jpg: ignoring corrupt image/label: cannot identify image file '/content/drive/MyDrive/archive (43)/tru├ºk/Datacluster_truck (49).jpg'\n",
            "\u001b[34m\u001b[1mtrain: \u001b[0mWARNING ⚠️ /content/drive/MyDrive/archive (43)/tru├ºk/Datacluster_truck (5).jpg: ignoring corrupt image/label: cannot identify image file '/content/drive/MyDrive/archive (43)/tru├ºk/Datacluster_truck (5).jpg'\n",
            "\u001b[34m\u001b[1mtrain: \u001b[0mWARNING ⚠️ /content/drive/MyDrive/archive (43)/tru├ºk/Datacluster_truck (50).jpg: ignoring corrupt image/label: cannot identify image file '/content/drive/MyDrive/archive (43)/tru├ºk/Datacluster_truck (50).jpg'\n",
            "\u001b[34m\u001b[1mtrain: \u001b[0mWARNING ⚠️ /content/drive/MyDrive/archive (43)/tru├ºk/Datacluster_truck (51).jpg: ignoring corrupt image/label: cannot identify image file '/content/drive/MyDrive/archive (43)/tru├ºk/Datacluster_truck (51).jpg'\n",
            "\u001b[34m\u001b[1mtrain: \u001b[0mWARNING ⚠️ /content/drive/MyDrive/archive (43)/tru├ºk/Datacluster_truck (52).jpg: ignoring corrupt image/label: cannot identify image file '/content/drive/MyDrive/archive (43)/tru├ºk/Datacluster_truck (52).jpg'\n",
            "\u001b[34m\u001b[1mtrain: \u001b[0mWARNING ⚠️ /content/drive/MyDrive/archive (43)/tru├ºk/Datacluster_truck (53).jpg: ignoring corrupt image/label: cannot identify image file '/content/drive/MyDrive/archive (43)/tru├ºk/Datacluster_truck (53).jpg'\n",
            "\u001b[34m\u001b[1mtrain: \u001b[0mWARNING ⚠️ /content/drive/MyDrive/archive (43)/tru├ºk/Datacluster_truck (54).jpg: ignoring corrupt image/label: cannot identify image file '/content/drive/MyDrive/archive (43)/tru├ºk/Datacluster_truck (54).jpg'\n",
            "\u001b[34m\u001b[1mtrain: \u001b[0mWARNING ⚠️ /content/drive/MyDrive/archive (43)/tru├ºk/Datacluster_truck (55).jpg: ignoring corrupt image/label: cannot identify image file '/content/drive/MyDrive/archive (43)/tru├ºk/Datacluster_truck (55).jpg'\n",
            "\u001b[34m\u001b[1mtrain: \u001b[0mWARNING ⚠️ /content/drive/MyDrive/archive (43)/tru├ºk/Datacluster_truck (56).jpg: ignoring corrupt image/label: cannot identify image file '/content/drive/MyDrive/archive (43)/tru├ºk/Datacluster_truck (56).jpg'\n",
            "\u001b[34m\u001b[1mtrain: \u001b[0mWARNING ⚠️ /content/drive/MyDrive/archive (43)/tru├ºk/Datacluster_truck (57).jpg: ignoring corrupt image/label: cannot identify image file '/content/drive/MyDrive/archive (43)/tru├ºk/Datacluster_truck (57).jpg'\n",
            "\u001b[34m\u001b[1mtrain: \u001b[0mWARNING ⚠️ /content/drive/MyDrive/archive (43)/tru├ºk/Datacluster_truck (58).jpg: ignoring corrupt image/label: cannot identify image file '/content/drive/MyDrive/archive (43)/tru├ºk/Datacluster_truck (58).jpg'\n",
            "\u001b[34m\u001b[1mtrain: \u001b[0mWARNING ⚠️ /content/drive/MyDrive/archive (43)/tru├ºk/Datacluster_truck (59).jpg: ignoring corrupt image/label: cannot identify image file '/content/drive/MyDrive/archive (43)/tru├ºk/Datacluster_truck (59).jpg'\n",
            "\u001b[34m\u001b[1mtrain: \u001b[0mWARNING ⚠️ /content/drive/MyDrive/archive (43)/tru├ºk/Datacluster_truck (6).jpg: ignoring corrupt image/label: cannot identify image file '/content/drive/MyDrive/archive (43)/tru├ºk/Datacluster_truck (6).jpg'\n",
            "\u001b[34m\u001b[1mtrain: \u001b[0mWARNING ⚠️ /content/drive/MyDrive/archive (43)/tru├ºk/Datacluster_truck (60).jpg: ignoring corrupt image/label: cannot identify image file '/content/drive/MyDrive/archive (43)/tru├ºk/Datacluster_truck (60).jpg'\n",
            "\u001b[34m\u001b[1mtrain: \u001b[0mWARNING ⚠️ /content/drive/MyDrive/archive (43)/tru├ºk/Datacluster_truck (61).jpg: ignoring corrupt image/label: cannot identify image file '/content/drive/MyDrive/archive (43)/tru├ºk/Datacluster_truck (61).jpg'\n",
            "\u001b[34m\u001b[1mtrain: \u001b[0mWARNING ⚠️ /content/drive/MyDrive/archive (43)/tru├ºk/Datacluster_truck (62).jpg: ignoring corrupt image/label: cannot identify image file '/content/drive/MyDrive/archive (43)/tru├ºk/Datacluster_truck (62).jpg'\n",
            "\u001b[34m\u001b[1mtrain: \u001b[0mWARNING ⚠️ /content/drive/MyDrive/archive (43)/tru├ºk/Datacluster_truck (63).jpg: ignoring corrupt image/label: cannot identify image file '/content/drive/MyDrive/archive (43)/tru├ºk/Datacluster_truck (63).jpg'\n",
            "\u001b[34m\u001b[1mtrain: \u001b[0mWARNING ⚠️ /content/drive/MyDrive/archive (43)/tru├ºk/Datacluster_truck (64).jpg: ignoring corrupt image/label: cannot identify image file '/content/drive/MyDrive/archive (43)/tru├ºk/Datacluster_truck (64).jpg'\n",
            "\u001b[34m\u001b[1mtrain: \u001b[0mWARNING ⚠️ /content/drive/MyDrive/archive (43)/tru├ºk/Datacluster_truck (65).jpg: ignoring corrupt image/label: cannot identify image file '/content/drive/MyDrive/archive (43)/tru├ºk/Datacluster_truck (65).jpg'\n",
            "\u001b[34m\u001b[1mtrain: \u001b[0mWARNING ⚠️ /content/drive/MyDrive/archive (43)/tru├ºk/Datacluster_truck (66).jpg: ignoring corrupt image/label: cannot identify image file '/content/drive/MyDrive/archive (43)/tru├ºk/Datacluster_truck (66).jpg'\n",
            "\u001b[34m\u001b[1mtrain: \u001b[0mWARNING ⚠️ /content/drive/MyDrive/archive (43)/tru├ºk/Datacluster_truck (67).jpg: ignoring corrupt image/label: cannot identify image file '/content/drive/MyDrive/archive (43)/tru├ºk/Datacluster_truck (67).jpg'\n",
            "\u001b[34m\u001b[1mtrain: \u001b[0mWARNING ⚠️ /content/drive/MyDrive/archive (43)/tru├ºk/Datacluster_truck (68).jpg: ignoring corrupt image/label: cannot identify image file '/content/drive/MyDrive/archive (43)/tru├ºk/Datacluster_truck (68).jpg'\n",
            "\u001b[34m\u001b[1mtrain: \u001b[0mWARNING ⚠️ /content/drive/MyDrive/archive (43)/tru├ºk/Datacluster_truck (69).jpg: ignoring corrupt image/label: cannot identify image file '/content/drive/MyDrive/archive (43)/tru├ºk/Datacluster_truck (69).jpg'\n",
            "\u001b[34m\u001b[1mtrain: \u001b[0mWARNING ⚠️ /content/drive/MyDrive/archive (43)/tru├ºk/Datacluster_truck (7).jpg: ignoring corrupt image/label: cannot identify image file '/content/drive/MyDrive/archive (43)/tru├ºk/Datacluster_truck (7).jpg'\n",
            "\u001b[34m\u001b[1mtrain: \u001b[0mWARNING ⚠️ /content/drive/MyDrive/archive (43)/tru├ºk/Datacluster_truck (70).jpg: ignoring corrupt image/label: cannot identify image file '/content/drive/MyDrive/archive (43)/tru├ºk/Datacluster_truck (70).jpg'\n",
            "\u001b[34m\u001b[1mtrain: \u001b[0mWARNING ⚠️ /content/drive/MyDrive/archive (43)/tru├ºk/Datacluster_truck (71).jpg: ignoring corrupt image/label: cannot identify image file '/content/drive/MyDrive/archive (43)/tru├ºk/Datacluster_truck (71).jpg'\n",
            "\u001b[34m\u001b[1mtrain: \u001b[0mWARNING ⚠️ /content/drive/MyDrive/archive (43)/tru├ºk/Datacluster_truck (72).jpg: ignoring corrupt image/label: cannot identify image file '/content/drive/MyDrive/archive (43)/tru├ºk/Datacluster_truck (72).jpg'\n",
            "\u001b[34m\u001b[1mtrain: \u001b[0mWARNING ⚠️ /content/drive/MyDrive/archive (43)/tru├ºk/Datacluster_truck (73).jpg: ignoring corrupt image/label: cannot identify image file '/content/drive/MyDrive/archive (43)/tru├ºk/Datacluster_truck (73).jpg'\n",
            "\u001b[34m\u001b[1mtrain: \u001b[0mWARNING ⚠️ /content/drive/MyDrive/archive (43)/tru├ºk/Datacluster_truck (74).jpg: ignoring corrupt image/label: cannot identify image file '/content/drive/MyDrive/archive (43)/tru├ºk/Datacluster_truck (74).jpg'\n",
            "\u001b[34m\u001b[1mtrain: \u001b[0mWARNING ⚠️ /content/drive/MyDrive/archive (43)/tru├ºk/Datacluster_truck (75).jpg: ignoring corrupt image/label: cannot identify image file '/content/drive/MyDrive/archive (43)/tru├ºk/Datacluster_truck (75).jpg'\n",
            "\u001b[34m\u001b[1mtrain: \u001b[0mWARNING ⚠️ /content/drive/MyDrive/archive (43)/tru├ºk/Datacluster_truck (76).jpg: ignoring corrupt image/label: cannot identify image file '/content/drive/MyDrive/archive (43)/tru├ºk/Datacluster_truck (76).jpg'\n",
            "\u001b[34m\u001b[1mtrain: \u001b[0mWARNING ⚠️ /content/drive/MyDrive/archive (43)/tru├ºk/Datacluster_truck (77).jpg: ignoring corrupt image/label: cannot identify image file '/content/drive/MyDrive/archive (43)/tru├ºk/Datacluster_truck (77).jpg'\n",
            "\u001b[34m\u001b[1mtrain: \u001b[0mWARNING ⚠️ /content/drive/MyDrive/archive (43)/tru├ºk/Datacluster_truck (78).jpg: ignoring corrupt image/label: cannot identify image file '/content/drive/MyDrive/archive (43)/tru├ºk/Datacluster_truck (78).jpg'\n",
            "\u001b[34m\u001b[1mtrain: \u001b[0mWARNING ⚠️ /content/drive/MyDrive/archive (43)/tru├ºk/Datacluster_truck (79).jpg: ignoring corrupt image/label: cannot identify image file '/content/drive/MyDrive/archive (43)/tru├ºk/Datacluster_truck (79).jpg'\n",
            "\u001b[34m\u001b[1mtrain: \u001b[0mWARNING ⚠️ /content/drive/MyDrive/archive (43)/tru├ºk/Datacluster_truck (8).jpg: ignoring corrupt image/label: cannot identify image file '/content/drive/MyDrive/archive (43)/tru├ºk/Datacluster_truck (8).jpg'\n",
            "\u001b[34m\u001b[1mtrain: \u001b[0mWARNING ⚠️ /content/drive/MyDrive/archive (43)/tru├ºk/Datacluster_truck (80).jpg: ignoring corrupt image/label: cannot identify image file '/content/drive/MyDrive/archive (43)/tru├ºk/Datacluster_truck (80).jpg'\n",
            "\u001b[34m\u001b[1mtrain: \u001b[0mWARNING ⚠️ /content/drive/MyDrive/archive (43)/tru├ºk/Datacluster_truck (81).jpg: ignoring corrupt image/label: cannot identify image file '/content/drive/MyDrive/archive (43)/tru├ºk/Datacluster_truck (81).jpg'\n",
            "\u001b[34m\u001b[1mtrain: \u001b[0mWARNING ⚠️ /content/drive/MyDrive/archive (43)/tru├ºk/Datacluster_truck (9).jpg: ignoring corrupt image/label: cannot identify image file '/content/drive/MyDrive/archive (43)/tru├ºk/Datacluster_truck (9).jpg'\n",
            "\u001b[34m\u001b[1mtrain: \u001b[0mWARNING ⚠️ /content/drive/MyDrive/archive (43)/van/Datacluster_van (1).jpg: ignoring corrupt image/label: cannot identify image file '/content/drive/MyDrive/archive (43)/van/Datacluster_van (1).jpg'\n",
            "\u001b[34m\u001b[1mtrain: \u001b[0mWARNING ⚠️ /content/drive/MyDrive/archive (43)/van/Datacluster_van (10).jpg: ignoring corrupt image/label: cannot identify image file '/content/drive/MyDrive/archive (43)/van/Datacluster_van (10).jpg'\n",
            "\u001b[34m\u001b[1mtrain: \u001b[0mWARNING ⚠️ /content/drive/MyDrive/archive (43)/van/Datacluster_van (11).jpg: ignoring corrupt image/label: cannot identify image file '/content/drive/MyDrive/archive (43)/van/Datacluster_van (11).jpg'\n",
            "\u001b[34m\u001b[1mtrain: \u001b[0mWARNING ⚠️ /content/drive/MyDrive/archive (43)/van/Datacluster_van (12).jpg: ignoring corrupt image/label: cannot identify image file '/content/drive/MyDrive/archive (43)/van/Datacluster_van (12).jpg'\n",
            "\u001b[34m\u001b[1mtrain: \u001b[0mWARNING ⚠️ /content/drive/MyDrive/archive (43)/van/Datacluster_van (13).jpg: ignoring corrupt image/label: cannot identify image file '/content/drive/MyDrive/archive (43)/van/Datacluster_van (13).jpg'\n",
            "\u001b[34m\u001b[1mtrain: \u001b[0mWARNING ⚠️ /content/drive/MyDrive/archive (43)/van/Datacluster_van (14).jpg: ignoring corrupt image/label: cannot identify image file '/content/drive/MyDrive/archive (43)/van/Datacluster_van (14).jpg'\n",
            "\u001b[34m\u001b[1mtrain: \u001b[0mWARNING ⚠️ /content/drive/MyDrive/archive (43)/van/Datacluster_van (15).jpg: ignoring corrupt image/label: cannot identify image file '/content/drive/MyDrive/archive (43)/van/Datacluster_van (15).jpg'\n",
            "\u001b[34m\u001b[1mtrain: \u001b[0mWARNING ⚠️ /content/drive/MyDrive/archive (43)/van/Datacluster_van (16).jpg: ignoring corrupt image/label: cannot identify image file '/content/drive/MyDrive/archive (43)/van/Datacluster_van (16).jpg'\n",
            "\u001b[34m\u001b[1mtrain: \u001b[0mWARNING ⚠️ /content/drive/MyDrive/archive (43)/van/Datacluster_van (17).jpg: ignoring corrupt image/label: cannot identify image file '/content/drive/MyDrive/archive (43)/van/Datacluster_van (17).jpg'\n",
            "\u001b[34m\u001b[1mtrain: \u001b[0mWARNING ⚠️ /content/drive/MyDrive/archive (43)/van/Datacluster_van (18).jpg: ignoring corrupt image/label: cannot identify image file '/content/drive/MyDrive/archive (43)/van/Datacluster_van (18).jpg'\n",
            "\u001b[34m\u001b[1mtrain: \u001b[0mWARNING ⚠️ /content/drive/MyDrive/archive (43)/van/Datacluster_van (19).jpg: ignoring corrupt image/label: cannot identify image file '/content/drive/MyDrive/archive (43)/van/Datacluster_van (19).jpg'\n",
            "\u001b[34m\u001b[1mtrain: \u001b[0mWARNING ⚠️ /content/drive/MyDrive/archive (43)/van/Datacluster_van (2).jpg: ignoring corrupt image/label: cannot identify image file '/content/drive/MyDrive/archive (43)/van/Datacluster_van (2).jpg'\n",
            "\u001b[34m\u001b[1mtrain: \u001b[0mWARNING ⚠️ /content/drive/MyDrive/archive (43)/van/Datacluster_van (20).jpg: ignoring corrupt image/label: cannot identify image file '/content/drive/MyDrive/archive (43)/van/Datacluster_van (20).jpg'\n",
            "\u001b[34m\u001b[1mtrain: \u001b[0mWARNING ⚠️ /content/drive/MyDrive/archive (43)/van/Datacluster_van (21).jpg: ignoring corrupt image/label: cannot identify image file '/content/drive/MyDrive/archive (43)/van/Datacluster_van (21).jpg'\n",
            "\u001b[34m\u001b[1mtrain: \u001b[0mWARNING ⚠️ /content/drive/MyDrive/archive (43)/van/Datacluster_van (22).jpg: ignoring corrupt image/label: cannot identify image file '/content/drive/MyDrive/archive (43)/van/Datacluster_van (22).jpg'\n",
            "\u001b[34m\u001b[1mtrain: \u001b[0mWARNING ⚠️ /content/drive/MyDrive/archive (43)/van/Datacluster_van (23).jpg: ignoring corrupt image/label: cannot identify image file '/content/drive/MyDrive/archive (43)/van/Datacluster_van (23).jpg'\n",
            "\u001b[34m\u001b[1mtrain: \u001b[0mWARNING ⚠️ /content/drive/MyDrive/archive (43)/van/Datacluster_van (24).jpg: ignoring corrupt image/label: cannot identify image file '/content/drive/MyDrive/archive (43)/van/Datacluster_van (24).jpg'\n",
            "\u001b[34m\u001b[1mtrain: \u001b[0mWARNING ⚠️ /content/drive/MyDrive/archive (43)/van/Datacluster_van (25).jpg: ignoring corrupt image/label: cannot identify image file '/content/drive/MyDrive/archive (43)/van/Datacluster_van (25).jpg'\n",
            "\u001b[34m\u001b[1mtrain: \u001b[0mWARNING ⚠️ /content/drive/MyDrive/archive (43)/van/Datacluster_van (26).jpg: ignoring corrupt image/label: cannot identify image file '/content/drive/MyDrive/archive (43)/van/Datacluster_van (26).jpg'\n",
            "\u001b[34m\u001b[1mtrain: \u001b[0mWARNING ⚠️ /content/drive/MyDrive/archive (43)/van/Datacluster_van (27).jpg: ignoring corrupt image/label: cannot identify image file '/content/drive/MyDrive/archive (43)/van/Datacluster_van (27).jpg'\n",
            "\u001b[34m\u001b[1mtrain: \u001b[0mWARNING ⚠️ /content/drive/MyDrive/archive (43)/van/Datacluster_van (28).jpg: ignoring corrupt image/label: cannot identify image file '/content/drive/MyDrive/archive (43)/van/Datacluster_van (28).jpg'\n",
            "\u001b[34m\u001b[1mtrain: \u001b[0mWARNING ⚠️ /content/drive/MyDrive/archive (43)/van/Datacluster_van (29).jpg: ignoring corrupt image/label: cannot identify image file '/content/drive/MyDrive/archive (43)/van/Datacluster_van (29).jpg'\n",
            "\u001b[34m\u001b[1mtrain: \u001b[0mWARNING ⚠️ /content/drive/MyDrive/archive (43)/van/Datacluster_van (3).jpg: ignoring corrupt image/label: cannot identify image file '/content/drive/MyDrive/archive (43)/van/Datacluster_van (3).jpg'\n",
            "\u001b[34m\u001b[1mtrain: \u001b[0mWARNING ⚠️ /content/drive/MyDrive/archive (43)/van/Datacluster_van (30).jpg: ignoring corrupt image/label: cannot identify image file '/content/drive/MyDrive/archive (43)/van/Datacluster_van (30).jpg'\n",
            "\u001b[34m\u001b[1mtrain: \u001b[0mWARNING ⚠️ /content/drive/MyDrive/archive (43)/van/Datacluster_van (31).jpg: ignoring corrupt image/label: cannot identify image file '/content/drive/MyDrive/archive (43)/van/Datacluster_van (31).jpg'\n",
            "\u001b[34m\u001b[1mtrain: \u001b[0mWARNING ⚠️ /content/drive/MyDrive/archive (43)/van/Datacluster_van (4).jpg: ignoring corrupt image/label: cannot identify image file '/content/drive/MyDrive/archive (43)/van/Datacluster_van (4).jpg'\n",
            "\u001b[34m\u001b[1mtrain: \u001b[0mWARNING ⚠️ /content/drive/MyDrive/archive (43)/van/Datacluster_van (5).jpg: ignoring corrupt image/label: cannot identify image file '/content/drive/MyDrive/archive (43)/van/Datacluster_van (5).jpg'\n",
            "\u001b[34m\u001b[1mtrain: \u001b[0mWARNING ⚠️ /content/drive/MyDrive/archive (43)/van/Datacluster_van (6).jpg: ignoring corrupt image/label: cannot identify image file '/content/drive/MyDrive/archive (43)/van/Datacluster_van (6).jpg'\n",
            "\u001b[34m\u001b[1mtrain: \u001b[0mWARNING ⚠️ /content/drive/MyDrive/archive (43)/van/Datacluster_van (7).jpg: ignoring corrupt image/label: cannot identify image file '/content/drive/MyDrive/archive (43)/van/Datacluster_van (7).jpg'\n",
            "\u001b[34m\u001b[1mtrain: \u001b[0mWARNING ⚠️ /content/drive/MyDrive/archive (43)/van/Datacluster_van (8).jpg: ignoring corrupt image/label: cannot identify image file '/content/drive/MyDrive/archive (43)/van/Datacluster_van (8).jpg'\n",
            "\u001b[34m\u001b[1mtrain: \u001b[0mWARNING ⚠️ /content/drive/MyDrive/archive (43)/van/Datacluster_van (9).jpg: ignoring corrupt image/label: cannot identify image file '/content/drive/MyDrive/archive (43)/van/Datacluster_van (9).jpg'\n",
            "\u001b[34m\u001b[1mtrain: \u001b[0mWARNING ⚠️ No labels found in /content/drive/MyDrive/archive (43)/auto.cache. See https://docs.ultralytics.com/yolov5/tutorials/train_custom_data\n",
            "\u001b[34m\u001b[1mtrain: \u001b[0mNew cache created: /content/drive/MyDrive/archive (43)/auto.cache\n",
            "Traceback (most recent call last):\n",
            "  File \"/content/yolov5/train.py\", line 986, in <module>\n",
            "    main(opt)\n",
            "  File \"/content/yolov5/train.py\", line 688, in main\n",
            "    train(opt.hyp, opt, device, callbacks)\n",
            "  File \"/content/yolov5/train.py\", line 285, in train\n",
            "    train_loader, dataset = create_dataloader(\n",
            "  File \"/content/yolov5/utils/dataloaders.py\", line 184, in create_dataloader\n",
            "    dataset = LoadImagesAndLabels(\n",
            "  File \"/content/yolov5/utils/dataloaders.py\", line 611, in __init__\n",
            "    assert nf > 0 or not augment, f\"{prefix}No labels found in {cache_path}, can not start training. {HELP_URL}\"\n",
            "AssertionError: \u001b[34m\u001b[1mtrain: \u001b[0mNo labels found in /content/drive/MyDrive/archive (43)/auto.cache, can not start training. See https://docs.ultralytics.com/yolov5/tutorials/train_custom_data\n"
          ]
        }
      ]
    },
    {
      "cell_type": "code",
      "source": [
        "import os\n",
        "import cv2\n",
        "\n",
        "folder = '/content/drive/MyDrive/archive (43)'\n",
        "\n",
        "# Loop through all the subdirectories and files\n",
        "for subdir, dirs, files in os.walk(folder):\n",
        "    for file in files:\n",
        "        # Check if the file is an image by its extension\n",
        "        if file.endswith(('.jpg', '.jpeg', '.png')):\n",
        "            img_path = os.path.join(subdir, file)\n",
        "            try:\n",
        "                img = cv2.imread(img_path)\n",
        "                if img is None:\n",
        "                    print(f\"Could not read the image file {img_path}\")\n",
        "                else:\n",
        "                    print(f\"Successfully read image {img_path}\")\n",
        "            except Exception as e:\n",
        "                print(f\"Error reading {img_path}: {e}\")\n"
      ],
      "metadata": {
        "colab": {
          "base_uri": "https://localhost:8080/",
          "height": 1000
        },
        "id": "LLMzBTprq3Kv",
        "outputId": "20e0e811-f6be-48ed-b3b2-85bb204ff050"
      },
      "execution_count": 23,
      "outputs": [
        {
          "output_type": "stream",
          "name": "stdout",
          "text": [
            "Successfully read image /content/drive/MyDrive/archive (43)/van/Datacluster_van (1).jpg\n",
            "Successfully read image /content/drive/MyDrive/archive (43)/van/Datacluster_van (10).jpg\n",
            "Successfully read image /content/drive/MyDrive/archive (43)/van/Datacluster_van (12).jpg\n",
            "Successfully read image /content/drive/MyDrive/archive (43)/van/Datacluster_van (13).jpg\n",
            "Successfully read image /content/drive/MyDrive/archive (43)/van/Datacluster_van (15).jpg\n",
            "Successfully read image /content/drive/MyDrive/archive (43)/van/Datacluster_van (11).jpg\n",
            "Successfully read image /content/drive/MyDrive/archive (43)/van/Datacluster_van (14).jpg\n",
            "Successfully read image /content/drive/MyDrive/archive (43)/van/Datacluster_van (16).jpg\n",
            "Successfully read image /content/drive/MyDrive/archive (43)/van/Datacluster_van (17).jpg\n",
            "Successfully read image /content/drive/MyDrive/archive (43)/van/Datacluster_van (24).jpg\n",
            "Successfully read image /content/drive/MyDrive/archive (43)/van/Datacluster_van (19).jpg\n",
            "Successfully read image /content/drive/MyDrive/archive (43)/van/Datacluster_van (22).jpg\n",
            "Successfully read image /content/drive/MyDrive/archive (43)/van/Datacluster_van (21).jpg\n",
            "Successfully read image /content/drive/MyDrive/archive (43)/van/Datacluster_van (20).jpg\n",
            "Successfully read image /content/drive/MyDrive/archive (43)/van/Datacluster_van (2).jpg\n",
            "Successfully read image /content/drive/MyDrive/archive (43)/van/Datacluster_van (18).jpg\n",
            "Successfully read image /content/drive/MyDrive/archive (43)/van/Datacluster_van (25).jpg\n",
            "Successfully read image /content/drive/MyDrive/archive (43)/van/Datacluster_van (23).jpg\n",
            "Successfully read image /content/drive/MyDrive/archive (43)/van/Datacluster_van (27).jpg\n",
            "Successfully read image /content/drive/MyDrive/archive (43)/van/Datacluster_van (30).jpg\n",
            "Successfully read image /content/drive/MyDrive/archive (43)/van/Datacluster_van (31).jpg\n",
            "Successfully read image /content/drive/MyDrive/archive (43)/van/Datacluster_van (29).jpg\n",
            "Successfully read image /content/drive/MyDrive/archive (43)/van/Datacluster_van (28).jpg\n",
            "Successfully read image /content/drive/MyDrive/archive (43)/van/Datacluster_van (26).jpg\n",
            "Successfully read image /content/drive/MyDrive/archive (43)/van/Datacluster_van (3).jpg\n",
            "Successfully read image /content/drive/MyDrive/archive (43)/van/Datacluster_van (9).jpg\n",
            "Successfully read image /content/drive/MyDrive/archive (43)/van/Datacluster_van (8).jpg\n",
            "Successfully read image /content/drive/MyDrive/archive (43)/van/Datacluster_van (7).jpg\n",
            "Successfully read image /content/drive/MyDrive/archive (43)/van/Datacluster_van (4).jpg\n",
            "Successfully read image /content/drive/MyDrive/archive (43)/van/Datacluster_van (6).jpg\n",
            "Successfully read image /content/drive/MyDrive/archive (43)/van/Datacluster_van (5).jpg\n",
            "Successfully read image /content/drive/MyDrive/archive (43)/bus/Datacluster_bus (10).jpg\n",
            "Successfully read image /content/drive/MyDrive/archive (43)/bus/Datacluster_bus (11).jpg\n",
            "Successfully read image /content/drive/MyDrive/archive (43)/bus/Datacluster_bus (1).jpg\n",
            "Successfully read image /content/drive/MyDrive/archive (43)/bus/Datacluster_bus (14).jpg\n",
            "Successfully read image /content/drive/MyDrive/archive (43)/bus/Datacluster_bus (13).jpg\n",
            "Successfully read image /content/drive/MyDrive/archive (43)/bus/Datacluster_bus (12).jpg\n",
            "Successfully read image /content/drive/MyDrive/archive (43)/bus/Datacluster_bus (15).jpg\n",
            "Successfully read image /content/drive/MyDrive/archive (43)/bus/Datacluster_bus (19).jpg\n",
            "Successfully read image /content/drive/MyDrive/archive (43)/bus/Datacluster_bus (17).jpg\n",
            "Successfully read image /content/drive/MyDrive/archive (43)/bus/Datacluster_bus (16).jpg\n",
            "Successfully read image /content/drive/MyDrive/archive (43)/bus/Datacluster_bus (2).jpg\n",
            "Successfully read image /content/drive/MyDrive/archive (43)/bus/Datacluster_bus (18).jpg\n",
            "Successfully read image /content/drive/MyDrive/archive (43)/bus/Datacluster_bus (24).jpg\n",
            "Successfully read image /content/drive/MyDrive/archive (43)/bus/Datacluster_bus (25).jpg\n",
            "Successfully read image /content/drive/MyDrive/archive (43)/bus/Datacluster_bus (26).jpg\n",
            "Successfully read image /content/drive/MyDrive/archive (43)/bus/Datacluster_bus (3).jpg\n",
            "Successfully read image /content/drive/MyDrive/archive (43)/bus/Datacluster_bus (29).jpg\n",
            "Successfully read image /content/drive/MyDrive/archive (43)/bus/Datacluster_bus (22).jpg\n",
            "Successfully read image /content/drive/MyDrive/archive (43)/bus/Datacluster_bus (30).jpg\n",
            "Successfully read image /content/drive/MyDrive/archive (43)/bus/Datacluster_bus (28).jpg\n",
            "Successfully read image /content/drive/MyDrive/archive (43)/bus/Datacluster_bus (23).jpg\n",
            "Successfully read image /content/drive/MyDrive/archive (43)/bus/Datacluster_bus (27).jpg\n",
            "Successfully read image /content/drive/MyDrive/archive (43)/bus/Datacluster_bus (20).jpg\n",
            "Successfully read image /content/drive/MyDrive/archive (43)/bus/Datacluster_bus (21).jpg\n",
            "Successfully read image /content/drive/MyDrive/archive (43)/bus/Datacluster_bus (34).jpg\n",
            "Successfully read image /content/drive/MyDrive/archive (43)/bus/Datacluster_bus (37).jpg\n",
            "Successfully read image /content/drive/MyDrive/archive (43)/bus/Datacluster_bus (36).jpg\n",
            "Successfully read image /content/drive/MyDrive/archive (43)/bus/Datacluster_bus (35).jpg\n",
            "Successfully read image /content/drive/MyDrive/archive (43)/bus/Datacluster_bus (33).jpg\n",
            "Successfully read image /content/drive/MyDrive/archive (43)/bus/Datacluster_bus (32).jpg\n",
            "Successfully read image /content/drive/MyDrive/archive (43)/bus/Datacluster_bus (4).jpg\n",
            "Successfully read image /content/drive/MyDrive/archive (43)/bus/Datacluster_bus (31).jpg\n",
            "Successfully read image /content/drive/MyDrive/archive (43)/bus/Datacluster_bus (6).jpg\n",
            "Successfully read image /content/drive/MyDrive/archive (43)/bus/Datacluster_bus (9).jpg\n",
            "Successfully read image /content/drive/MyDrive/archive (43)/bus/Datacluster_bus (7).jpg\n",
            "Successfully read image /content/drive/MyDrive/archive (43)/bus/Datacluster_bus (5).jpg\n",
            "Successfully read image /content/drive/MyDrive/archive (43)/bus/Datacluster_bus (8).jpg\n",
            "Successfully read image /content/drive/MyDrive/archive (43)/auto/Datacluster_auto (10).jpg\n",
            "Successfully read image /content/drive/MyDrive/archive (43)/auto/Datacluster_auto (1).jpg\n",
            "Successfully read image /content/drive/MyDrive/archive (43)/auto/Datacluster_auto (13).jpg\n",
            "Successfully read image /content/drive/MyDrive/archive (43)/auto/Datacluster_auto (11).jpg\n",
            "Successfully read image /content/drive/MyDrive/archive (43)/auto/Datacluster_auto (12).jpg\n",
            "Successfully read image /content/drive/MyDrive/archive (43)/auto/Datacluster_auto (17).jpg\n",
            "Successfully read image /content/drive/MyDrive/archive (43)/auto/Datacluster_auto (18).jpg\n",
            "Successfully read image /content/drive/MyDrive/archive (43)/auto/Datacluster_auto (2).jpg\n",
            "Successfully read image /content/drive/MyDrive/archive (43)/auto/Datacluster_auto (14).jpg\n",
            "Successfully read image /content/drive/MyDrive/archive (43)/auto/Datacluster_auto (19).jpg\n",
            "Successfully read image /content/drive/MyDrive/archive (43)/auto/Datacluster_auto (15).jpg\n",
            "Successfully read image /content/drive/MyDrive/archive (43)/auto/Datacluster_auto (16).jpg\n",
            "Successfully read image /content/drive/MyDrive/archive (43)/auto/Datacluster_auto (20).jpg\n",
            "Successfully read image /content/drive/MyDrive/archive (43)/auto/Datacluster_auto (22).jpg\n",
            "Successfully read image /content/drive/MyDrive/archive (43)/auto/Datacluster_auto (23).jpg\n",
            "Successfully read image /content/drive/MyDrive/archive (43)/auto/Datacluster_auto (21).jpg\n",
            "Successfully read image /content/drive/MyDrive/archive (43)/auto/Datacluster_auto (26).jpg\n",
            "Successfully read image /content/drive/MyDrive/archive (43)/auto/Datacluster_auto (24).jpg\n",
            "Successfully read image /content/drive/MyDrive/archive (43)/auto/Datacluster_auto (28).jpg\n",
            "Successfully read image /content/drive/MyDrive/archive (43)/auto/Datacluster_auto (27).jpg\n",
            "Successfully read image /content/drive/MyDrive/archive (43)/auto/Datacluster_auto (25).jpg\n",
            "Successfully read image /content/drive/MyDrive/archive (43)/auto/Datacluster_auto (5).jpg\n",
            "Successfully read image /content/drive/MyDrive/archive (43)/auto/Datacluster_auto (6).jpg\n",
            "Successfully read image /content/drive/MyDrive/archive (43)/auto/Datacluster_auto (29).jpg\n",
            "Successfully read image /content/drive/MyDrive/archive (43)/auto/Datacluster_auto (3).jpg\n",
            "Successfully read image /content/drive/MyDrive/archive (43)/auto/Datacluster_auto (4).jpg\n",
            "Successfully read image /content/drive/MyDrive/archive (43)/auto/Datacluster_auto (30).jpg\n",
            "Successfully read image /content/drive/MyDrive/archive (43)/auto/Datacluster_auto (8).jpg\n",
            "Successfully read image /content/drive/MyDrive/archive (43)/auto/Datacluster_auto (9).jpg\n",
            "Successfully read image /content/drive/MyDrive/archive (43)/auto/Datacluster_auto (7).jpg\n",
            "Successfully read image /content/drive/MyDrive/archive (43)/tractor/Datacluster_tracktor (1).jpg\n",
            "Successfully read image /content/drive/MyDrive/archive (43)/tractor/Datacluster_tracktor (10).jpg\n",
            "Successfully read image /content/drive/MyDrive/archive (43)/tractor/Datacluster_tracktor (16).jpg\n",
            "Successfully read image /content/drive/MyDrive/archive (43)/tractor/Datacluster_tracktor (13).jpg\n",
            "Successfully read image /content/drive/MyDrive/archive (43)/tractor/Datacluster_tracktor (14).jpg\n",
            "Successfully read image /content/drive/MyDrive/archive (43)/tractor/Datacluster_tracktor (11).jpg\n",
            "Successfully read image /content/drive/MyDrive/archive (43)/tractor/Datacluster_tracktor (15).jpg\n",
            "Successfully read image /content/drive/MyDrive/archive (43)/tractor/Datacluster_tracktor (12).jpg\n",
            "Successfully read image /content/drive/MyDrive/archive (43)/tractor/Datacluster_tracktor (20).jpg\n",
            "Successfully read image /content/drive/MyDrive/archive (43)/tractor/Datacluster_tracktor (21).jpg\n",
            "Successfully read image /content/drive/MyDrive/archive (43)/tractor/Datacluster_tracktor (18).jpg\n",
            "Successfully read image /content/drive/MyDrive/archive (43)/tractor/Datacluster_tracktor (19).jpg\n",
            "Successfully read image /content/drive/MyDrive/archive (43)/tractor/Datacluster_tracktor (22).jpg\n",
            "Successfully read image /content/drive/MyDrive/archive (43)/tractor/Datacluster_tracktor (17).jpg\n",
            "Successfully read image /content/drive/MyDrive/archive (43)/tractor/Datacluster_tracktor (2).jpg\n",
            "Successfully read image /content/drive/MyDrive/archive (43)/tractor/Datacluster_tracktor (28).jpg\n",
            "Successfully read image /content/drive/MyDrive/archive (43)/tractor/Datacluster_tracktor (23).jpg\n",
            "Successfully read image /content/drive/MyDrive/archive (43)/tractor/Datacluster_tracktor (27).jpg\n",
            "Successfully read image /content/drive/MyDrive/archive (43)/tractor/Datacluster_tracktor (24).jpg\n",
            "Successfully read image /content/drive/MyDrive/archive (43)/tractor/Datacluster_tracktor (25).jpg\n",
            "Successfully read image /content/drive/MyDrive/archive (43)/tractor/Datacluster_tracktor (26).jpg\n",
            "Successfully read image /content/drive/MyDrive/archive (43)/tractor/Datacluster_tracktor (29).jpg\n",
            "Successfully read image /content/drive/MyDrive/archive (43)/tractor/Datacluster_tracktor (30).jpg\n",
            "Successfully read image /content/drive/MyDrive/archive (43)/tractor/Datacluster_tracktor (33).jpg\n",
            "Successfully read image /content/drive/MyDrive/archive (43)/tractor/Datacluster_tracktor (34).jpg\n",
            "Successfully read image /content/drive/MyDrive/archive (43)/tractor/Datacluster_tracktor (32).jpg\n",
            "Successfully read image /content/drive/MyDrive/archive (43)/tractor/Datacluster_tracktor (31).jpg\n",
            "Successfully read image /content/drive/MyDrive/archive (43)/tractor/Datacluster_tracktor (3).jpg\n",
            "Successfully read image /content/drive/MyDrive/archive (43)/tractor/Datacluster_tracktor (39).jpg\n",
            "Successfully read image /content/drive/MyDrive/archive (43)/tractor/Datacluster_tracktor (35).jpg\n",
            "Successfully read image /content/drive/MyDrive/archive (43)/tractor/Datacluster_tracktor (4).jpg\n",
            "Successfully read image /content/drive/MyDrive/archive (43)/tractor/Datacluster_tracktor (36).jpg\n",
            "Successfully read image /content/drive/MyDrive/archive (43)/tractor/Datacluster_tracktor (37).jpg\n",
            "Successfully read image /content/drive/MyDrive/archive (43)/tractor/Datacluster_tracktor (38).jpg\n",
            "Successfully read image /content/drive/MyDrive/archive (43)/tractor/Datacluster_tracktor (7).jpg\n",
            "Successfully read image /content/drive/MyDrive/archive (43)/tractor/Datacluster_tracktor (5).jpg\n",
            "Successfully read image /content/drive/MyDrive/archive (43)/tractor/Datacluster_tracktor (40).jpg\n",
            "Successfully read image /content/drive/MyDrive/archive (43)/tractor/Datacluster_tracktor (41).jpg\n",
            "Successfully read image /content/drive/MyDrive/archive (43)/tractor/Datacluster_tracktor (8).jpg\n",
            "Successfully read image /content/drive/MyDrive/archive (43)/tractor/Datacluster_tracktor (6).jpg\n",
            "Successfully read image /content/drive/MyDrive/archive (43)/tractor/Datacluster_tracktor (42).jpg\n",
            "Successfully read image /content/drive/MyDrive/archive (43)/tractor/Datacluster_tracktor (9).jpg\n",
            "Successfully read image /content/drive/MyDrive/archive (43)/tru├ºk/Datacluster_truck (11).jpg\n",
            "Successfully read image /content/drive/MyDrive/archive (43)/tru├ºk/Datacluster_truck (12).jpg\n",
            "Successfully read image /content/drive/MyDrive/archive (43)/tru├ºk/Datacluster_truck (1).jpg\n",
            "Successfully read image /content/drive/MyDrive/archive (43)/tru├ºk/Datacluster_truck (13).jpg\n",
            "Successfully read image /content/drive/MyDrive/archive (43)/tru├ºk/Datacluster_truck (10).jpg\n",
            "Successfully read image /content/drive/MyDrive/archive (43)/tru├ºk/Datacluster_truck (14).jpg\n",
            "Successfully read image /content/drive/MyDrive/archive (43)/tru├ºk/Datacluster_truck (19).jpg\n",
            "Successfully read image /content/drive/MyDrive/archive (43)/tru├ºk/Datacluster_truck (2).jpg\n",
            "Successfully read image /content/drive/MyDrive/archive (43)/tru├ºk/Datacluster_truck (16).jpg\n",
            "Successfully read image /content/drive/MyDrive/archive (43)/tru├ºk/Datacluster_truck (15).jpg\n",
            "Successfully read image /content/drive/MyDrive/archive (43)/tru├ºk/Datacluster_truck (17).jpg\n",
            "Successfully read image /content/drive/MyDrive/archive (43)/tru├ºk/Datacluster_truck (18).jpg\n",
            "Successfully read image /content/drive/MyDrive/archive (43)/tru├ºk/Datacluster_truck (24).jpg\n",
            "Successfully read image /content/drive/MyDrive/archive (43)/tru├ºk/Datacluster_truck (20).jpg\n",
            "Successfully read image /content/drive/MyDrive/archive (43)/tru├ºk/Datacluster_truck (25).jpg\n",
            "Successfully read image /content/drive/MyDrive/archive (43)/tru├ºk/Datacluster_truck (21).jpg\n",
            "Successfully read image /content/drive/MyDrive/archive (43)/tru├ºk/Datacluster_truck (26).jpg\n",
            "Successfully read image /content/drive/MyDrive/archive (43)/tru├ºk/Datacluster_truck (22).jpg\n",
            "Successfully read image /content/drive/MyDrive/archive (43)/tru├ºk/Datacluster_truck (23).jpg\n",
            "Successfully read image /content/drive/MyDrive/archive (43)/tru├ºk/Datacluster_truck (27).jpg\n",
            "Successfully read image /content/drive/MyDrive/archive (43)/tru├ºk/Datacluster_truck (30).jpg\n",
            "Successfully read image /content/drive/MyDrive/archive (43)/tru├ºk/Datacluster_truck (28).jpg\n",
            "Successfully read image /content/drive/MyDrive/archive (43)/tru├ºk/Datacluster_truck (3).jpg\n",
            "Successfully read image /content/drive/MyDrive/archive (43)/tru├ºk/Datacluster_truck (29).jpg\n",
            "Successfully read image /content/drive/MyDrive/archive (43)/tru├ºk/Datacluster_truck (34).jpg\n",
            "Successfully read image /content/drive/MyDrive/archive (43)/tru├ºk/Datacluster_truck (33).jpg\n",
            "Successfully read image /content/drive/MyDrive/archive (43)/tru├ºk/Datacluster_truck (31).jpg\n",
            "Successfully read image /content/drive/MyDrive/archive (43)/tru├ºk/Datacluster_truck (32).jpg\n",
            "Successfully read image /content/drive/MyDrive/archive (43)/tru├ºk/Datacluster_truck (36).jpg\n",
            "Successfully read image /content/drive/MyDrive/archive (43)/tru├ºk/Datacluster_truck (35).jpg\n",
            "Successfully read image /content/drive/MyDrive/archive (43)/tru├ºk/Datacluster_truck (40).jpg\n",
            "Successfully read image /content/drive/MyDrive/archive (43)/tru├ºk/Datacluster_truck (37).jpg\n",
            "Successfully read image /content/drive/MyDrive/archive (43)/tru├ºk/Datacluster_truck (38).jpg\n",
            "Successfully read image /content/drive/MyDrive/archive (43)/tru├ºk/Datacluster_truck (39).jpg\n",
            "Successfully read image /content/drive/MyDrive/archive (43)/tru├ºk/Datacluster_truck (4).jpg\n",
            "Successfully read image /content/drive/MyDrive/archive (43)/tru├ºk/Datacluster_truck (42).jpg\n",
            "Successfully read image /content/drive/MyDrive/archive (43)/tru├ºk/Datacluster_truck (44).jpg\n",
            "Successfully read image /content/drive/MyDrive/archive (43)/tru├ºk/Datacluster_truck (48).jpg\n",
            "Successfully read image /content/drive/MyDrive/archive (43)/tru├ºk/Datacluster_truck (46).jpg\n",
            "Successfully read image /content/drive/MyDrive/archive (43)/tru├ºk/Datacluster_truck (41).jpg\n",
            "Successfully read image /content/drive/MyDrive/archive (43)/tru├ºk/Datacluster_truck (45).jpg\n",
            "Successfully read image /content/drive/MyDrive/archive (43)/tru├ºk/Datacluster_truck (43).jpg\n",
            "Successfully read image /content/drive/MyDrive/archive (43)/tru├ºk/Datacluster_truck (47).jpg\n",
            "Successfully read image /content/drive/MyDrive/archive (43)/tru├ºk/Datacluster_truck (5).jpg\n"
          ]
        },
        {
          "output_type": "error",
          "ename": "KeyboardInterrupt",
          "evalue": "",
          "traceback": [
            "\u001b[0;31m---------------------------------------------------------------------------\u001b[0m",
            "\u001b[0;31mKeyboardInterrupt\u001b[0m                         Traceback (most recent call last)",
            "\u001b[0;32m<ipython-input-23-bc9c87e272f7>\u001b[0m in \u001b[0;36m<cell line: 7>\u001b[0;34m()\u001b[0m\n\u001b[1;32m     11\u001b[0m             \u001b[0mimg_path\u001b[0m \u001b[0;34m=\u001b[0m \u001b[0mos\u001b[0m\u001b[0;34m.\u001b[0m\u001b[0mpath\u001b[0m\u001b[0;34m.\u001b[0m\u001b[0mjoin\u001b[0m\u001b[0;34m(\u001b[0m\u001b[0msubdir\u001b[0m\u001b[0;34m,\u001b[0m \u001b[0mfile\u001b[0m\u001b[0;34m)\u001b[0m\u001b[0;34m\u001b[0m\u001b[0;34m\u001b[0m\u001b[0m\n\u001b[1;32m     12\u001b[0m             \u001b[0;32mtry\u001b[0m\u001b[0;34m:\u001b[0m\u001b[0;34m\u001b[0m\u001b[0;34m\u001b[0m\u001b[0m\n\u001b[0;32m---> 13\u001b[0;31m                 \u001b[0mimg\u001b[0m \u001b[0;34m=\u001b[0m \u001b[0mcv2\u001b[0m\u001b[0;34m.\u001b[0m\u001b[0mimread\u001b[0m\u001b[0;34m(\u001b[0m\u001b[0mimg_path\u001b[0m\u001b[0;34m)\u001b[0m\u001b[0;34m\u001b[0m\u001b[0;34m\u001b[0m\u001b[0m\n\u001b[0m\u001b[1;32m     14\u001b[0m                 \u001b[0;32mif\u001b[0m \u001b[0mimg\u001b[0m \u001b[0;32mis\u001b[0m \u001b[0;32mNone\u001b[0m\u001b[0;34m:\u001b[0m\u001b[0;34m\u001b[0m\u001b[0;34m\u001b[0m\u001b[0m\n\u001b[1;32m     15\u001b[0m                     \u001b[0mprint\u001b[0m\u001b[0;34m(\u001b[0m\u001b[0;34mf\"Could not read the image file {img_path}\"\u001b[0m\u001b[0;34m)\u001b[0m\u001b[0;34m\u001b[0m\u001b[0;34m\u001b[0m\u001b[0m\n",
            "\u001b[0;31mKeyboardInterrupt\u001b[0m: "
          ]
        }
      ]
    },
    {
      "cell_type": "code",
      "source": [
        "print(model, img_pil)"
      ],
      "metadata": {
        "colab": {
          "base_uri": "https://localhost:8080/"
        },
        "id": "Qx6D4Fsax7U7",
        "outputId": "ebefd9db-fc71-4c1b-d032-3af6bcac83ae"
      },
      "execution_count": 31,
      "outputs": [
        {
          "output_type": "stream",
          "name": "stdout",
          "text": [
            "AutoShape(\n",
            "  (model): DetectMultiBackend(\n",
            "    (model): DetectionModel(\n",
            "      (model): Sequential(\n",
            "        (0): Conv(\n",
            "          (conv): Conv2d(3, 32, kernel_size=(6, 6), stride=(2, 2), padding=(2, 2))\n",
            "          (act): SiLU(inplace=True)\n",
            "        )\n",
            "        (1): Conv(\n",
            "          (conv): Conv2d(32, 64, kernel_size=(3, 3), stride=(2, 2), padding=(1, 1))\n",
            "          (act): SiLU(inplace=True)\n",
            "        )\n",
            "        (2): C3(\n",
            "          (cv1): Conv(\n",
            "            (conv): Conv2d(64, 32, kernel_size=(1, 1), stride=(1, 1))\n",
            "            (act): SiLU(inplace=True)\n",
            "          )\n",
            "          (cv2): Conv(\n",
            "            (conv): Conv2d(64, 32, kernel_size=(1, 1), stride=(1, 1))\n",
            "            (act): SiLU(inplace=True)\n",
            "          )\n",
            "          (cv3): Conv(\n",
            "            (conv): Conv2d(64, 64, kernel_size=(1, 1), stride=(1, 1))\n",
            "            (act): SiLU(inplace=True)\n",
            "          )\n",
            "          (m): Sequential(\n",
            "            (0): Bottleneck(\n",
            "              (cv1): Conv(\n",
            "                (conv): Conv2d(32, 32, kernel_size=(1, 1), stride=(1, 1))\n",
            "                (act): SiLU(inplace=True)\n",
            "              )\n",
            "              (cv2): Conv(\n",
            "                (conv): Conv2d(32, 32, kernel_size=(3, 3), stride=(1, 1), padding=(1, 1))\n",
            "                (act): SiLU(inplace=True)\n",
            "              )\n",
            "            )\n",
            "          )\n",
            "        )\n",
            "        (3): Conv(\n",
            "          (conv): Conv2d(64, 128, kernel_size=(3, 3), stride=(2, 2), padding=(1, 1))\n",
            "          (act): SiLU(inplace=True)\n",
            "        )\n",
            "        (4): C3(\n",
            "          (cv1): Conv(\n",
            "            (conv): Conv2d(128, 64, kernel_size=(1, 1), stride=(1, 1))\n",
            "            (act): SiLU(inplace=True)\n",
            "          )\n",
            "          (cv2): Conv(\n",
            "            (conv): Conv2d(128, 64, kernel_size=(1, 1), stride=(1, 1))\n",
            "            (act): SiLU(inplace=True)\n",
            "          )\n",
            "          (cv3): Conv(\n",
            "            (conv): Conv2d(128, 128, kernel_size=(1, 1), stride=(1, 1))\n",
            "            (act): SiLU(inplace=True)\n",
            "          )\n",
            "          (m): Sequential(\n",
            "            (0): Bottleneck(\n",
            "              (cv1): Conv(\n",
            "                (conv): Conv2d(64, 64, kernel_size=(1, 1), stride=(1, 1))\n",
            "                (act): SiLU(inplace=True)\n",
            "              )\n",
            "              (cv2): Conv(\n",
            "                (conv): Conv2d(64, 64, kernel_size=(3, 3), stride=(1, 1), padding=(1, 1))\n",
            "                (act): SiLU(inplace=True)\n",
            "              )\n",
            "            )\n",
            "            (1): Bottleneck(\n",
            "              (cv1): Conv(\n",
            "                (conv): Conv2d(64, 64, kernel_size=(1, 1), stride=(1, 1))\n",
            "                (act): SiLU(inplace=True)\n",
            "              )\n",
            "              (cv2): Conv(\n",
            "                (conv): Conv2d(64, 64, kernel_size=(3, 3), stride=(1, 1), padding=(1, 1))\n",
            "                (act): SiLU(inplace=True)\n",
            "              )\n",
            "            )\n",
            "          )\n",
            "        )\n",
            "        (5): Conv(\n",
            "          (conv): Conv2d(128, 256, kernel_size=(3, 3), stride=(2, 2), padding=(1, 1))\n",
            "          (act): SiLU(inplace=True)\n",
            "        )\n",
            "        (6): C3(\n",
            "          (cv1): Conv(\n",
            "            (conv): Conv2d(256, 128, kernel_size=(1, 1), stride=(1, 1))\n",
            "            (act): SiLU(inplace=True)\n",
            "          )\n",
            "          (cv2): Conv(\n",
            "            (conv): Conv2d(256, 128, kernel_size=(1, 1), stride=(1, 1))\n",
            "            (act): SiLU(inplace=True)\n",
            "          )\n",
            "          (cv3): Conv(\n",
            "            (conv): Conv2d(256, 256, kernel_size=(1, 1), stride=(1, 1))\n",
            "            (act): SiLU(inplace=True)\n",
            "          )\n",
            "          (m): Sequential(\n",
            "            (0): Bottleneck(\n",
            "              (cv1): Conv(\n",
            "                (conv): Conv2d(128, 128, kernel_size=(1, 1), stride=(1, 1))\n",
            "                (act): SiLU(inplace=True)\n",
            "              )\n",
            "              (cv2): Conv(\n",
            "                (conv): Conv2d(128, 128, kernel_size=(3, 3), stride=(1, 1), padding=(1, 1))\n",
            "                (act): SiLU(inplace=True)\n",
            "              )\n",
            "            )\n",
            "            (1): Bottleneck(\n",
            "              (cv1): Conv(\n",
            "                (conv): Conv2d(128, 128, kernel_size=(1, 1), stride=(1, 1))\n",
            "                (act): SiLU(inplace=True)\n",
            "              )\n",
            "              (cv2): Conv(\n",
            "                (conv): Conv2d(128, 128, kernel_size=(3, 3), stride=(1, 1), padding=(1, 1))\n",
            "                (act): SiLU(inplace=True)\n",
            "              )\n",
            "            )\n",
            "            (2): Bottleneck(\n",
            "              (cv1): Conv(\n",
            "                (conv): Conv2d(128, 128, kernel_size=(1, 1), stride=(1, 1))\n",
            "                (act): SiLU(inplace=True)\n",
            "              )\n",
            "              (cv2): Conv(\n",
            "                (conv): Conv2d(128, 128, kernel_size=(3, 3), stride=(1, 1), padding=(1, 1))\n",
            "                (act): SiLU(inplace=True)\n",
            "              )\n",
            "            )\n",
            "          )\n",
            "        )\n",
            "        (7): Conv(\n",
            "          (conv): Conv2d(256, 512, kernel_size=(3, 3), stride=(2, 2), padding=(1, 1))\n",
            "          (act): SiLU(inplace=True)\n",
            "        )\n",
            "        (8): C3(\n",
            "          (cv1): Conv(\n",
            "            (conv): Conv2d(512, 256, kernel_size=(1, 1), stride=(1, 1))\n",
            "            (act): SiLU(inplace=True)\n",
            "          )\n",
            "          (cv2): Conv(\n",
            "            (conv): Conv2d(512, 256, kernel_size=(1, 1), stride=(1, 1))\n",
            "            (act): SiLU(inplace=True)\n",
            "          )\n",
            "          (cv3): Conv(\n",
            "            (conv): Conv2d(512, 512, kernel_size=(1, 1), stride=(1, 1))\n",
            "            (act): SiLU(inplace=True)\n",
            "          )\n",
            "          (m): Sequential(\n",
            "            (0): Bottleneck(\n",
            "              (cv1): Conv(\n",
            "                (conv): Conv2d(256, 256, kernel_size=(1, 1), stride=(1, 1))\n",
            "                (act): SiLU(inplace=True)\n",
            "              )\n",
            "              (cv2): Conv(\n",
            "                (conv): Conv2d(256, 256, kernel_size=(3, 3), stride=(1, 1), padding=(1, 1))\n",
            "                (act): SiLU(inplace=True)\n",
            "              )\n",
            "            )\n",
            "          )\n",
            "        )\n",
            "        (9): SPPF(\n",
            "          (cv1): Conv(\n",
            "            (conv): Conv2d(512, 256, kernel_size=(1, 1), stride=(1, 1))\n",
            "            (act): SiLU(inplace=True)\n",
            "          )\n",
            "          (cv2): Conv(\n",
            "            (conv): Conv2d(1024, 512, kernel_size=(1, 1), stride=(1, 1))\n",
            "            (act): SiLU(inplace=True)\n",
            "          )\n",
            "          (m): MaxPool2d(kernel_size=5, stride=1, padding=2, dilation=1, ceil_mode=False)\n",
            "        )\n",
            "        (10): Conv(\n",
            "          (conv): Conv2d(512, 256, kernel_size=(1, 1), stride=(1, 1))\n",
            "          (act): SiLU(inplace=True)\n",
            "        )\n",
            "        (11): Upsample(scale_factor=2.0, mode='nearest')\n",
            "        (12): Concat()\n",
            "        (13): C3(\n",
            "          (cv1): Conv(\n",
            "            (conv): Conv2d(512, 128, kernel_size=(1, 1), stride=(1, 1))\n",
            "            (act): SiLU(inplace=True)\n",
            "          )\n",
            "          (cv2): Conv(\n",
            "            (conv): Conv2d(512, 128, kernel_size=(1, 1), stride=(1, 1))\n",
            "            (act): SiLU(inplace=True)\n",
            "          )\n",
            "          (cv3): Conv(\n",
            "            (conv): Conv2d(256, 256, kernel_size=(1, 1), stride=(1, 1))\n",
            "            (act): SiLU(inplace=True)\n",
            "          )\n",
            "          (m): Sequential(\n",
            "            (0): Bottleneck(\n",
            "              (cv1): Conv(\n",
            "                (conv): Conv2d(128, 128, kernel_size=(1, 1), stride=(1, 1))\n",
            "                (act): SiLU(inplace=True)\n",
            "              )\n",
            "              (cv2): Conv(\n",
            "                (conv): Conv2d(128, 128, kernel_size=(3, 3), stride=(1, 1), padding=(1, 1))\n",
            "                (act): SiLU(inplace=True)\n",
            "              )\n",
            "            )\n",
            "          )\n",
            "        )\n",
            "        (14): Conv(\n",
            "          (conv): Conv2d(256, 128, kernel_size=(1, 1), stride=(1, 1))\n",
            "          (act): SiLU(inplace=True)\n",
            "        )\n",
            "        (15): Upsample(scale_factor=2.0, mode='nearest')\n",
            "        (16): Concat()\n",
            "        (17): C3(\n",
            "          (cv1): Conv(\n",
            "            (conv): Conv2d(256, 64, kernel_size=(1, 1), stride=(1, 1))\n",
            "            (act): SiLU(inplace=True)\n",
            "          )\n",
            "          (cv2): Conv(\n",
            "            (conv): Conv2d(256, 64, kernel_size=(1, 1), stride=(1, 1))\n",
            "            (act): SiLU(inplace=True)\n",
            "          )\n",
            "          (cv3): Conv(\n",
            "            (conv): Conv2d(128, 128, kernel_size=(1, 1), stride=(1, 1))\n",
            "            (act): SiLU(inplace=True)\n",
            "          )\n",
            "          (m): Sequential(\n",
            "            (0): Bottleneck(\n",
            "              (cv1): Conv(\n",
            "                (conv): Conv2d(64, 64, kernel_size=(1, 1), stride=(1, 1))\n",
            "                (act): SiLU(inplace=True)\n",
            "              )\n",
            "              (cv2): Conv(\n",
            "                (conv): Conv2d(64, 64, kernel_size=(3, 3), stride=(1, 1), padding=(1, 1))\n",
            "                (act): SiLU(inplace=True)\n",
            "              )\n",
            "            )\n",
            "          )\n",
            "        )\n",
            "        (18): Conv(\n",
            "          (conv): Conv2d(128, 128, kernel_size=(3, 3), stride=(2, 2), padding=(1, 1))\n",
            "          (act): SiLU(inplace=True)\n",
            "        )\n",
            "        (19): Concat()\n",
            "        (20): C3(\n",
            "          (cv1): Conv(\n",
            "            (conv): Conv2d(256, 128, kernel_size=(1, 1), stride=(1, 1))\n",
            "            (act): SiLU(inplace=True)\n",
            "          )\n",
            "          (cv2): Conv(\n",
            "            (conv): Conv2d(256, 128, kernel_size=(1, 1), stride=(1, 1))\n",
            "            (act): SiLU(inplace=True)\n",
            "          )\n",
            "          (cv3): Conv(\n",
            "            (conv): Conv2d(256, 256, kernel_size=(1, 1), stride=(1, 1))\n",
            "            (act): SiLU(inplace=True)\n",
            "          )\n",
            "          (m): Sequential(\n",
            "            (0): Bottleneck(\n",
            "              (cv1): Conv(\n",
            "                (conv): Conv2d(128, 128, kernel_size=(1, 1), stride=(1, 1))\n",
            "                (act): SiLU(inplace=True)\n",
            "              )\n",
            "              (cv2): Conv(\n",
            "                (conv): Conv2d(128, 128, kernel_size=(3, 3), stride=(1, 1), padding=(1, 1))\n",
            "                (act): SiLU(inplace=True)\n",
            "              )\n",
            "            )\n",
            "          )\n",
            "        )\n",
            "        (21): Conv(\n",
            "          (conv): Conv2d(256, 256, kernel_size=(3, 3), stride=(2, 2), padding=(1, 1))\n",
            "          (act): SiLU(inplace=True)\n",
            "        )\n",
            "        (22): Concat()\n",
            "        (23): C3(\n",
            "          (cv1): Conv(\n",
            "            (conv): Conv2d(512, 256, kernel_size=(1, 1), stride=(1, 1))\n",
            "            (act): SiLU(inplace=True)\n",
            "          )\n",
            "          (cv2): Conv(\n",
            "            (conv): Conv2d(512, 256, kernel_size=(1, 1), stride=(1, 1))\n",
            "            (act): SiLU(inplace=True)\n",
            "          )\n",
            "          (cv3): Conv(\n",
            "            (conv): Conv2d(512, 512, kernel_size=(1, 1), stride=(1, 1))\n",
            "            (act): SiLU(inplace=True)\n",
            "          )\n",
            "          (m): Sequential(\n",
            "            (0): Bottleneck(\n",
            "              (cv1): Conv(\n",
            "                (conv): Conv2d(256, 256, kernel_size=(1, 1), stride=(1, 1))\n",
            "                (act): SiLU(inplace=True)\n",
            "              )\n",
            "              (cv2): Conv(\n",
            "                (conv): Conv2d(256, 256, kernel_size=(3, 3), stride=(1, 1), padding=(1, 1))\n",
            "                (act): SiLU(inplace=True)\n",
            "              )\n",
            "            )\n",
            "          )\n",
            "        )\n",
            "        (24): Detect(\n",
            "          (m): ModuleList(\n",
            "            (0): Conv2d(128, 255, kernel_size=(1, 1), stride=(1, 1))\n",
            "            (1): Conv2d(256, 255, kernel_size=(1, 1), stride=(1, 1))\n",
            "            (2): Conv2d(512, 255, kernel_size=(1, 1), stride=(1, 1))\n",
            "          )\n",
            "        )\n",
            "      )\n",
            "    )\n",
            "  )\n",
            ") <PIL.Image.Image image mode=RGB size=3264x2448 at 0x78E951384790>\n"
          ]
        }
      ]
    },
    {
      "cell_type": "code",
      "source": [
        "!python /content/yolov5/train.py --img-size 640 --batch-size 16 --epochs 50 --data vehicle.yaml --cfg yolov5s.yaml --weights '' --name vehicle_model\n"
      ],
      "metadata": {
        "colab": {
          "base_uri": "https://localhost:8080/"
        },
        "id": "lDHk0lSi00Jd",
        "outputId": "1661213b-1ce0-4701-8a46-be9c3bf0da46"
      },
      "execution_count": 36,
      "outputs": [
        {
          "output_type": "stream",
          "name": "stdout",
          "text": [
            "2024-09-14 18:38:37.831614: E external/local_xla/xla/stream_executor/cuda/cuda_fft.cc:485] Unable to register cuFFT factory: Attempting to register factory for plugin cuFFT when one has already been registered\n",
            "2024-09-14 18:38:37.866017: E external/local_xla/xla/stream_executor/cuda/cuda_dnn.cc:8454] Unable to register cuDNN factory: Attempting to register factory for plugin cuDNN when one has already been registered\n",
            "2024-09-14 18:38:37.878093: E external/local_xla/xla/stream_executor/cuda/cuda_blas.cc:1452] Unable to register cuBLAS factory: Attempting to register factory for plugin cuBLAS when one has already been registered\n",
            "\u001b[34m\u001b[1mtrain: \u001b[0mweights=, cfg=yolov5s.yaml, data=vehicle.yaml, hyp=yolov5/data/hyps/hyp.scratch-low.yaml, epochs=50, batch_size=16, imgsz=640, rect=False, resume=False, nosave=False, noval=False, noautoanchor=False, noplots=False, evolve=None, evolve_population=yolov5/data/hyps, resume_evolve=None, bucket=, cache=None, image_weights=False, device=, multi_scale=False, single_cls=False, optimizer=SGD, sync_bn=False, workers=8, project=yolov5/runs/train, name=vehicle_model, exist_ok=False, quad=False, cos_lr=False, label_smoothing=0.0, patience=100, freeze=[0], save_period=-1, seed=0, local_rank=-1, entity=None, upload_dataset=False, bbox_interval=-1, artifact_alias=latest, ndjson_console=False, ndjson_file=False\n",
            "\u001b[34m\u001b[1mgithub: \u001b[0mup to date with https://github.com/ultralytics/yolov5 ✅\n",
            "YOLOv5 🚀 v7.0-366-gf7322921 Python-3.10.12 torch-2.4.0+cu121 CPU\n",
            "\n",
            "\u001b[34m\u001b[1mhyperparameters: \u001b[0mlr0=0.01, lrf=0.01, momentum=0.937, weight_decay=0.0005, warmup_epochs=3.0, warmup_momentum=0.8, warmup_bias_lr=0.1, box=0.05, cls=0.5, cls_pw=1.0, obj=1.0, obj_pw=1.0, iou_t=0.2, anchor_t=4.0, fl_gamma=0.0, hsv_h=0.015, hsv_s=0.7, hsv_v=0.4, degrees=0.0, translate=0.1, scale=0.5, shear=0.0, perspective=0.0, flipud=0.0, fliplr=0.5, mosaic=1.0, mixup=0.0, copy_paste=0.0\n",
            "\u001b[34m\u001b[1mComet: \u001b[0mrun 'pip install comet_ml' to automatically track and visualize YOLOv5 🚀 runs in Comet\n",
            "\u001b[34m\u001b[1mTensorBoard: \u001b[0mStart with 'tensorboard --logdir yolov5/runs/train', view at http://localhost:6006/\n",
            "Overriding model.yaml nc=80 with nc=4\n",
            "\n",
            "                 from  n    params  module                                  arguments                     \n",
            "  0                -1  1      3520  models.common.Conv                      [3, 32, 6, 2, 2]              \n",
            "  1                -1  1     18560  models.common.Conv                      [32, 64, 3, 2]                \n",
            "  2                -1  1     18816  models.common.C3                        [64, 64, 1]                   \n",
            "  3                -1  1     73984  models.common.Conv                      [64, 128, 3, 2]               \n",
            "  4                -1  2    115712  models.common.C3                        [128, 128, 2]                 \n",
            "  5                -1  1    295424  models.common.Conv                      [128, 256, 3, 2]              \n",
            "  6                -1  3    625152  models.common.C3                        [256, 256, 3]                 \n",
            "  7                -1  1   1180672  models.common.Conv                      [256, 512, 3, 2]              \n",
            "  8                -1  1   1182720  models.common.C3                        [512, 512, 1]                 \n",
            "  9                -1  1    656896  models.common.SPPF                      [512, 512, 5]                 \n",
            " 10                -1  1    131584  models.common.Conv                      [512, 256, 1, 1]              \n",
            " 11                -1  1         0  torch.nn.modules.upsampling.Upsample    [None, 2, 'nearest']          \n",
            " 12           [-1, 6]  1         0  models.common.Concat                    [1]                           \n",
            " 13                -1  1    361984  models.common.C3                        [512, 256, 1, False]          \n",
            " 14                -1  1     33024  models.common.Conv                      [256, 128, 1, 1]              \n",
            " 15                -1  1         0  torch.nn.modules.upsampling.Upsample    [None, 2, 'nearest']          \n",
            " 16           [-1, 4]  1         0  models.common.Concat                    [1]                           \n",
            " 17                -1  1     90880  models.common.C3                        [256, 128, 1, False]          \n",
            " 18                -1  1    147712  models.common.Conv                      [128, 128, 3, 2]              \n",
            " 19          [-1, 14]  1         0  models.common.Concat                    [1]                           \n",
            " 20                -1  1    296448  models.common.C3                        [256, 256, 1, False]          \n",
            " 21                -1  1    590336  models.common.Conv                      [256, 256, 3, 2]              \n",
            " 22          [-1, 10]  1         0  models.common.Concat                    [1]                           \n",
            " 23                -1  1   1182720  models.common.C3                        [512, 512, 1, False]          \n",
            " 24      [17, 20, 23]  1     24273  models.yolo.Detect                      [4, [[10, 13, 16, 30, 33, 23], [30, 61, 62, 45, 59, 119], [116, 90, 156, 198, 373, 326]], [128, 256, 512]]\n",
            "YOLOv5s summary: 214 layers, 7030417 parameters, 7030417 gradients, 16.0 GFLOPs\n",
            "\n",
            "\u001b[34m\u001b[1moptimizer:\u001b[0m SGD(lr=0.01) with parameter groups 57 weight(decay=0.0), 60 weight(decay=0.0005), 60 bias\n",
            "\u001b[34m\u001b[1malbumentations: \u001b[0mBlur(p=0.01, blur_limit=(3, 7)), MedianBlur(p=0.01, blur_limit=(3, 7)), ToGray(p=0.01), CLAHE(p=0.01, clip_limit=(1, 4.0), tile_grid_size=(8, 8))\n",
            "\u001b[34m\u001b[1mtrain: \u001b[0mScanning /content/drive/MyDrive/archive (43)/auto.cache... 0 images, 0 backgrounds, 221 corrupt: 100% 221/221 [00:00<?, ?it/s]\n",
            "\u001b[34m\u001b[1mtrain: \u001b[0mWARNING ⚠️ /content/drive/MyDrive/archive (43)/auto/Datacluster_auto (1).jpg: ignoring corrupt image/label: cannot identify image file '/content/drive/MyDrive/archive (43)/auto/Datacluster_auto (1).jpg'\n",
            "\u001b[34m\u001b[1mtrain: \u001b[0mWARNING ⚠️ /content/drive/MyDrive/archive (43)/auto/Datacluster_auto (10).jpg: ignoring corrupt image/label: cannot identify image file '/content/drive/MyDrive/archive (43)/auto/Datacluster_auto (10).jpg'\n",
            "\u001b[34m\u001b[1mtrain: \u001b[0mWARNING ⚠️ /content/drive/MyDrive/archive (43)/auto/Datacluster_auto (11).jpg: ignoring corrupt image/label: cannot identify image file '/content/drive/MyDrive/archive (43)/auto/Datacluster_auto (11).jpg'\n",
            "\u001b[34m\u001b[1mtrain: \u001b[0mWARNING ⚠️ /content/drive/MyDrive/archive (43)/auto/Datacluster_auto (12).jpg: ignoring corrupt image/label: cannot identify image file '/content/drive/MyDrive/archive (43)/auto/Datacluster_auto (12).jpg'\n",
            "\u001b[34m\u001b[1mtrain: \u001b[0mWARNING ⚠️ /content/drive/MyDrive/archive (43)/auto/Datacluster_auto (13).jpg: ignoring corrupt image/label: cannot identify image file '/content/drive/MyDrive/archive (43)/auto/Datacluster_auto (13).jpg'\n",
            "\u001b[34m\u001b[1mtrain: \u001b[0mWARNING ⚠️ /content/drive/MyDrive/archive (43)/auto/Datacluster_auto (14).jpg: ignoring corrupt image/label: cannot identify image file '/content/drive/MyDrive/archive (43)/auto/Datacluster_auto (14).jpg'\n",
            "\u001b[34m\u001b[1mtrain: \u001b[0mWARNING ⚠️ /content/drive/MyDrive/archive (43)/auto/Datacluster_auto (15).jpg: ignoring corrupt image/label: cannot identify image file '/content/drive/MyDrive/archive (43)/auto/Datacluster_auto (15).jpg'\n",
            "\u001b[34m\u001b[1mtrain: \u001b[0mWARNING ⚠️ /content/drive/MyDrive/archive (43)/auto/Datacluster_auto (16).jpg: ignoring corrupt image/label: cannot identify image file '/content/drive/MyDrive/archive (43)/auto/Datacluster_auto (16).jpg'\n",
            "\u001b[34m\u001b[1mtrain: \u001b[0mWARNING ⚠️ /content/drive/MyDrive/archive (43)/auto/Datacluster_auto (17).jpg: ignoring corrupt image/label: cannot identify image file '/content/drive/MyDrive/archive (43)/auto/Datacluster_auto (17).jpg'\n",
            "\u001b[34m\u001b[1mtrain: \u001b[0mWARNING ⚠️ /content/drive/MyDrive/archive (43)/auto/Datacluster_auto (18).jpg: ignoring corrupt image/label: cannot identify image file '/content/drive/MyDrive/archive (43)/auto/Datacluster_auto (18).jpg'\n",
            "\u001b[34m\u001b[1mtrain: \u001b[0mWARNING ⚠️ /content/drive/MyDrive/archive (43)/auto/Datacluster_auto (19).jpg: ignoring corrupt image/label: cannot identify image file '/content/drive/MyDrive/archive (43)/auto/Datacluster_auto (19).jpg'\n",
            "\u001b[34m\u001b[1mtrain: \u001b[0mWARNING ⚠️ /content/drive/MyDrive/archive (43)/auto/Datacluster_auto (2).jpg: ignoring corrupt image/label: cannot identify image file '/content/drive/MyDrive/archive (43)/auto/Datacluster_auto (2).jpg'\n",
            "\u001b[34m\u001b[1mtrain: \u001b[0mWARNING ⚠️ /content/drive/MyDrive/archive (43)/auto/Datacluster_auto (20).jpg: ignoring corrupt image/label: cannot identify image file '/content/drive/MyDrive/archive (43)/auto/Datacluster_auto (20).jpg'\n",
            "\u001b[34m\u001b[1mtrain: \u001b[0mWARNING ⚠️ /content/drive/MyDrive/archive (43)/auto/Datacluster_auto (21).jpg: ignoring corrupt image/label: cannot identify image file '/content/drive/MyDrive/archive (43)/auto/Datacluster_auto (21).jpg'\n",
            "\u001b[34m\u001b[1mtrain: \u001b[0mWARNING ⚠️ /content/drive/MyDrive/archive (43)/auto/Datacluster_auto (22).jpg: ignoring corrupt image/label: cannot identify image file '/content/drive/MyDrive/archive (43)/auto/Datacluster_auto (22).jpg'\n",
            "\u001b[34m\u001b[1mtrain: \u001b[0mWARNING ⚠️ /content/drive/MyDrive/archive (43)/auto/Datacluster_auto (23).jpg: ignoring corrupt image/label: cannot identify image file '/content/drive/MyDrive/archive (43)/auto/Datacluster_auto (23).jpg'\n",
            "\u001b[34m\u001b[1mtrain: \u001b[0mWARNING ⚠️ /content/drive/MyDrive/archive (43)/auto/Datacluster_auto (24).jpg: ignoring corrupt image/label: cannot identify image file '/content/drive/MyDrive/archive (43)/auto/Datacluster_auto (24).jpg'\n",
            "\u001b[34m\u001b[1mtrain: \u001b[0mWARNING ⚠️ /content/drive/MyDrive/archive (43)/auto/Datacluster_auto (25).jpg: ignoring corrupt image/label: cannot identify image file '/content/drive/MyDrive/archive (43)/auto/Datacluster_auto (25).jpg'\n",
            "\u001b[34m\u001b[1mtrain: \u001b[0mWARNING ⚠️ /content/drive/MyDrive/archive (43)/auto/Datacluster_auto (26).jpg: ignoring corrupt image/label: cannot identify image file '/content/drive/MyDrive/archive (43)/auto/Datacluster_auto (26).jpg'\n",
            "\u001b[34m\u001b[1mtrain: \u001b[0mWARNING ⚠️ /content/drive/MyDrive/archive (43)/auto/Datacluster_auto (27).jpg: ignoring corrupt image/label: cannot identify image file '/content/drive/MyDrive/archive (43)/auto/Datacluster_auto (27).jpg'\n",
            "\u001b[34m\u001b[1mtrain: \u001b[0mWARNING ⚠️ /content/drive/MyDrive/archive (43)/auto/Datacluster_auto (28).jpg: ignoring corrupt image/label: cannot identify image file '/content/drive/MyDrive/archive (43)/auto/Datacluster_auto (28).jpg'\n",
            "\u001b[34m\u001b[1mtrain: \u001b[0mWARNING ⚠️ /content/drive/MyDrive/archive (43)/auto/Datacluster_auto (29).jpg: ignoring corrupt image/label: cannot identify image file '/content/drive/MyDrive/archive (43)/auto/Datacluster_auto (29).jpg'\n",
            "\u001b[34m\u001b[1mtrain: \u001b[0mWARNING ⚠️ /content/drive/MyDrive/archive (43)/auto/Datacluster_auto (3).jpg: ignoring corrupt image/label: cannot identify image file '/content/drive/MyDrive/archive (43)/auto/Datacluster_auto (3).jpg'\n",
            "\u001b[34m\u001b[1mtrain: \u001b[0mWARNING ⚠️ /content/drive/MyDrive/archive (43)/auto/Datacluster_auto (30).jpg: ignoring corrupt image/label: cannot identify image file '/content/drive/MyDrive/archive (43)/auto/Datacluster_auto (30).jpg'\n",
            "\u001b[34m\u001b[1mtrain: \u001b[0mWARNING ⚠️ /content/drive/MyDrive/archive (43)/auto/Datacluster_auto (4).jpg: ignoring corrupt image/label: cannot identify image file '/content/drive/MyDrive/archive (43)/auto/Datacluster_auto (4).jpg'\n",
            "\u001b[34m\u001b[1mtrain: \u001b[0mWARNING ⚠️ /content/drive/MyDrive/archive (43)/auto/Datacluster_auto (5).jpg: ignoring corrupt image/label: cannot identify image file '/content/drive/MyDrive/archive (43)/auto/Datacluster_auto (5).jpg'\n",
            "\u001b[34m\u001b[1mtrain: \u001b[0mWARNING ⚠️ /content/drive/MyDrive/archive (43)/auto/Datacluster_auto (6).jpg: ignoring corrupt image/label: cannot identify image file '/content/drive/MyDrive/archive (43)/auto/Datacluster_auto (6).jpg'\n",
            "\u001b[34m\u001b[1mtrain: \u001b[0mWARNING ⚠️ /content/drive/MyDrive/archive (43)/auto/Datacluster_auto (7).jpg: ignoring corrupt image/label: cannot identify image file '/content/drive/MyDrive/archive (43)/auto/Datacluster_auto (7).jpg'\n",
            "\u001b[34m\u001b[1mtrain: \u001b[0mWARNING ⚠️ /content/drive/MyDrive/archive (43)/auto/Datacluster_auto (8).jpg: ignoring corrupt image/label: cannot identify image file '/content/drive/MyDrive/archive (43)/auto/Datacluster_auto (8).jpg'\n",
            "\u001b[34m\u001b[1mtrain: \u001b[0mWARNING ⚠️ /content/drive/MyDrive/archive (43)/auto/Datacluster_auto (9).jpg: ignoring corrupt image/label: cannot identify image file '/content/drive/MyDrive/archive (43)/auto/Datacluster_auto (9).jpg'\n",
            "\u001b[34m\u001b[1mtrain: \u001b[0mWARNING ⚠️ /content/drive/MyDrive/archive (43)/bus/Datacluster_bus (1).jpg: ignoring corrupt image/label: cannot identify image file '/content/drive/MyDrive/archive (43)/bus/Datacluster_bus (1).jpg'\n",
            "\u001b[34m\u001b[1mtrain: \u001b[0mWARNING ⚠️ /content/drive/MyDrive/archive (43)/bus/Datacluster_bus (10).jpg: ignoring corrupt image/label: cannot identify image file '/content/drive/MyDrive/archive (43)/bus/Datacluster_bus (10).jpg'\n",
            "\u001b[34m\u001b[1mtrain: \u001b[0mWARNING ⚠️ /content/drive/MyDrive/archive (43)/bus/Datacluster_bus (11).jpg: ignoring corrupt image/label: cannot identify image file '/content/drive/MyDrive/archive (43)/bus/Datacluster_bus (11).jpg'\n",
            "\u001b[34m\u001b[1mtrain: \u001b[0mWARNING ⚠️ /content/drive/MyDrive/archive (43)/bus/Datacluster_bus (12).jpg: ignoring corrupt image/label: cannot identify image file '/content/drive/MyDrive/archive (43)/bus/Datacluster_bus (12).jpg'\n",
            "\u001b[34m\u001b[1mtrain: \u001b[0mWARNING ⚠️ /content/drive/MyDrive/archive (43)/bus/Datacluster_bus (13).jpg: ignoring corrupt image/label: cannot identify image file '/content/drive/MyDrive/archive (43)/bus/Datacluster_bus (13).jpg'\n",
            "\u001b[34m\u001b[1mtrain: \u001b[0mWARNING ⚠️ /content/drive/MyDrive/archive (43)/bus/Datacluster_bus (14).jpg: ignoring corrupt image/label: cannot identify image file '/content/drive/MyDrive/archive (43)/bus/Datacluster_bus (14).jpg'\n",
            "\u001b[34m\u001b[1mtrain: \u001b[0mWARNING ⚠️ /content/drive/MyDrive/archive (43)/bus/Datacluster_bus (15).jpg: ignoring corrupt image/label: cannot identify image file '/content/drive/MyDrive/archive (43)/bus/Datacluster_bus (15).jpg'\n",
            "\u001b[34m\u001b[1mtrain: \u001b[0mWARNING ⚠️ /content/drive/MyDrive/archive (43)/bus/Datacluster_bus (16).jpg: ignoring corrupt image/label: cannot identify image file '/content/drive/MyDrive/archive (43)/bus/Datacluster_bus (16).jpg'\n",
            "\u001b[34m\u001b[1mtrain: \u001b[0mWARNING ⚠️ /content/drive/MyDrive/archive (43)/bus/Datacluster_bus (17).jpg: ignoring corrupt image/label: cannot identify image file '/content/drive/MyDrive/archive (43)/bus/Datacluster_bus (17).jpg'\n",
            "\u001b[34m\u001b[1mtrain: \u001b[0mWARNING ⚠️ /content/drive/MyDrive/archive (43)/bus/Datacluster_bus (18).jpg: ignoring corrupt image/label: cannot identify image file '/content/drive/MyDrive/archive (43)/bus/Datacluster_bus (18).jpg'\n",
            "\u001b[34m\u001b[1mtrain: \u001b[0mWARNING ⚠️ /content/drive/MyDrive/archive (43)/bus/Datacluster_bus (19).jpg: ignoring corrupt image/label: cannot identify image file '/content/drive/MyDrive/archive (43)/bus/Datacluster_bus (19).jpg'\n",
            "\u001b[34m\u001b[1mtrain: \u001b[0mWARNING ⚠️ /content/drive/MyDrive/archive (43)/bus/Datacluster_bus (2).jpg: ignoring corrupt image/label: cannot identify image file '/content/drive/MyDrive/archive (43)/bus/Datacluster_bus (2).jpg'\n",
            "\u001b[34m\u001b[1mtrain: \u001b[0mWARNING ⚠️ /content/drive/MyDrive/archive (43)/bus/Datacluster_bus (20).jpg: ignoring corrupt image/label: cannot identify image file '/content/drive/MyDrive/archive (43)/bus/Datacluster_bus (20).jpg'\n",
            "\u001b[34m\u001b[1mtrain: \u001b[0mWARNING ⚠️ /content/drive/MyDrive/archive (43)/bus/Datacluster_bus (21).jpg: ignoring corrupt image/label: cannot identify image file '/content/drive/MyDrive/archive (43)/bus/Datacluster_bus (21).jpg'\n",
            "\u001b[34m\u001b[1mtrain: \u001b[0mWARNING ⚠️ /content/drive/MyDrive/archive (43)/bus/Datacluster_bus (22).jpg: ignoring corrupt image/label: cannot identify image file '/content/drive/MyDrive/archive (43)/bus/Datacluster_bus (22).jpg'\n",
            "\u001b[34m\u001b[1mtrain: \u001b[0mWARNING ⚠️ /content/drive/MyDrive/archive (43)/bus/Datacluster_bus (23).jpg: ignoring corrupt image/label: cannot identify image file '/content/drive/MyDrive/archive (43)/bus/Datacluster_bus (23).jpg'\n",
            "\u001b[34m\u001b[1mtrain: \u001b[0mWARNING ⚠️ /content/drive/MyDrive/archive (43)/bus/Datacluster_bus (24).jpg: ignoring corrupt image/label: cannot identify image file '/content/drive/MyDrive/archive (43)/bus/Datacluster_bus (24).jpg'\n",
            "\u001b[34m\u001b[1mtrain: \u001b[0mWARNING ⚠️ /content/drive/MyDrive/archive (43)/bus/Datacluster_bus (25).jpg: ignoring corrupt image/label: cannot identify image file '/content/drive/MyDrive/archive (43)/bus/Datacluster_bus (25).jpg'\n",
            "\u001b[34m\u001b[1mtrain: \u001b[0mWARNING ⚠️ /content/drive/MyDrive/archive (43)/bus/Datacluster_bus (26).jpg: ignoring corrupt image/label: cannot identify image file '/content/drive/MyDrive/archive (43)/bus/Datacluster_bus (26).jpg'\n",
            "\u001b[34m\u001b[1mtrain: \u001b[0mWARNING ⚠️ /content/drive/MyDrive/archive (43)/bus/Datacluster_bus (27).jpg: ignoring corrupt image/label: cannot identify image file '/content/drive/MyDrive/archive (43)/bus/Datacluster_bus (27).jpg'\n",
            "\u001b[34m\u001b[1mtrain: \u001b[0mWARNING ⚠️ /content/drive/MyDrive/archive (43)/bus/Datacluster_bus (28).jpg: ignoring corrupt image/label: cannot identify image file '/content/drive/MyDrive/archive (43)/bus/Datacluster_bus (28).jpg'\n",
            "\u001b[34m\u001b[1mtrain: \u001b[0mWARNING ⚠️ /content/drive/MyDrive/archive (43)/bus/Datacluster_bus (29).jpg: ignoring corrupt image/label: cannot identify image file '/content/drive/MyDrive/archive (43)/bus/Datacluster_bus (29).jpg'\n",
            "\u001b[34m\u001b[1mtrain: \u001b[0mWARNING ⚠️ /content/drive/MyDrive/archive (43)/bus/Datacluster_bus (3).jpg: ignoring corrupt image/label: cannot identify image file '/content/drive/MyDrive/archive (43)/bus/Datacluster_bus (3).jpg'\n",
            "\u001b[34m\u001b[1mtrain: \u001b[0mWARNING ⚠️ /content/drive/MyDrive/archive (43)/bus/Datacluster_bus (30).jpg: ignoring corrupt image/label: cannot identify image file '/content/drive/MyDrive/archive (43)/bus/Datacluster_bus (30).jpg'\n",
            "\u001b[34m\u001b[1mtrain: \u001b[0mWARNING ⚠️ /content/drive/MyDrive/archive (43)/bus/Datacluster_bus (31).jpg: ignoring corrupt image/label: cannot identify image file '/content/drive/MyDrive/archive (43)/bus/Datacluster_bus (31).jpg'\n",
            "\u001b[34m\u001b[1mtrain: \u001b[0mWARNING ⚠️ /content/drive/MyDrive/archive (43)/bus/Datacluster_bus (32).jpg: ignoring corrupt image/label: cannot identify image file '/content/drive/MyDrive/archive (43)/bus/Datacluster_bus (32).jpg'\n",
            "\u001b[34m\u001b[1mtrain: \u001b[0mWARNING ⚠️ /content/drive/MyDrive/archive (43)/bus/Datacluster_bus (33).jpg: ignoring corrupt image/label: cannot identify image file '/content/drive/MyDrive/archive (43)/bus/Datacluster_bus (33).jpg'\n",
            "\u001b[34m\u001b[1mtrain: \u001b[0mWARNING ⚠️ /content/drive/MyDrive/archive (43)/bus/Datacluster_bus (34).jpg: ignoring corrupt image/label: cannot identify image file '/content/drive/MyDrive/archive (43)/bus/Datacluster_bus (34).jpg'\n",
            "\u001b[34m\u001b[1mtrain: \u001b[0mWARNING ⚠️ /content/drive/MyDrive/archive (43)/bus/Datacluster_bus (35).jpg: ignoring corrupt image/label: cannot identify image file '/content/drive/MyDrive/archive (43)/bus/Datacluster_bus (35).jpg'\n",
            "\u001b[34m\u001b[1mtrain: \u001b[0mWARNING ⚠️ /content/drive/MyDrive/archive (43)/bus/Datacluster_bus (36).jpg: ignoring corrupt image/label: cannot identify image file '/content/drive/MyDrive/archive (43)/bus/Datacluster_bus (36).jpg'\n",
            "\u001b[34m\u001b[1mtrain: \u001b[0mWARNING ⚠️ /content/drive/MyDrive/archive (43)/bus/Datacluster_bus (37).jpg: ignoring corrupt image/label: cannot identify image file '/content/drive/MyDrive/archive (43)/bus/Datacluster_bus (37).jpg'\n",
            "\u001b[34m\u001b[1mtrain: \u001b[0mWARNING ⚠️ /content/drive/MyDrive/archive (43)/bus/Datacluster_bus (4).jpg: ignoring corrupt image/label: cannot identify image file '/content/drive/MyDrive/archive (43)/bus/Datacluster_bus (4).jpg'\n",
            "\u001b[34m\u001b[1mtrain: \u001b[0mWARNING ⚠️ /content/drive/MyDrive/archive (43)/bus/Datacluster_bus (5).jpg: ignoring corrupt image/label: cannot identify image file '/content/drive/MyDrive/archive (43)/bus/Datacluster_bus (5).jpg'\n",
            "\u001b[34m\u001b[1mtrain: \u001b[0mWARNING ⚠️ /content/drive/MyDrive/archive (43)/bus/Datacluster_bus (6).jpg: ignoring corrupt image/label: cannot identify image file '/content/drive/MyDrive/archive (43)/bus/Datacluster_bus (6).jpg'\n",
            "\u001b[34m\u001b[1mtrain: \u001b[0mWARNING ⚠️ /content/drive/MyDrive/archive (43)/bus/Datacluster_bus (7).jpg: ignoring corrupt image/label: cannot identify image file '/content/drive/MyDrive/archive (43)/bus/Datacluster_bus (7).jpg'\n",
            "\u001b[34m\u001b[1mtrain: \u001b[0mWARNING ⚠️ /content/drive/MyDrive/archive (43)/bus/Datacluster_bus (8).jpg: ignoring corrupt image/label: cannot identify image file '/content/drive/MyDrive/archive (43)/bus/Datacluster_bus (8).jpg'\n",
            "\u001b[34m\u001b[1mtrain: \u001b[0mWARNING ⚠️ /content/drive/MyDrive/archive (43)/bus/Datacluster_bus (9).jpg: ignoring corrupt image/label: cannot identify image file '/content/drive/MyDrive/archive (43)/bus/Datacluster_bus (9).jpg'\n",
            "\u001b[34m\u001b[1mtrain: \u001b[0mWARNING ⚠️ /content/drive/MyDrive/archive (43)/tractor/Datacluster_tracktor (1).jpg: ignoring corrupt image/label: cannot identify image file '/content/drive/MyDrive/archive (43)/tractor/Datacluster_tracktor (1).jpg'\n",
            "\u001b[34m\u001b[1mtrain: \u001b[0mWARNING ⚠️ /content/drive/MyDrive/archive (43)/tractor/Datacluster_tracktor (10).jpg: ignoring corrupt image/label: cannot identify image file '/content/drive/MyDrive/archive (43)/tractor/Datacluster_tracktor (10).jpg'\n",
            "\u001b[34m\u001b[1mtrain: \u001b[0mWARNING ⚠️ /content/drive/MyDrive/archive (43)/tractor/Datacluster_tracktor (11).jpg: ignoring corrupt image/label: cannot identify image file '/content/drive/MyDrive/archive (43)/tractor/Datacluster_tracktor (11).jpg'\n",
            "\u001b[34m\u001b[1mtrain: \u001b[0mWARNING ⚠️ /content/drive/MyDrive/archive (43)/tractor/Datacluster_tracktor (12).jpg: ignoring corrupt image/label: cannot identify image file '/content/drive/MyDrive/archive (43)/tractor/Datacluster_tracktor (12).jpg'\n",
            "\u001b[34m\u001b[1mtrain: \u001b[0mWARNING ⚠️ /content/drive/MyDrive/archive (43)/tractor/Datacluster_tracktor (13).jpg: ignoring corrupt image/label: cannot identify image file '/content/drive/MyDrive/archive (43)/tractor/Datacluster_tracktor (13).jpg'\n",
            "\u001b[34m\u001b[1mtrain: \u001b[0mWARNING ⚠️ /content/drive/MyDrive/archive (43)/tractor/Datacluster_tracktor (14).jpg: ignoring corrupt image/label: cannot identify image file '/content/drive/MyDrive/archive (43)/tractor/Datacluster_tracktor (14).jpg'\n",
            "\u001b[34m\u001b[1mtrain: \u001b[0mWARNING ⚠️ /content/drive/MyDrive/archive (43)/tractor/Datacluster_tracktor (15).jpg: ignoring corrupt image/label: cannot identify image file '/content/drive/MyDrive/archive (43)/tractor/Datacluster_tracktor (15).jpg'\n",
            "\u001b[34m\u001b[1mtrain: \u001b[0mWARNING ⚠️ /content/drive/MyDrive/archive (43)/tractor/Datacluster_tracktor (16).jpg: ignoring corrupt image/label: cannot identify image file '/content/drive/MyDrive/archive (43)/tractor/Datacluster_tracktor (16).jpg'\n",
            "\u001b[34m\u001b[1mtrain: \u001b[0mWARNING ⚠️ /content/drive/MyDrive/archive (43)/tractor/Datacluster_tracktor (17).jpg: ignoring corrupt image/label: cannot identify image file '/content/drive/MyDrive/archive (43)/tractor/Datacluster_tracktor (17).jpg'\n",
            "\u001b[34m\u001b[1mtrain: \u001b[0mWARNING ⚠️ /content/drive/MyDrive/archive (43)/tractor/Datacluster_tracktor (18).jpg: ignoring corrupt image/label: cannot identify image file '/content/drive/MyDrive/archive (43)/tractor/Datacluster_tracktor (18).jpg'\n",
            "\u001b[34m\u001b[1mtrain: \u001b[0mWARNING ⚠️ /content/drive/MyDrive/archive (43)/tractor/Datacluster_tracktor (19).jpg: ignoring corrupt image/label: cannot identify image file '/content/drive/MyDrive/archive (43)/tractor/Datacluster_tracktor (19).jpg'\n",
            "\u001b[34m\u001b[1mtrain: \u001b[0mWARNING ⚠️ /content/drive/MyDrive/archive (43)/tractor/Datacluster_tracktor (2).jpg: ignoring corrupt image/label: cannot identify image file '/content/drive/MyDrive/archive (43)/tractor/Datacluster_tracktor (2).jpg'\n",
            "\u001b[34m\u001b[1mtrain: \u001b[0mWARNING ⚠️ /content/drive/MyDrive/archive (43)/tractor/Datacluster_tracktor (20).jpg: ignoring corrupt image/label: cannot identify image file '/content/drive/MyDrive/archive (43)/tractor/Datacluster_tracktor (20).jpg'\n",
            "\u001b[34m\u001b[1mtrain: \u001b[0mWARNING ⚠️ /content/drive/MyDrive/archive (43)/tractor/Datacluster_tracktor (21).jpg: ignoring corrupt image/label: cannot identify image file '/content/drive/MyDrive/archive (43)/tractor/Datacluster_tracktor (21).jpg'\n",
            "\u001b[34m\u001b[1mtrain: \u001b[0mWARNING ⚠️ /content/drive/MyDrive/archive (43)/tractor/Datacluster_tracktor (22).jpg: ignoring corrupt image/label: cannot identify image file '/content/drive/MyDrive/archive (43)/tractor/Datacluster_tracktor (22).jpg'\n",
            "\u001b[34m\u001b[1mtrain: \u001b[0mWARNING ⚠️ /content/drive/MyDrive/archive (43)/tractor/Datacluster_tracktor (23).jpg: ignoring corrupt image/label: cannot identify image file '/content/drive/MyDrive/archive (43)/tractor/Datacluster_tracktor (23).jpg'\n",
            "\u001b[34m\u001b[1mtrain: \u001b[0mWARNING ⚠️ /content/drive/MyDrive/archive (43)/tractor/Datacluster_tracktor (24).jpg: ignoring corrupt image/label: cannot identify image file '/content/drive/MyDrive/archive (43)/tractor/Datacluster_tracktor (24).jpg'\n",
            "\u001b[34m\u001b[1mtrain: \u001b[0mWARNING ⚠️ /content/drive/MyDrive/archive (43)/tractor/Datacluster_tracktor (25).jpg: ignoring corrupt image/label: cannot identify image file '/content/drive/MyDrive/archive (43)/tractor/Datacluster_tracktor (25).jpg'\n",
            "\u001b[34m\u001b[1mtrain: \u001b[0mWARNING ⚠️ /content/drive/MyDrive/archive (43)/tractor/Datacluster_tracktor (26).jpg: ignoring corrupt image/label: cannot identify image file '/content/drive/MyDrive/archive (43)/tractor/Datacluster_tracktor (26).jpg'\n",
            "\u001b[34m\u001b[1mtrain: \u001b[0mWARNING ⚠️ /content/drive/MyDrive/archive (43)/tractor/Datacluster_tracktor (27).jpg: ignoring corrupt image/label: cannot identify image file '/content/drive/MyDrive/archive (43)/tractor/Datacluster_tracktor (27).jpg'\n",
            "\u001b[34m\u001b[1mtrain: \u001b[0mWARNING ⚠️ /content/drive/MyDrive/archive (43)/tractor/Datacluster_tracktor (28).jpg: ignoring corrupt image/label: cannot identify image file '/content/drive/MyDrive/archive (43)/tractor/Datacluster_tracktor (28).jpg'\n",
            "\u001b[34m\u001b[1mtrain: \u001b[0mWARNING ⚠️ /content/drive/MyDrive/archive (43)/tractor/Datacluster_tracktor (29).jpg: ignoring corrupt image/label: cannot identify image file '/content/drive/MyDrive/archive (43)/tractor/Datacluster_tracktor (29).jpg'\n",
            "\u001b[34m\u001b[1mtrain: \u001b[0mWARNING ⚠️ /content/drive/MyDrive/archive (43)/tractor/Datacluster_tracktor (3).jpg: ignoring corrupt image/label: cannot identify image file '/content/drive/MyDrive/archive (43)/tractor/Datacluster_tracktor (3).jpg'\n",
            "\u001b[34m\u001b[1mtrain: \u001b[0mWARNING ⚠️ /content/drive/MyDrive/archive (43)/tractor/Datacluster_tracktor (30).jpg: ignoring corrupt image/label: cannot identify image file '/content/drive/MyDrive/archive (43)/tractor/Datacluster_tracktor (30).jpg'\n",
            "\u001b[34m\u001b[1mtrain: \u001b[0mWARNING ⚠️ /content/drive/MyDrive/archive (43)/tractor/Datacluster_tracktor (31).jpg: ignoring corrupt image/label: cannot identify image file '/content/drive/MyDrive/archive (43)/tractor/Datacluster_tracktor (31).jpg'\n",
            "\u001b[34m\u001b[1mtrain: \u001b[0mWARNING ⚠️ /content/drive/MyDrive/archive (43)/tractor/Datacluster_tracktor (32).jpg: ignoring corrupt image/label: cannot identify image file '/content/drive/MyDrive/archive (43)/tractor/Datacluster_tracktor (32).jpg'\n",
            "\u001b[34m\u001b[1mtrain: \u001b[0mWARNING ⚠️ /content/drive/MyDrive/archive (43)/tractor/Datacluster_tracktor (33).jpg: ignoring corrupt image/label: cannot identify image file '/content/drive/MyDrive/archive (43)/tractor/Datacluster_tracktor (33).jpg'\n",
            "\u001b[34m\u001b[1mtrain: \u001b[0mWARNING ⚠️ /content/drive/MyDrive/archive (43)/tractor/Datacluster_tracktor (34).jpg: ignoring corrupt image/label: cannot identify image file '/content/drive/MyDrive/archive (43)/tractor/Datacluster_tracktor (34).jpg'\n",
            "\u001b[34m\u001b[1mtrain: \u001b[0mWARNING ⚠️ /content/drive/MyDrive/archive (43)/tractor/Datacluster_tracktor (35).jpg: ignoring corrupt image/label: cannot identify image file '/content/drive/MyDrive/archive (43)/tractor/Datacluster_tracktor (35).jpg'\n",
            "\u001b[34m\u001b[1mtrain: \u001b[0mWARNING ⚠️ /content/drive/MyDrive/archive (43)/tractor/Datacluster_tracktor (36).jpg: ignoring corrupt image/label: cannot identify image file '/content/drive/MyDrive/archive (43)/tractor/Datacluster_tracktor (36).jpg'\n",
            "\u001b[34m\u001b[1mtrain: \u001b[0mWARNING ⚠️ /content/drive/MyDrive/archive (43)/tractor/Datacluster_tracktor (37).jpg: ignoring corrupt image/label: cannot identify image file '/content/drive/MyDrive/archive (43)/tractor/Datacluster_tracktor (37).jpg'\n",
            "\u001b[34m\u001b[1mtrain: \u001b[0mWARNING ⚠️ /content/drive/MyDrive/archive (43)/tractor/Datacluster_tracktor (38).jpg: ignoring corrupt image/label: cannot identify image file '/content/drive/MyDrive/archive (43)/tractor/Datacluster_tracktor (38).jpg'\n",
            "\u001b[34m\u001b[1mtrain: \u001b[0mWARNING ⚠️ /content/drive/MyDrive/archive (43)/tractor/Datacluster_tracktor (39).jpg: ignoring corrupt image/label: cannot identify image file '/content/drive/MyDrive/archive (43)/tractor/Datacluster_tracktor (39).jpg'\n",
            "\u001b[34m\u001b[1mtrain: \u001b[0mWARNING ⚠️ /content/drive/MyDrive/archive (43)/tractor/Datacluster_tracktor (4).jpg: ignoring corrupt image/label: cannot identify image file '/content/drive/MyDrive/archive (43)/tractor/Datacluster_tracktor (4).jpg'\n",
            "\u001b[34m\u001b[1mtrain: \u001b[0mWARNING ⚠️ /content/drive/MyDrive/archive (43)/tractor/Datacluster_tracktor (40).jpg: ignoring corrupt image/label: cannot identify image file '/content/drive/MyDrive/archive (43)/tractor/Datacluster_tracktor (40).jpg'\n",
            "\u001b[34m\u001b[1mtrain: \u001b[0mWARNING ⚠️ /content/drive/MyDrive/archive (43)/tractor/Datacluster_tracktor (41).jpg: ignoring corrupt image/label: cannot identify image file '/content/drive/MyDrive/archive (43)/tractor/Datacluster_tracktor (41).jpg'\n",
            "\u001b[34m\u001b[1mtrain: \u001b[0mWARNING ⚠️ /content/drive/MyDrive/archive (43)/tractor/Datacluster_tracktor (42).jpg: ignoring corrupt image/label: cannot identify image file '/content/drive/MyDrive/archive (43)/tractor/Datacluster_tracktor (42).jpg'\n",
            "\u001b[34m\u001b[1mtrain: \u001b[0mWARNING ⚠️ /content/drive/MyDrive/archive (43)/tractor/Datacluster_tracktor (5).jpg: ignoring corrupt image/label: cannot identify image file '/content/drive/MyDrive/archive (43)/tractor/Datacluster_tracktor (5).jpg'\n",
            "\u001b[34m\u001b[1mtrain: \u001b[0mWARNING ⚠️ /content/drive/MyDrive/archive (43)/tractor/Datacluster_tracktor (6).jpg: ignoring corrupt image/label: cannot identify image file '/content/drive/MyDrive/archive (43)/tractor/Datacluster_tracktor (6).jpg'\n",
            "\u001b[34m\u001b[1mtrain: \u001b[0mWARNING ⚠️ /content/drive/MyDrive/archive (43)/tractor/Datacluster_tracktor (7).jpg: ignoring corrupt image/label: cannot identify image file '/content/drive/MyDrive/archive (43)/tractor/Datacluster_tracktor (7).jpg'\n",
            "\u001b[34m\u001b[1mtrain: \u001b[0mWARNING ⚠️ /content/drive/MyDrive/archive (43)/tractor/Datacluster_tracktor (8).jpg: ignoring corrupt image/label: cannot identify image file '/content/drive/MyDrive/archive (43)/tractor/Datacluster_tracktor (8).jpg'\n",
            "\u001b[34m\u001b[1mtrain: \u001b[0mWARNING ⚠️ /content/drive/MyDrive/archive (43)/tractor/Datacluster_tracktor (9).jpg: ignoring corrupt image/label: cannot identify image file '/content/drive/MyDrive/archive (43)/tractor/Datacluster_tracktor (9).jpg'\n",
            "\u001b[34m\u001b[1mtrain: \u001b[0mWARNING ⚠️ /content/drive/MyDrive/archive (43)/tru├ºk/Datacluster_truck (1).jpg: ignoring corrupt image/label: cannot identify image file '/content/drive/MyDrive/archive (43)/tru├ºk/Datacluster_truck (1).jpg'\n",
            "\u001b[34m\u001b[1mtrain: \u001b[0mWARNING ⚠️ /content/drive/MyDrive/archive (43)/tru├ºk/Datacluster_truck (10).jpg: ignoring corrupt image/label: cannot identify image file '/content/drive/MyDrive/archive (43)/tru├ºk/Datacluster_truck (10).jpg'\n",
            "\u001b[34m\u001b[1mtrain: \u001b[0mWARNING ⚠️ /content/drive/MyDrive/archive (43)/tru├ºk/Datacluster_truck (11).jpg: ignoring corrupt image/label: cannot identify image file '/content/drive/MyDrive/archive (43)/tru├ºk/Datacluster_truck (11).jpg'\n",
            "\u001b[34m\u001b[1mtrain: \u001b[0mWARNING ⚠️ /content/drive/MyDrive/archive (43)/tru├ºk/Datacluster_truck (12).jpg: ignoring corrupt image/label: cannot identify image file '/content/drive/MyDrive/archive (43)/tru├ºk/Datacluster_truck (12).jpg'\n",
            "\u001b[34m\u001b[1mtrain: \u001b[0mWARNING ⚠️ /content/drive/MyDrive/archive (43)/tru├ºk/Datacluster_truck (13).jpg: ignoring corrupt image/label: cannot identify image file '/content/drive/MyDrive/archive (43)/tru├ºk/Datacluster_truck (13).jpg'\n",
            "\u001b[34m\u001b[1mtrain: \u001b[0mWARNING ⚠️ /content/drive/MyDrive/archive (43)/tru├ºk/Datacluster_truck (14).jpg: ignoring corrupt image/label: cannot identify image file '/content/drive/MyDrive/archive (43)/tru├ºk/Datacluster_truck (14).jpg'\n",
            "\u001b[34m\u001b[1mtrain: \u001b[0mWARNING ⚠️ /content/drive/MyDrive/archive (43)/tru├ºk/Datacluster_truck (15).jpg: ignoring corrupt image/label: cannot identify image file '/content/drive/MyDrive/archive (43)/tru├ºk/Datacluster_truck (15).jpg'\n",
            "\u001b[34m\u001b[1mtrain: \u001b[0mWARNING ⚠️ /content/drive/MyDrive/archive (43)/tru├ºk/Datacluster_truck (16).jpg: ignoring corrupt image/label: cannot identify image file '/content/drive/MyDrive/archive (43)/tru├ºk/Datacluster_truck (16).jpg'\n",
            "\u001b[34m\u001b[1mtrain: \u001b[0mWARNING ⚠️ /content/drive/MyDrive/archive (43)/tru├ºk/Datacluster_truck (17).jpg: ignoring corrupt image/label: cannot identify image file '/content/drive/MyDrive/archive (43)/tru├ºk/Datacluster_truck (17).jpg'\n",
            "\u001b[34m\u001b[1mtrain: \u001b[0mWARNING ⚠️ /content/drive/MyDrive/archive (43)/tru├ºk/Datacluster_truck (18).jpg: ignoring corrupt image/label: cannot identify image file '/content/drive/MyDrive/archive (43)/tru├ºk/Datacluster_truck (18).jpg'\n",
            "\u001b[34m\u001b[1mtrain: \u001b[0mWARNING ⚠️ /content/drive/MyDrive/archive (43)/tru├ºk/Datacluster_truck (19).jpg: ignoring corrupt image/label: cannot identify image file '/content/drive/MyDrive/archive (43)/tru├ºk/Datacluster_truck (19).jpg'\n",
            "\u001b[34m\u001b[1mtrain: \u001b[0mWARNING ⚠️ /content/drive/MyDrive/archive (43)/tru├ºk/Datacluster_truck (2).jpg: ignoring corrupt image/label: cannot identify image file '/content/drive/MyDrive/archive (43)/tru├ºk/Datacluster_truck (2).jpg'\n",
            "\u001b[34m\u001b[1mtrain: \u001b[0mWARNING ⚠️ /content/drive/MyDrive/archive (43)/tru├ºk/Datacluster_truck (20).jpg: ignoring corrupt image/label: cannot identify image file '/content/drive/MyDrive/archive (43)/tru├ºk/Datacluster_truck (20).jpg'\n",
            "\u001b[34m\u001b[1mtrain: \u001b[0mWARNING ⚠️ /content/drive/MyDrive/archive (43)/tru├ºk/Datacluster_truck (21).jpg: ignoring corrupt image/label: cannot identify image file '/content/drive/MyDrive/archive (43)/tru├ºk/Datacluster_truck (21).jpg'\n",
            "\u001b[34m\u001b[1mtrain: \u001b[0mWARNING ⚠️ /content/drive/MyDrive/archive (43)/tru├ºk/Datacluster_truck (22).jpg: ignoring corrupt image/label: cannot identify image file '/content/drive/MyDrive/archive (43)/tru├ºk/Datacluster_truck (22).jpg'\n",
            "\u001b[34m\u001b[1mtrain: \u001b[0mWARNING ⚠️ /content/drive/MyDrive/archive (43)/tru├ºk/Datacluster_truck (23).jpg: ignoring corrupt image/label: cannot identify image file '/content/drive/MyDrive/archive (43)/tru├ºk/Datacluster_truck (23).jpg'\n",
            "\u001b[34m\u001b[1mtrain: \u001b[0mWARNING ⚠️ /content/drive/MyDrive/archive (43)/tru├ºk/Datacluster_truck (24).jpg: ignoring corrupt image/label: cannot identify image file '/content/drive/MyDrive/archive (43)/tru├ºk/Datacluster_truck (24).jpg'\n",
            "\u001b[34m\u001b[1mtrain: \u001b[0mWARNING ⚠️ /content/drive/MyDrive/archive (43)/tru├ºk/Datacluster_truck (25).jpg: ignoring corrupt image/label: cannot identify image file '/content/drive/MyDrive/archive (43)/tru├ºk/Datacluster_truck (25).jpg'\n",
            "\u001b[34m\u001b[1mtrain: \u001b[0mWARNING ⚠️ /content/drive/MyDrive/archive (43)/tru├ºk/Datacluster_truck (26).jpg: ignoring corrupt image/label: cannot identify image file '/content/drive/MyDrive/archive (43)/tru├ºk/Datacluster_truck (26).jpg'\n",
            "\u001b[34m\u001b[1mtrain: \u001b[0mWARNING ⚠️ /content/drive/MyDrive/archive (43)/tru├ºk/Datacluster_truck (27).jpg: ignoring corrupt image/label: cannot identify image file '/content/drive/MyDrive/archive (43)/tru├ºk/Datacluster_truck (27).jpg'\n",
            "\u001b[34m\u001b[1mtrain: \u001b[0mWARNING ⚠️ /content/drive/MyDrive/archive (43)/tru├ºk/Datacluster_truck (28).jpg: ignoring corrupt image/label: cannot identify image file '/content/drive/MyDrive/archive (43)/tru├ºk/Datacluster_truck (28).jpg'\n",
            "\u001b[34m\u001b[1mtrain: \u001b[0mWARNING ⚠️ /content/drive/MyDrive/archive (43)/tru├ºk/Datacluster_truck (29).jpg: ignoring corrupt image/label: cannot identify image file '/content/drive/MyDrive/archive (43)/tru├ºk/Datacluster_truck (29).jpg'\n",
            "\u001b[34m\u001b[1mtrain: \u001b[0mWARNING ⚠️ /content/drive/MyDrive/archive (43)/tru├ºk/Datacluster_truck (3).jpg: ignoring corrupt image/label: cannot identify image file '/content/drive/MyDrive/archive (43)/tru├ºk/Datacluster_truck (3).jpg'\n",
            "\u001b[34m\u001b[1mtrain: \u001b[0mWARNING ⚠️ /content/drive/MyDrive/archive (43)/tru├ºk/Datacluster_truck (30).jpg: ignoring corrupt image/label: cannot identify image file '/content/drive/MyDrive/archive (43)/tru├ºk/Datacluster_truck (30).jpg'\n",
            "\u001b[34m\u001b[1mtrain: \u001b[0mWARNING ⚠️ /content/drive/MyDrive/archive (43)/tru├ºk/Datacluster_truck (31).jpg: ignoring corrupt image/label: cannot identify image file '/content/drive/MyDrive/archive (43)/tru├ºk/Datacluster_truck (31).jpg'\n",
            "\u001b[34m\u001b[1mtrain: \u001b[0mWARNING ⚠️ /content/drive/MyDrive/archive (43)/tru├ºk/Datacluster_truck (32).jpg: ignoring corrupt image/label: cannot identify image file '/content/drive/MyDrive/archive (43)/tru├ºk/Datacluster_truck (32).jpg'\n",
            "\u001b[34m\u001b[1mtrain: \u001b[0mWARNING ⚠️ /content/drive/MyDrive/archive (43)/tru├ºk/Datacluster_truck (33).jpg: ignoring corrupt image/label: cannot identify image file '/content/drive/MyDrive/archive (43)/tru├ºk/Datacluster_truck (33).jpg'\n",
            "\u001b[34m\u001b[1mtrain: \u001b[0mWARNING ⚠️ /content/drive/MyDrive/archive (43)/tru├ºk/Datacluster_truck (34).jpg: ignoring corrupt image/label: cannot identify image file '/content/drive/MyDrive/archive (43)/tru├ºk/Datacluster_truck (34).jpg'\n",
            "\u001b[34m\u001b[1mtrain: \u001b[0mWARNING ⚠️ /content/drive/MyDrive/archive (43)/tru├ºk/Datacluster_truck (35).jpg: ignoring corrupt image/label: cannot identify image file '/content/drive/MyDrive/archive (43)/tru├ºk/Datacluster_truck (35).jpg'\n",
            "\u001b[34m\u001b[1mtrain: \u001b[0mWARNING ⚠️ /content/drive/MyDrive/archive (43)/tru├ºk/Datacluster_truck (36).jpg: ignoring corrupt image/label: cannot identify image file '/content/drive/MyDrive/archive (43)/tru├ºk/Datacluster_truck (36).jpg'\n",
            "\u001b[34m\u001b[1mtrain: \u001b[0mWARNING ⚠️ /content/drive/MyDrive/archive (43)/tru├ºk/Datacluster_truck (37).jpg: ignoring corrupt image/label: cannot identify image file '/content/drive/MyDrive/archive (43)/tru├ºk/Datacluster_truck (37).jpg'\n",
            "\u001b[34m\u001b[1mtrain: \u001b[0mWARNING ⚠️ /content/drive/MyDrive/archive (43)/tru├ºk/Datacluster_truck (38).jpg: ignoring corrupt image/label: cannot identify image file '/content/drive/MyDrive/archive (43)/tru├ºk/Datacluster_truck (38).jpg'\n",
            "\u001b[34m\u001b[1mtrain: \u001b[0mWARNING ⚠️ /content/drive/MyDrive/archive (43)/tru├ºk/Datacluster_truck (39).jpg: ignoring corrupt image/label: cannot identify image file '/content/drive/MyDrive/archive (43)/tru├ºk/Datacluster_truck (39).jpg'\n",
            "\u001b[34m\u001b[1mtrain: \u001b[0mWARNING ⚠️ /content/drive/MyDrive/archive (43)/tru├ºk/Datacluster_truck (4).jpg: ignoring corrupt image/label: cannot identify image file '/content/drive/MyDrive/archive (43)/tru├ºk/Datacluster_truck (4).jpg'\n",
            "\u001b[34m\u001b[1mtrain: \u001b[0mWARNING ⚠️ /content/drive/MyDrive/archive (43)/tru├ºk/Datacluster_truck (40).jpg: ignoring corrupt image/label: cannot identify image file '/content/drive/MyDrive/archive (43)/tru├ºk/Datacluster_truck (40).jpg'\n",
            "\u001b[34m\u001b[1mtrain: \u001b[0mWARNING ⚠️ /content/drive/MyDrive/archive (43)/tru├ºk/Datacluster_truck (41).jpg: ignoring corrupt image/label: cannot identify image file '/content/drive/MyDrive/archive (43)/tru├ºk/Datacluster_truck (41).jpg'\n",
            "\u001b[34m\u001b[1mtrain: \u001b[0mWARNING ⚠️ /content/drive/MyDrive/archive (43)/tru├ºk/Datacluster_truck (42).jpg: ignoring corrupt image/label: cannot identify image file '/content/drive/MyDrive/archive (43)/tru├ºk/Datacluster_truck (42).jpg'\n",
            "\u001b[34m\u001b[1mtrain: \u001b[0mWARNING ⚠️ /content/drive/MyDrive/archive (43)/tru├ºk/Datacluster_truck (43).jpg: ignoring corrupt image/label: cannot identify image file '/content/drive/MyDrive/archive (43)/tru├ºk/Datacluster_truck (43).jpg'\n",
            "\u001b[34m\u001b[1mtrain: \u001b[0mWARNING ⚠️ /content/drive/MyDrive/archive (43)/tru├ºk/Datacluster_truck (44).jpg: ignoring corrupt image/label: cannot identify image file '/content/drive/MyDrive/archive (43)/tru├ºk/Datacluster_truck (44).jpg'\n",
            "\u001b[34m\u001b[1mtrain: \u001b[0mWARNING ⚠️ /content/drive/MyDrive/archive (43)/tru├ºk/Datacluster_truck (45).jpg: ignoring corrupt image/label: cannot identify image file '/content/drive/MyDrive/archive (43)/tru├ºk/Datacluster_truck (45).jpg'\n",
            "\u001b[34m\u001b[1mtrain: \u001b[0mWARNING ⚠️ /content/drive/MyDrive/archive (43)/tru├ºk/Datacluster_truck (46).jpg: ignoring corrupt image/label: cannot identify image file '/content/drive/MyDrive/archive (43)/tru├ºk/Datacluster_truck (46).jpg'\n",
            "\u001b[34m\u001b[1mtrain: \u001b[0mWARNING ⚠️ /content/drive/MyDrive/archive (43)/tru├ºk/Datacluster_truck (47).jpg: ignoring corrupt image/label: cannot identify image file '/content/drive/MyDrive/archive (43)/tru├ºk/Datacluster_truck (47).jpg'\n",
            "\u001b[34m\u001b[1mtrain: \u001b[0mWARNING ⚠️ /content/drive/MyDrive/archive (43)/tru├ºk/Datacluster_truck (48).jpg: ignoring corrupt image/label: cannot identify image file '/content/drive/MyDrive/archive (43)/tru├ºk/Datacluster_truck (48).jpg'\n",
            "\u001b[34m\u001b[1mtrain: \u001b[0mWARNING ⚠️ /content/drive/MyDrive/archive (43)/tru├ºk/Datacluster_truck (49).jpg: ignoring corrupt image/label: cannot identify image file '/content/drive/MyDrive/archive (43)/tru├ºk/Datacluster_truck (49).jpg'\n",
            "\u001b[34m\u001b[1mtrain: \u001b[0mWARNING ⚠️ /content/drive/MyDrive/archive (43)/tru├ºk/Datacluster_truck (5).jpg: ignoring corrupt image/label: cannot identify image file '/content/drive/MyDrive/archive (43)/tru├ºk/Datacluster_truck (5).jpg'\n",
            "\u001b[34m\u001b[1mtrain: \u001b[0mWARNING ⚠️ /content/drive/MyDrive/archive (43)/tru├ºk/Datacluster_truck (50).jpg: ignoring corrupt image/label: cannot identify image file '/content/drive/MyDrive/archive (43)/tru├ºk/Datacluster_truck (50).jpg'\n",
            "\u001b[34m\u001b[1mtrain: \u001b[0mWARNING ⚠️ /content/drive/MyDrive/archive (43)/tru├ºk/Datacluster_truck (51).jpg: ignoring corrupt image/label: cannot identify image file '/content/drive/MyDrive/archive (43)/tru├ºk/Datacluster_truck (51).jpg'\n",
            "\u001b[34m\u001b[1mtrain: \u001b[0mWARNING ⚠️ /content/drive/MyDrive/archive (43)/tru├ºk/Datacluster_truck (52).jpg: ignoring corrupt image/label: cannot identify image file '/content/drive/MyDrive/archive (43)/tru├ºk/Datacluster_truck (52).jpg'\n",
            "\u001b[34m\u001b[1mtrain: \u001b[0mWARNING ⚠️ /content/drive/MyDrive/archive (43)/tru├ºk/Datacluster_truck (53).jpg: ignoring corrupt image/label: cannot identify image file '/content/drive/MyDrive/archive (43)/tru├ºk/Datacluster_truck (53).jpg'\n",
            "\u001b[34m\u001b[1mtrain: \u001b[0mWARNING ⚠️ /content/drive/MyDrive/archive (43)/tru├ºk/Datacluster_truck (54).jpg: ignoring corrupt image/label: cannot identify image file '/content/drive/MyDrive/archive (43)/tru├ºk/Datacluster_truck (54).jpg'\n",
            "\u001b[34m\u001b[1mtrain: \u001b[0mWARNING ⚠️ /content/drive/MyDrive/archive (43)/tru├ºk/Datacluster_truck (55).jpg: ignoring corrupt image/label: cannot identify image file '/content/drive/MyDrive/archive (43)/tru├ºk/Datacluster_truck (55).jpg'\n",
            "\u001b[34m\u001b[1mtrain: \u001b[0mWARNING ⚠️ /content/drive/MyDrive/archive (43)/tru├ºk/Datacluster_truck (56).jpg: ignoring corrupt image/label: cannot identify image file '/content/drive/MyDrive/archive (43)/tru├ºk/Datacluster_truck (56).jpg'\n",
            "\u001b[34m\u001b[1mtrain: \u001b[0mWARNING ⚠️ /content/drive/MyDrive/archive (43)/tru├ºk/Datacluster_truck (57).jpg: ignoring corrupt image/label: cannot identify image file '/content/drive/MyDrive/archive (43)/tru├ºk/Datacluster_truck (57).jpg'\n",
            "\u001b[34m\u001b[1mtrain: \u001b[0mWARNING ⚠️ /content/drive/MyDrive/archive (43)/tru├ºk/Datacluster_truck (58).jpg: ignoring corrupt image/label: cannot identify image file '/content/drive/MyDrive/archive (43)/tru├ºk/Datacluster_truck (58).jpg'\n",
            "\u001b[34m\u001b[1mtrain: \u001b[0mWARNING ⚠️ /content/drive/MyDrive/archive (43)/tru├ºk/Datacluster_truck (59).jpg: ignoring corrupt image/label: cannot identify image file '/content/drive/MyDrive/archive (43)/tru├ºk/Datacluster_truck (59).jpg'\n",
            "\u001b[34m\u001b[1mtrain: \u001b[0mWARNING ⚠️ /content/drive/MyDrive/archive (43)/tru├ºk/Datacluster_truck (6).jpg: ignoring corrupt image/label: cannot identify image file '/content/drive/MyDrive/archive (43)/tru├ºk/Datacluster_truck (6).jpg'\n",
            "\u001b[34m\u001b[1mtrain: \u001b[0mWARNING ⚠️ /content/drive/MyDrive/archive (43)/tru├ºk/Datacluster_truck (60).jpg: ignoring corrupt image/label: cannot identify image file '/content/drive/MyDrive/archive (43)/tru├ºk/Datacluster_truck (60).jpg'\n",
            "\u001b[34m\u001b[1mtrain: \u001b[0mWARNING ⚠️ /content/drive/MyDrive/archive (43)/tru├ºk/Datacluster_truck (61).jpg: ignoring corrupt image/label: cannot identify image file '/content/drive/MyDrive/archive (43)/tru├ºk/Datacluster_truck (61).jpg'\n",
            "\u001b[34m\u001b[1mtrain: \u001b[0mWARNING ⚠️ /content/drive/MyDrive/archive (43)/tru├ºk/Datacluster_truck (62).jpg: ignoring corrupt image/label: cannot identify image file '/content/drive/MyDrive/archive (43)/tru├ºk/Datacluster_truck (62).jpg'\n",
            "\u001b[34m\u001b[1mtrain: \u001b[0mWARNING ⚠️ /content/drive/MyDrive/archive (43)/tru├ºk/Datacluster_truck (63).jpg: ignoring corrupt image/label: cannot identify image file '/content/drive/MyDrive/archive (43)/tru├ºk/Datacluster_truck (63).jpg'\n",
            "\u001b[34m\u001b[1mtrain: \u001b[0mWARNING ⚠️ /content/drive/MyDrive/archive (43)/tru├ºk/Datacluster_truck (64).jpg: ignoring corrupt image/label: cannot identify image file '/content/drive/MyDrive/archive (43)/tru├ºk/Datacluster_truck (64).jpg'\n",
            "\u001b[34m\u001b[1mtrain: \u001b[0mWARNING ⚠️ /content/drive/MyDrive/archive (43)/tru├ºk/Datacluster_truck (65).jpg: ignoring corrupt image/label: cannot identify image file '/content/drive/MyDrive/archive (43)/tru├ºk/Datacluster_truck (65).jpg'\n",
            "\u001b[34m\u001b[1mtrain: \u001b[0mWARNING ⚠️ /content/drive/MyDrive/archive (43)/tru├ºk/Datacluster_truck (66).jpg: ignoring corrupt image/label: cannot identify image file '/content/drive/MyDrive/archive (43)/tru├ºk/Datacluster_truck (66).jpg'\n",
            "\u001b[34m\u001b[1mtrain: \u001b[0mWARNING ⚠️ /content/drive/MyDrive/archive (43)/tru├ºk/Datacluster_truck (67).jpg: ignoring corrupt image/label: cannot identify image file '/content/drive/MyDrive/archive (43)/tru├ºk/Datacluster_truck (67).jpg'\n",
            "\u001b[34m\u001b[1mtrain: \u001b[0mWARNING ⚠️ /content/drive/MyDrive/archive (43)/tru├ºk/Datacluster_truck (68).jpg: ignoring corrupt image/label: cannot identify image file '/content/drive/MyDrive/archive (43)/tru├ºk/Datacluster_truck (68).jpg'\n",
            "\u001b[34m\u001b[1mtrain: \u001b[0mWARNING ⚠️ /content/drive/MyDrive/archive (43)/tru├ºk/Datacluster_truck (69).jpg: ignoring corrupt image/label: cannot identify image file '/content/drive/MyDrive/archive (43)/tru├ºk/Datacluster_truck (69).jpg'\n",
            "\u001b[34m\u001b[1mtrain: \u001b[0mWARNING ⚠️ /content/drive/MyDrive/archive (43)/tru├ºk/Datacluster_truck (7).jpg: ignoring corrupt image/label: cannot identify image file '/content/drive/MyDrive/archive (43)/tru├ºk/Datacluster_truck (7).jpg'\n",
            "\u001b[34m\u001b[1mtrain: \u001b[0mWARNING ⚠️ /content/drive/MyDrive/archive (43)/tru├ºk/Datacluster_truck (70).jpg: ignoring corrupt image/label: cannot identify image file '/content/drive/MyDrive/archive (43)/tru├ºk/Datacluster_truck (70).jpg'\n",
            "\u001b[34m\u001b[1mtrain: \u001b[0mWARNING ⚠️ /content/drive/MyDrive/archive (43)/tru├ºk/Datacluster_truck (71).jpg: ignoring corrupt image/label: cannot identify image file '/content/drive/MyDrive/archive (43)/tru├ºk/Datacluster_truck (71).jpg'\n",
            "\u001b[34m\u001b[1mtrain: \u001b[0mWARNING ⚠️ /content/drive/MyDrive/archive (43)/tru├ºk/Datacluster_truck (72).jpg: ignoring corrupt image/label: cannot identify image file '/content/drive/MyDrive/archive (43)/tru├ºk/Datacluster_truck (72).jpg'\n",
            "\u001b[34m\u001b[1mtrain: \u001b[0mWARNING ⚠️ /content/drive/MyDrive/archive (43)/tru├ºk/Datacluster_truck (73).jpg: ignoring corrupt image/label: cannot identify image file '/content/drive/MyDrive/archive (43)/tru├ºk/Datacluster_truck (73).jpg'\n",
            "\u001b[34m\u001b[1mtrain: \u001b[0mWARNING ⚠️ /content/drive/MyDrive/archive (43)/tru├ºk/Datacluster_truck (74).jpg: ignoring corrupt image/label: cannot identify image file '/content/drive/MyDrive/archive (43)/tru├ºk/Datacluster_truck (74).jpg'\n",
            "\u001b[34m\u001b[1mtrain: \u001b[0mWARNING ⚠️ /content/drive/MyDrive/archive (43)/tru├ºk/Datacluster_truck (75).jpg: ignoring corrupt image/label: cannot identify image file '/content/drive/MyDrive/archive (43)/tru├ºk/Datacluster_truck (75).jpg'\n",
            "\u001b[34m\u001b[1mtrain: \u001b[0mWARNING ⚠️ /content/drive/MyDrive/archive (43)/tru├ºk/Datacluster_truck (76).jpg: ignoring corrupt image/label: cannot identify image file '/content/drive/MyDrive/archive (43)/tru├ºk/Datacluster_truck (76).jpg'\n",
            "\u001b[34m\u001b[1mtrain: \u001b[0mWARNING ⚠️ /content/drive/MyDrive/archive (43)/tru├ºk/Datacluster_truck (77).jpg: ignoring corrupt image/label: cannot identify image file '/content/drive/MyDrive/archive (43)/tru├ºk/Datacluster_truck (77).jpg'\n",
            "\u001b[34m\u001b[1mtrain: \u001b[0mWARNING ⚠️ /content/drive/MyDrive/archive (43)/tru├ºk/Datacluster_truck (78).jpg: ignoring corrupt image/label: cannot identify image file '/content/drive/MyDrive/archive (43)/tru├ºk/Datacluster_truck (78).jpg'\n",
            "\u001b[34m\u001b[1mtrain: \u001b[0mWARNING ⚠️ /content/drive/MyDrive/archive (43)/tru├ºk/Datacluster_truck (79).jpg: ignoring corrupt image/label: cannot identify image file '/content/drive/MyDrive/archive (43)/tru├ºk/Datacluster_truck (79).jpg'\n",
            "\u001b[34m\u001b[1mtrain: \u001b[0mWARNING ⚠️ /content/drive/MyDrive/archive (43)/tru├ºk/Datacluster_truck (8).jpg: ignoring corrupt image/label: cannot identify image file '/content/drive/MyDrive/archive (43)/tru├ºk/Datacluster_truck (8).jpg'\n",
            "\u001b[34m\u001b[1mtrain: \u001b[0mWARNING ⚠️ /content/drive/MyDrive/archive (43)/tru├ºk/Datacluster_truck (80).jpg: ignoring corrupt image/label: cannot identify image file '/content/drive/MyDrive/archive (43)/tru├ºk/Datacluster_truck (80).jpg'\n",
            "\u001b[34m\u001b[1mtrain: \u001b[0mWARNING ⚠️ /content/drive/MyDrive/archive (43)/tru├ºk/Datacluster_truck (81).jpg: ignoring corrupt image/label: cannot identify image file '/content/drive/MyDrive/archive (43)/tru├ºk/Datacluster_truck (81).jpg'\n",
            "\u001b[34m\u001b[1mtrain: \u001b[0mWARNING ⚠️ /content/drive/MyDrive/archive (43)/tru├ºk/Datacluster_truck (9).jpg: ignoring corrupt image/label: cannot identify image file '/content/drive/MyDrive/archive (43)/tru├ºk/Datacluster_truck (9).jpg'\n",
            "\u001b[34m\u001b[1mtrain: \u001b[0mWARNING ⚠️ /content/drive/MyDrive/archive (43)/van/Datacluster_van (1).jpg: ignoring corrupt image/label: cannot identify image file '/content/drive/MyDrive/archive (43)/van/Datacluster_van (1).jpg'\n",
            "\u001b[34m\u001b[1mtrain: \u001b[0mWARNING ⚠️ /content/drive/MyDrive/archive (43)/van/Datacluster_van (10).jpg: ignoring corrupt image/label: cannot identify image file '/content/drive/MyDrive/archive (43)/van/Datacluster_van (10).jpg'\n",
            "\u001b[34m\u001b[1mtrain: \u001b[0mWARNING ⚠️ /content/drive/MyDrive/archive (43)/van/Datacluster_van (11).jpg: ignoring corrupt image/label: cannot identify image file '/content/drive/MyDrive/archive (43)/van/Datacluster_van (11).jpg'\n",
            "\u001b[34m\u001b[1mtrain: \u001b[0mWARNING ⚠️ /content/drive/MyDrive/archive (43)/van/Datacluster_van (12).jpg: ignoring corrupt image/label: cannot identify image file '/content/drive/MyDrive/archive (43)/van/Datacluster_van (12).jpg'\n",
            "\u001b[34m\u001b[1mtrain: \u001b[0mWARNING ⚠️ /content/drive/MyDrive/archive (43)/van/Datacluster_van (13).jpg: ignoring corrupt image/label: cannot identify image file '/content/drive/MyDrive/archive (43)/van/Datacluster_van (13).jpg'\n",
            "\u001b[34m\u001b[1mtrain: \u001b[0mWARNING ⚠️ /content/drive/MyDrive/archive (43)/van/Datacluster_van (14).jpg: ignoring corrupt image/label: cannot identify image file '/content/drive/MyDrive/archive (43)/van/Datacluster_van (14).jpg'\n",
            "\u001b[34m\u001b[1mtrain: \u001b[0mWARNING ⚠️ /content/drive/MyDrive/archive (43)/van/Datacluster_van (15).jpg: ignoring corrupt image/label: cannot identify image file '/content/drive/MyDrive/archive (43)/van/Datacluster_van (15).jpg'\n",
            "\u001b[34m\u001b[1mtrain: \u001b[0mWARNING ⚠️ /content/drive/MyDrive/archive (43)/van/Datacluster_van (16).jpg: ignoring corrupt image/label: cannot identify image file '/content/drive/MyDrive/archive (43)/van/Datacluster_van (16).jpg'\n",
            "\u001b[34m\u001b[1mtrain: \u001b[0mWARNING ⚠️ /content/drive/MyDrive/archive (43)/van/Datacluster_van (17).jpg: ignoring corrupt image/label: cannot identify image file '/content/drive/MyDrive/archive (43)/van/Datacluster_van (17).jpg'\n",
            "\u001b[34m\u001b[1mtrain: \u001b[0mWARNING ⚠️ /content/drive/MyDrive/archive (43)/van/Datacluster_van (18).jpg: ignoring corrupt image/label: cannot identify image file '/content/drive/MyDrive/archive (43)/van/Datacluster_van (18).jpg'\n",
            "\u001b[34m\u001b[1mtrain: \u001b[0mWARNING ⚠️ /content/drive/MyDrive/archive (43)/van/Datacluster_van (19).jpg: ignoring corrupt image/label: cannot identify image file '/content/drive/MyDrive/archive (43)/van/Datacluster_van (19).jpg'\n",
            "\u001b[34m\u001b[1mtrain: \u001b[0mWARNING ⚠️ /content/drive/MyDrive/archive (43)/van/Datacluster_van (2).jpg: ignoring corrupt image/label: cannot identify image file '/content/drive/MyDrive/archive (43)/van/Datacluster_van (2).jpg'\n",
            "\u001b[34m\u001b[1mtrain: \u001b[0mWARNING ⚠️ /content/drive/MyDrive/archive (43)/van/Datacluster_van (20).jpg: ignoring corrupt image/label: cannot identify image file '/content/drive/MyDrive/archive (43)/van/Datacluster_van (20).jpg'\n",
            "\u001b[34m\u001b[1mtrain: \u001b[0mWARNING ⚠️ /content/drive/MyDrive/archive (43)/van/Datacluster_van (21).jpg: ignoring corrupt image/label: cannot identify image file '/content/drive/MyDrive/archive (43)/van/Datacluster_van (21).jpg'\n",
            "\u001b[34m\u001b[1mtrain: \u001b[0mWARNING ⚠️ /content/drive/MyDrive/archive (43)/van/Datacluster_van (22).jpg: ignoring corrupt image/label: cannot identify image file '/content/drive/MyDrive/archive (43)/van/Datacluster_van (22).jpg'\n",
            "\u001b[34m\u001b[1mtrain: \u001b[0mWARNING ⚠️ /content/drive/MyDrive/archive (43)/van/Datacluster_van (23).jpg: ignoring corrupt image/label: cannot identify image file '/content/drive/MyDrive/archive (43)/van/Datacluster_van (23).jpg'\n",
            "\u001b[34m\u001b[1mtrain: \u001b[0mWARNING ⚠️ /content/drive/MyDrive/archive (43)/van/Datacluster_van (24).jpg: ignoring corrupt image/label: cannot identify image file '/content/drive/MyDrive/archive (43)/van/Datacluster_van (24).jpg'\n",
            "\u001b[34m\u001b[1mtrain: \u001b[0mWARNING ⚠️ /content/drive/MyDrive/archive (43)/van/Datacluster_van (25).jpg: ignoring corrupt image/label: cannot identify image file '/content/drive/MyDrive/archive (43)/van/Datacluster_van (25).jpg'\n",
            "\u001b[34m\u001b[1mtrain: \u001b[0mWARNING ⚠️ /content/drive/MyDrive/archive (43)/van/Datacluster_van (26).jpg: ignoring corrupt image/label: cannot identify image file '/content/drive/MyDrive/archive (43)/van/Datacluster_van (26).jpg'\n",
            "\u001b[34m\u001b[1mtrain: \u001b[0mWARNING ⚠️ /content/drive/MyDrive/archive (43)/van/Datacluster_van (27).jpg: ignoring corrupt image/label: cannot identify image file '/content/drive/MyDrive/archive (43)/van/Datacluster_van (27).jpg'\n",
            "\u001b[34m\u001b[1mtrain: \u001b[0mWARNING ⚠️ /content/drive/MyDrive/archive (43)/van/Datacluster_van (28).jpg: ignoring corrupt image/label: cannot identify image file '/content/drive/MyDrive/archive (43)/van/Datacluster_van (28).jpg'\n",
            "\u001b[34m\u001b[1mtrain: \u001b[0mWARNING ⚠️ /content/drive/MyDrive/archive (43)/van/Datacluster_van (29).jpg: ignoring corrupt image/label: cannot identify image file '/content/drive/MyDrive/archive (43)/van/Datacluster_van (29).jpg'\n",
            "\u001b[34m\u001b[1mtrain: \u001b[0mWARNING ⚠️ /content/drive/MyDrive/archive (43)/van/Datacluster_van (3).jpg: ignoring corrupt image/label: cannot identify image file '/content/drive/MyDrive/archive (43)/van/Datacluster_van (3).jpg'\n",
            "\u001b[34m\u001b[1mtrain: \u001b[0mWARNING ⚠️ /content/drive/MyDrive/archive (43)/van/Datacluster_van (30).jpg: ignoring corrupt image/label: cannot identify image file '/content/drive/MyDrive/archive (43)/van/Datacluster_van (30).jpg'\n",
            "\u001b[34m\u001b[1mtrain: \u001b[0mWARNING ⚠️ /content/drive/MyDrive/archive (43)/van/Datacluster_van (31).jpg: ignoring corrupt image/label: cannot identify image file '/content/drive/MyDrive/archive (43)/van/Datacluster_van (31).jpg'\n",
            "\u001b[34m\u001b[1mtrain: \u001b[0mWARNING ⚠️ /content/drive/MyDrive/archive (43)/van/Datacluster_van (4).jpg: ignoring corrupt image/label: cannot identify image file '/content/drive/MyDrive/archive (43)/van/Datacluster_van (4).jpg'\n",
            "\u001b[34m\u001b[1mtrain: \u001b[0mWARNING ⚠️ /content/drive/MyDrive/archive (43)/van/Datacluster_van (5).jpg: ignoring corrupt image/label: cannot identify image file '/content/drive/MyDrive/archive (43)/van/Datacluster_van (5).jpg'\n",
            "\u001b[34m\u001b[1mtrain: \u001b[0mWARNING ⚠️ /content/drive/MyDrive/archive (43)/van/Datacluster_van (6).jpg: ignoring corrupt image/label: cannot identify image file '/content/drive/MyDrive/archive (43)/van/Datacluster_van (6).jpg'\n",
            "\u001b[34m\u001b[1mtrain: \u001b[0mWARNING ⚠️ /content/drive/MyDrive/archive (43)/van/Datacluster_van (7).jpg: ignoring corrupt image/label: cannot identify image file '/content/drive/MyDrive/archive (43)/van/Datacluster_van (7).jpg'\n",
            "\u001b[34m\u001b[1mtrain: \u001b[0mWARNING ⚠️ /content/drive/MyDrive/archive (43)/van/Datacluster_van (8).jpg: ignoring corrupt image/label: cannot identify image file '/content/drive/MyDrive/archive (43)/van/Datacluster_van (8).jpg'\n",
            "\u001b[34m\u001b[1mtrain: \u001b[0mWARNING ⚠️ /content/drive/MyDrive/archive (43)/van/Datacluster_van (9).jpg: ignoring corrupt image/label: cannot identify image file '/content/drive/MyDrive/archive (43)/van/Datacluster_van (9).jpg'\n",
            "Traceback (most recent call last):\n",
            "  File \"/content/yolov5/train.py\", line 986, in <module>\n",
            "    main(opt)\n",
            "  File \"/content/yolov5/train.py\", line 688, in main\n",
            "    train(opt.hyp, opt, device, callbacks)\n",
            "  File \"/content/yolov5/train.py\", line 285, in train\n",
            "    train_loader, dataset = create_dataloader(\n",
            "  File \"/content/yolov5/utils/dataloaders.py\", line 184, in create_dataloader\n",
            "    dataset = LoadImagesAndLabels(\n",
            "  File \"/content/yolov5/utils/dataloaders.py\", line 611, in __init__\n",
            "    assert nf > 0 or not augment, f\"{prefix}No labels found in {cache_path}, can not start training. {HELP_URL}\"\n",
            "AssertionError: \u001b[34m\u001b[1mtrain: \u001b[0mNo labels found in /content/drive/MyDrive/archive (43)/auto.cache, can not start training. See https://docs.ultralytics.com/yolov5/tutorials/train_custom_data\n"
          ]
        }
      ]
    },
    {
      "cell_type": "code",
      "source": [
        "import os\n",
        "import cv2\n",
        "import torch\n",
        "from PIL import Image\n",
        "import numpy as np\n",
        "\n",
        "# Load the custom-trained YOLOv5 model\n",
        "model = torch.hub.load('ultralytics/yolov5', 'custom', path='/content/yolov5s.pt')  # Update the path as needed\n",
        "\n",
        "# Path to the main folder containing all subfolders\n",
        "main_folder = '/content/drive/MyDrive/archive (43)'\n",
        "output_folder = '/content/output_images_folder/'  # Folder to save output images with detections\n",
        "\n",
        "# Create the output folder if it doesn't exist\n",
        "os.makedirs(output_folder, exist_ok=True)\n",
        "print(f\"Output folder created at: {output_folder}\")\n",
        "\n",
        "# List of folders to process\n",
        "folders_to_process = ['van', 'bus', 'tractor', 'auto']\n",
        "\n",
        "# Loop through each specified folder\n",
        "for folder_name in folders_to_process:\n",
        "    folder_path = os.path.join(main_folder, folder_name)\n",
        "\n",
        "    # Check if the folder exists\n",
        "    if not os.path.isdir(folder_path):\n",
        "        print(f\"Folder {folder_path} does not exist. Skipping.\")\n",
        "        continue\n",
        "\n",
        "    # Create a subfolder in the output folder for the current folder\n",
        "    output_subfolder = os.path.join(output_folder, folder_name)\n",
        "    os.makedirs(output_subfolder, exist_ok=True)\n",
        "    print(f\"Output subfolder created at: {output_subfolder}\")\n",
        "\n",
        "    # Loop through all images in the folder\n",
        "    for image_name in os.listdir(folder_path):\n",
        "        if image_name.endswith(('.jpg', '.jpeg', '.png')):  # Check for image files\n",
        "            image_path = os.path.join(folder_path, image_name)\n",
        "\n",
        "            try:\n",
        "                # Read the image using OpenCV\n",
        "                img = cv2.imread(image_path)\n",
        "                if img is None:\n",
        "                    print(f\"Could not read the image file {image_path}\")\n",
        "                    continue\n",
        "\n",
        "                # Convert the image from BGR (OpenCV format) to RGB (PIL format)\n",
        "                img_rgb = cv2.cvtColor(img, cv2.COLOR_BGR2RGB)\n",
        "                img_pil = Image.fromarray(img_rgb)\n",
        "\n",
        "                # Perform object detection\n",
        "                results = model(img_pil)\n",
        "\n",
        "                # Print detection results\n",
        "                results.print()\n",
        "\n",
        "                # Render results and convert them to numpy arrays\n",
        "                img_output = results.render()[0]\n",
        "\n",
        "                # Convert the result image from RGB to BGR format\n",
        "                img_output_bgr = cv2.cvtColor(img_output, cv2.COLOR_RGB2BGR)\n",
        "\n",
        "                # Save the output image with bounding boxes\n",
        "                output_image_path = os.path.join(output_subfolder, image_name)\n",
        "                cv2.imwrite(output_image_path, img_output_bgr)\n",
        "\n",
        "                print(f\"Processed {image_name} in folder {folder_name} and saved to {output_image_path}\")\n",
        "\n",
        "            except Exception as e:\n",
        "                print(f\"Error processing {image_name} in folder {folder_name}: {e}\")\n",
        "\n",
        "print(\"Object detection complete for all images.\")\n"
      ],
      "metadata": {
        "colab": {
          "base_uri": "https://localhost:8080/"
        },
        "id": "5R7PuHWYyrly",
        "outputId": "a4cdbc35-0be9-4086-f4ee-46134255614b"
      },
      "execution_count": 40,
      "outputs": [
        {
          "output_type": "stream",
          "name": "stderr",
          "text": [
            "Using cache found in /root/.cache/torch/hub/ultralytics_yolov5_master\n",
            "YOLOv5 🚀 2024-9-14 Python-3.10.12 torch-2.4.0+cu121 CPU\n",
            "\n",
            "Fusing layers... \n",
            "YOLOv5s summary: 213 layers, 7225885 parameters, 0 gradients, 16.4 GFLOPs\n",
            "Adding AutoShape... \n"
          ]
        },
        {
          "output_type": "stream",
          "name": "stdout",
          "text": [
            "Output folder created at: /content/output_images_folder/\n",
            "Output subfolder created at: /content/output_images_folder/van\n"
          ]
        },
        {
          "output_type": "stream",
          "name": "stderr",
          "text": [
            "/root/.cache/torch/hub/ultralytics_yolov5_master/models/common.py:892: FutureWarning: `torch.cuda.amp.autocast(args...)` is deprecated. Please use `torch.amp.autocast('cuda', args...)` instead.\n",
            "  with amp.autocast(autocast):\n",
            "image 1/1: 3000x4000 1 bird\n",
            "Speed: 42.5ms pre-process, 494.7ms inference, 2.5ms NMS per image at shape (1, 3, 480, 640)\n"
          ]
        },
        {
          "output_type": "stream",
          "name": "stdout",
          "text": [
            "Processed Datacluster_van (1).jpg in folder van and saved to /content/output_images_folder/van/Datacluster_van (1).jpg\n"
          ]
        },
        {
          "output_type": "stream",
          "name": "stderr",
          "text": [
            "/root/.cache/torch/hub/ultralytics_yolov5_master/models/common.py:892: FutureWarning: `torch.cuda.amp.autocast(args...)` is deprecated. Please use `torch.amp.autocast('cuda', args...)` instead.\n",
            "  with amp.autocast(autocast):\n",
            "image 1/1: 3008x4016 1 person, 2 clocks\n",
            "Speed: 62.1ms pre-process, 513.7ms inference, 1.8ms NMS per image at shape (1, 3, 480, 640)\n"
          ]
        },
        {
          "output_type": "stream",
          "name": "stdout",
          "text": [
            "Processed Datacluster_van (10).jpg in folder van and saved to /content/output_images_folder/van/Datacluster_van (10).jpg\n"
          ]
        },
        {
          "output_type": "stream",
          "name": "stderr",
          "text": [
            "/root/.cache/torch/hub/ultralytics_yolov5_master/models/common.py:892: FutureWarning: `torch.cuda.amp.autocast(args...)` is deprecated. Please use `torch.amp.autocast('cuda', args...)` instead.\n",
            "  with amp.autocast(autocast):\n",
            "image 1/1: 2448x3264 (no detections)\n",
            "Speed: 23.2ms pre-process, 551.0ms inference, 0.9ms NMS per image at shape (1, 3, 480, 640)\n"
          ]
        },
        {
          "output_type": "stream",
          "name": "stdout",
          "text": [
            "Processed Datacluster_van (12).jpg in folder van and saved to /content/output_images_folder/van/Datacluster_van (12).jpg\n"
          ]
        },
        {
          "output_type": "stream",
          "name": "stderr",
          "text": [
            "/root/.cache/torch/hub/ultralytics_yolov5_master/models/common.py:892: FutureWarning: `torch.cuda.amp.autocast(args...)` is deprecated. Please use `torch.amp.autocast('cuda', args...)` instead.\n",
            "  with amp.autocast(autocast):\n",
            "image 1/1: 3000x4000 1 motorcycle, 1 suitcase\n",
            "Speed: 57.1ms pre-process, 323.5ms inference, 1.3ms NMS per image at shape (1, 3, 480, 640)\n"
          ]
        },
        {
          "output_type": "stream",
          "name": "stdout",
          "text": [
            "Processed Datacluster_van (13).jpg in folder van and saved to /content/output_images_folder/van/Datacluster_van (13).jpg\n"
          ]
        },
        {
          "output_type": "stream",
          "name": "stderr",
          "text": [
            "/root/.cache/torch/hub/ultralytics_yolov5_master/models/common.py:892: FutureWarning: `torch.cuda.amp.autocast(args...)` is deprecated. Please use `torch.amp.autocast('cuda', args...)` instead.\n",
            "  with amp.autocast(autocast):\n",
            "image 1/1: 3120x4160 (no detections)\n",
            "Speed: 46.0ms pre-process, 303.3ms inference, 1.0ms NMS per image at shape (1, 3, 480, 640)\n"
          ]
        },
        {
          "output_type": "stream",
          "name": "stdout",
          "text": [
            "Processed Datacluster_van (15).jpg in folder van and saved to /content/output_images_folder/van/Datacluster_van (15).jpg\n"
          ]
        },
        {
          "output_type": "stream",
          "name": "stderr",
          "text": [
            "/root/.cache/torch/hub/ultralytics_yolov5_master/models/common.py:892: FutureWarning: `torch.cuda.amp.autocast(args...)` is deprecated. Please use `torch.amp.autocast('cuda', args...)` instead.\n",
            "  with amp.autocast(autocast):\n",
            "image 1/1: 3120x4160 (no detections)\n",
            "Speed: 45.9ms pre-process, 309.0ms inference, 0.7ms NMS per image at shape (1, 3, 480, 640)\n"
          ]
        },
        {
          "output_type": "stream",
          "name": "stdout",
          "text": [
            "Processed Datacluster_van (11).jpg in folder van and saved to /content/output_images_folder/van/Datacluster_van (11).jpg\n"
          ]
        },
        {
          "output_type": "stream",
          "name": "stderr",
          "text": [
            "/root/.cache/torch/hub/ultralytics_yolov5_master/models/common.py:892: FutureWarning: `torch.cuda.amp.autocast(args...)` is deprecated. Please use `torch.amp.autocast('cuda', args...)` instead.\n",
            "  with amp.autocast(autocast):\n",
            "image 1/1: 3008x4016 (no detections)\n",
            "Speed: 43.1ms pre-process, 309.9ms inference, 0.7ms NMS per image at shape (1, 3, 480, 640)\n"
          ]
        },
        {
          "output_type": "stream",
          "name": "stdout",
          "text": [
            "Processed Datacluster_van (14).jpg in folder van and saved to /content/output_images_folder/van/Datacluster_van (14).jpg\n"
          ]
        },
        {
          "output_type": "stream",
          "name": "stderr",
          "text": [
            "/root/.cache/torch/hub/ultralytics_yolov5_master/models/common.py:892: FutureWarning: `torch.cuda.amp.autocast(args...)` is deprecated. Please use `torch.amp.autocast('cuda', args...)` instead.\n",
            "  with amp.autocast(autocast):\n",
            "image 1/1: 3008x4016 (no detections)\n",
            "Speed: 43.9ms pre-process, 320.2ms inference, 1.0ms NMS per image at shape (1, 3, 480, 640)\n"
          ]
        },
        {
          "output_type": "stream",
          "name": "stdout",
          "text": [
            "Processed Datacluster_van (16).jpg in folder van and saved to /content/output_images_folder/van/Datacluster_van (16).jpg\n"
          ]
        },
        {
          "output_type": "stream",
          "name": "stderr",
          "text": [
            "/root/.cache/torch/hub/ultralytics_yolov5_master/models/common.py:892: FutureWarning: `torch.cuda.amp.autocast(args...)` is deprecated. Please use `torch.amp.autocast('cuda', args...)` instead.\n",
            "  with amp.autocast(autocast):\n",
            "image 1/1: 3008x4016 1 person\n",
            "Speed: 65.0ms pre-process, 318.2ms inference, 1.4ms NMS per image at shape (1, 3, 480, 640)\n"
          ]
        },
        {
          "output_type": "stream",
          "name": "stdout",
          "text": [
            "Processed Datacluster_van (17).jpg in folder van and saved to /content/output_images_folder/van/Datacluster_van (17).jpg\n"
          ]
        },
        {
          "output_type": "stream",
          "name": "stderr",
          "text": [
            "/root/.cache/torch/hub/ultralytics_yolov5_master/models/common.py:892: FutureWarning: `torch.cuda.amp.autocast(args...)` is deprecated. Please use `torch.amp.autocast('cuda', args...)` instead.\n",
            "  with amp.autocast(autocast):\n",
            "image 1/1: 3008x4016 1 person, 1 clock\n",
            "Speed: 44.2ms pre-process, 312.8ms inference, 1.3ms NMS per image at shape (1, 3, 480, 640)\n"
          ]
        },
        {
          "output_type": "stream",
          "name": "stdout",
          "text": [
            "Processed Datacluster_van (24).jpg in folder van and saved to /content/output_images_folder/van/Datacluster_van (24).jpg\n"
          ]
        },
        {
          "output_type": "stream",
          "name": "stderr",
          "text": [
            "/root/.cache/torch/hub/ultralytics_yolov5_master/models/common.py:892: FutureWarning: `torch.cuda.amp.autocast(args...)` is deprecated. Please use `torch.amp.autocast('cuda', args...)` instead.\n",
            "  with amp.autocast(autocast):\n",
            "image 1/1: 3120x4160 1 bird\n",
            "Speed: 45.8ms pre-process, 313.7ms inference, 1.4ms NMS per image at shape (1, 3, 480, 640)\n"
          ]
        },
        {
          "output_type": "stream",
          "name": "stdout",
          "text": [
            "Processed Datacluster_van (19).jpg in folder van and saved to /content/output_images_folder/van/Datacluster_van (19).jpg\n"
          ]
        },
        {
          "output_type": "stream",
          "name": "stderr",
          "text": [
            "/root/.cache/torch/hub/ultralytics_yolov5_master/models/common.py:892: FutureWarning: `torch.cuda.amp.autocast(args...)` is deprecated. Please use `torch.amp.autocast('cuda', args...)` instead.\n",
            "  with amp.autocast(autocast):\n",
            "image 1/1: 2448x3264 (no detections)\n",
            "Speed: 17.8ms pre-process, 331.2ms inference, 0.7ms NMS per image at shape (1, 3, 480, 640)\n"
          ]
        },
        {
          "output_type": "stream",
          "name": "stdout",
          "text": [
            "Processed Datacluster_van (22).jpg in folder van and saved to /content/output_images_folder/van/Datacluster_van (22).jpg\n"
          ]
        },
        {
          "output_type": "stream",
          "name": "stderr",
          "text": [
            "/root/.cache/torch/hub/ultralytics_yolov5_master/models/common.py:892: FutureWarning: `torch.cuda.amp.autocast(args...)` is deprecated. Please use `torch.amp.autocast('cuda', args...)` instead.\n",
            "  with amp.autocast(autocast):\n",
            "image 1/1: 3008x4016 (no detections)\n",
            "Speed: 41.8ms pre-process, 311.9ms inference, 0.7ms NMS per image at shape (1, 3, 480, 640)\n"
          ]
        },
        {
          "output_type": "stream",
          "name": "stdout",
          "text": [
            "Processed Datacluster_van (21).jpg in folder van and saved to /content/output_images_folder/van/Datacluster_van (21).jpg\n"
          ]
        },
        {
          "output_type": "stream",
          "name": "stderr",
          "text": [
            "/root/.cache/torch/hub/ultralytics_yolov5_master/models/common.py:892: FutureWarning: `torch.cuda.amp.autocast(args...)` is deprecated. Please use `torch.amp.autocast('cuda', args...)` instead.\n",
            "  with amp.autocast(autocast):\n",
            "image 1/1: 2448x3264 (no detections)\n",
            "Speed: 25.6ms pre-process, 313.9ms inference, 0.7ms NMS per image at shape (1, 3, 480, 640)\n"
          ]
        },
        {
          "output_type": "stream",
          "name": "stdout",
          "text": [
            "Processed Datacluster_van (20).jpg in folder van and saved to /content/output_images_folder/van/Datacluster_van (20).jpg\n"
          ]
        },
        {
          "output_type": "stream",
          "name": "stderr",
          "text": [
            "/root/.cache/torch/hub/ultralytics_yolov5_master/models/common.py:892: FutureWarning: `torch.cuda.amp.autocast(args...)` is deprecated. Please use `torch.amp.autocast('cuda', args...)` instead.\n",
            "  with amp.autocast(autocast):\n",
            "image 1/1: 3000x4000 1 cat\n",
            "Speed: 44.0ms pre-process, 332.9ms inference, 1.5ms NMS per image at shape (1, 3, 480, 640)\n"
          ]
        },
        {
          "output_type": "stream",
          "name": "stdout",
          "text": [
            "Processed Datacluster_van (2).jpg in folder van and saved to /content/output_images_folder/van/Datacluster_van (2).jpg\n"
          ]
        },
        {
          "output_type": "stream",
          "name": "stderr",
          "text": [
            "/root/.cache/torch/hub/ultralytics_yolov5_master/models/common.py:892: FutureWarning: `torch.cuda.amp.autocast(args...)` is deprecated. Please use `torch.amp.autocast('cuda', args...)` instead.\n",
            "  with amp.autocast(autocast):\n",
            "image 1/1: 3120x4160 (no detections)\n",
            "Speed: 44.9ms pre-process, 307.6ms inference, 1.0ms NMS per image at shape (1, 3, 480, 640)\n"
          ]
        },
        {
          "output_type": "stream",
          "name": "stdout",
          "text": [
            "Processed Datacluster_van (18).jpg in folder van and saved to /content/output_images_folder/van/Datacluster_van (18).jpg\n"
          ]
        },
        {
          "output_type": "stream",
          "name": "stderr",
          "text": [
            "/root/.cache/torch/hub/ultralytics_yolov5_master/models/common.py:892: FutureWarning: `torch.cuda.amp.autocast(args...)` is deprecated. Please use `torch.amp.autocast('cuda', args...)` instead.\n",
            "  with amp.autocast(autocast):\n",
            "image 1/1: 3120x4160 1 person\n",
            "Speed: 43.6ms pre-process, 488.7ms inference, 1.9ms NMS per image at shape (1, 3, 480, 640)\n"
          ]
        },
        {
          "output_type": "stream",
          "name": "stdout",
          "text": [
            "Processed Datacluster_van (25).jpg in folder van and saved to /content/output_images_folder/van/Datacluster_van (25).jpg\n"
          ]
        },
        {
          "output_type": "stream",
          "name": "stderr",
          "text": [
            "/root/.cache/torch/hub/ultralytics_yolov5_master/models/common.py:892: FutureWarning: `torch.cuda.amp.autocast(args...)` is deprecated. Please use `torch.amp.autocast('cuda', args...)` instead.\n",
            "  with amp.autocast(autocast):\n",
            "image 1/1: 2448x3264 1 refrigerator\n",
            "Speed: 52.3ms pre-process, 495.8ms inference, 2.0ms NMS per image at shape (1, 3, 480, 640)\n"
          ]
        },
        {
          "output_type": "stream",
          "name": "stdout",
          "text": [
            "Processed Datacluster_van (23).jpg in folder van and saved to /content/output_images_folder/van/Datacluster_van (23).jpg\n"
          ]
        },
        {
          "output_type": "stream",
          "name": "stderr",
          "text": [
            "/root/.cache/torch/hub/ultralytics_yolov5_master/models/common.py:892: FutureWarning: `torch.cuda.amp.autocast(args...)` is deprecated. Please use `torch.amp.autocast('cuda', args...)` instead.\n",
            "  with amp.autocast(autocast):\n",
            "image 1/1: 3120x4160 1 person\n",
            "Speed: 59.6ms pre-process, 480.8ms inference, 1.8ms NMS per image at shape (1, 3, 480, 640)\n"
          ]
        },
        {
          "output_type": "stream",
          "name": "stdout",
          "text": [
            "Processed Datacluster_van (27).jpg in folder van and saved to /content/output_images_folder/van/Datacluster_van (27).jpg\n"
          ]
        },
        {
          "output_type": "stream",
          "name": "stderr",
          "text": [
            "/root/.cache/torch/hub/ultralytics_yolov5_master/models/common.py:892: FutureWarning: `torch.cuda.amp.autocast(args...)` is deprecated. Please use `torch.amp.autocast('cuda', args...)` instead.\n",
            "  with amp.autocast(autocast):\n",
            "image 1/1: 3072x4096 1 traffic light\n",
            "Speed: 65.1ms pre-process, 474.8ms inference, 1.9ms NMS per image at shape (1, 3, 480, 640)\n"
          ]
        },
        {
          "output_type": "stream",
          "name": "stdout",
          "text": [
            "Processed Datacluster_van (30).jpg in folder van and saved to /content/output_images_folder/van/Datacluster_van (30).jpg\n"
          ]
        },
        {
          "output_type": "stream",
          "name": "stderr",
          "text": [
            "/root/.cache/torch/hub/ultralytics_yolov5_master/models/common.py:892: FutureWarning: `torch.cuda.amp.autocast(args...)` is deprecated. Please use `torch.amp.autocast('cuda', args...)` instead.\n",
            "  with amp.autocast(autocast):\n",
            "image 1/1: 3000x4000 1 book\n",
            "Speed: 38.7ms pre-process, 478.0ms inference, 1.7ms NMS per image at shape (1, 3, 480, 640)\n"
          ]
        },
        {
          "output_type": "stream",
          "name": "stdout",
          "text": [
            "Processed Datacluster_van (31).jpg in folder van and saved to /content/output_images_folder/van/Datacluster_van (31).jpg\n"
          ]
        },
        {
          "output_type": "stream",
          "name": "stderr",
          "text": [
            "/root/.cache/torch/hub/ultralytics_yolov5_master/models/common.py:892: FutureWarning: `torch.cuda.amp.autocast(args...)` is deprecated. Please use `torch.amp.autocast('cuda', args...)` instead.\n",
            "  with amp.autocast(autocast):\n",
            "image 1/1: 3000x4000 1 traffic light, 1 potted plant\n",
            "Speed: 43.0ms pre-process, 306.4ms inference, 1.4ms NMS per image at shape (1, 3, 480, 640)\n"
          ]
        },
        {
          "output_type": "stream",
          "name": "stdout",
          "text": [
            "Processed Datacluster_van (29).jpg in folder van and saved to /content/output_images_folder/van/Datacluster_van (29).jpg\n"
          ]
        },
        {
          "output_type": "stream",
          "name": "stderr",
          "text": [
            "/root/.cache/torch/hub/ultralytics_yolov5_master/models/common.py:892: FutureWarning: `torch.cuda.amp.autocast(args...)` is deprecated. Please use `torch.amp.autocast('cuda', args...)` instead.\n",
            "  with amp.autocast(autocast):\n",
            "image 1/1: 2448x3264 1 toilet, 1 clock\n",
            "Speed: 28.9ms pre-process, 324.0ms inference, 1.4ms NMS per image at shape (1, 3, 480, 640)\n"
          ]
        },
        {
          "output_type": "stream",
          "name": "stdout",
          "text": [
            "Processed Datacluster_van (28).jpg in folder van and saved to /content/output_images_folder/van/Datacluster_van (28).jpg\n"
          ]
        },
        {
          "output_type": "stream",
          "name": "stderr",
          "text": [
            "/root/.cache/torch/hub/ultralytics_yolov5_master/models/common.py:892: FutureWarning: `torch.cuda.amp.autocast(args...)` is deprecated. Please use `torch.amp.autocast('cuda', args...)` instead.\n",
            "  with amp.autocast(autocast):\n",
            "image 1/1: 3120x4160 (no detections)\n",
            "Speed: 26.8ms pre-process, 302.6ms inference, 0.7ms NMS per image at shape (1, 3, 480, 640)\n"
          ]
        },
        {
          "output_type": "stream",
          "name": "stdout",
          "text": [
            "Processed Datacluster_van (26).jpg in folder van and saved to /content/output_images_folder/van/Datacluster_van (26).jpg\n"
          ]
        },
        {
          "output_type": "stream",
          "name": "stderr",
          "text": [
            "/root/.cache/torch/hub/ultralytics_yolov5_master/models/common.py:892: FutureWarning: `torch.cuda.amp.autocast(args...)` is deprecated. Please use `torch.amp.autocast('cuda', args...)` instead.\n",
            "  with amp.autocast(autocast):\n",
            "image 1/1: 3120x4160 1 stop sign\n",
            "Speed: 55.8ms pre-process, 313.2ms inference, 1.3ms NMS per image at shape (1, 3, 480, 640)\n"
          ]
        },
        {
          "output_type": "stream",
          "name": "stdout",
          "text": [
            "Processed Datacluster_van (3).jpg in folder van and saved to /content/output_images_folder/van/Datacluster_van (3).jpg\n"
          ]
        },
        {
          "output_type": "stream",
          "name": "stderr",
          "text": [
            "/root/.cache/torch/hub/ultralytics_yolov5_master/models/common.py:892: FutureWarning: `torch.cuda.amp.autocast(args...)` is deprecated. Please use `torch.amp.autocast('cuda', args...)` instead.\n",
            "  with amp.autocast(autocast):\n",
            "image 1/1: 2448x3264 (no detections)\n",
            "Speed: 28.2ms pre-process, 352.4ms inference, 0.7ms NMS per image at shape (1, 3, 480, 640)\n"
          ]
        },
        {
          "output_type": "stream",
          "name": "stdout",
          "text": [
            "Processed Datacluster_van (9).jpg in folder van and saved to /content/output_images_folder/van/Datacluster_van (9).jpg\n"
          ]
        },
        {
          "output_type": "stream",
          "name": "stderr",
          "text": [
            "/root/.cache/torch/hub/ultralytics_yolov5_master/models/common.py:892: FutureWarning: `torch.cuda.amp.autocast(args...)` is deprecated. Please use `torch.amp.autocast('cuda', args...)` instead.\n",
            "  with amp.autocast(autocast):\n",
            "image 1/1: 3000x4000 1 skateboard\n",
            "Speed: 42.3ms pre-process, 313.3ms inference, 1.4ms NMS per image at shape (1, 3, 480, 640)\n"
          ]
        },
        {
          "output_type": "stream",
          "name": "stdout",
          "text": [
            "Processed Datacluster_van (8).jpg in folder van and saved to /content/output_images_folder/van/Datacluster_van (8).jpg\n"
          ]
        },
        {
          "output_type": "stream",
          "name": "stderr",
          "text": [
            "/root/.cache/torch/hub/ultralytics_yolov5_master/models/common.py:892: FutureWarning: `torch.cuda.amp.autocast(args...)` is deprecated. Please use `torch.amp.autocast('cuda', args...)` instead.\n",
            "  with amp.autocast(autocast):\n",
            "image 1/1: 2448x3264 (no detections)\n",
            "Speed: 18.2ms pre-process, 315.6ms inference, 1.0ms NMS per image at shape (1, 3, 480, 640)\n"
          ]
        },
        {
          "output_type": "stream",
          "name": "stdout",
          "text": [
            "Processed Datacluster_van (7).jpg in folder van and saved to /content/output_images_folder/van/Datacluster_van (7).jpg\n"
          ]
        },
        {
          "output_type": "stream",
          "name": "stderr",
          "text": [
            "/root/.cache/torch/hub/ultralytics_yolov5_master/models/common.py:892: FutureWarning: `torch.cuda.amp.autocast(args...)` is deprecated. Please use `torch.amp.autocast('cuda', args...)` instead.\n",
            "  with amp.autocast(autocast):\n",
            "image 1/1: 2448x3264 (no detections)\n",
            "Speed: 28.5ms pre-process, 321.4ms inference, 0.7ms NMS per image at shape (1, 3, 480, 640)\n"
          ]
        },
        {
          "output_type": "stream",
          "name": "stdout",
          "text": [
            "Processed Datacluster_van (4).jpg in folder van and saved to /content/output_images_folder/van/Datacluster_van (4).jpg\n"
          ]
        },
        {
          "output_type": "stream",
          "name": "stderr",
          "text": [
            "/root/.cache/torch/hub/ultralytics_yolov5_master/models/common.py:892: FutureWarning: `torch.cuda.amp.autocast(args...)` is deprecated. Please use `torch.amp.autocast('cuda', args...)` instead.\n",
            "  with amp.autocast(autocast):\n",
            "image 1/1: 3120x4160 1 skateboard, 1 clock\n",
            "Speed: 46.8ms pre-process, 311.9ms inference, 1.4ms NMS per image at shape (1, 3, 480, 640)\n"
          ]
        },
        {
          "output_type": "stream",
          "name": "stdout",
          "text": [
            "Processed Datacluster_van (6).jpg in folder van and saved to /content/output_images_folder/van/Datacluster_van (6).jpg\n"
          ]
        },
        {
          "output_type": "stream",
          "name": "stderr",
          "text": [
            "/root/.cache/torch/hub/ultralytics_yolov5_master/models/common.py:892: FutureWarning: `torch.cuda.amp.autocast(args...)` is deprecated. Please use `torch.amp.autocast('cuda', args...)` instead.\n",
            "  with amp.autocast(autocast):\n",
            "image 1/1: 3120x4160 (no detections)\n",
            "Speed: 46.9ms pre-process, 326.1ms inference, 1.0ms NMS per image at shape (1, 3, 480, 640)\n"
          ]
        },
        {
          "output_type": "stream",
          "name": "stdout",
          "text": [
            "Processed Datacluster_van (5).jpg in folder van and saved to /content/output_images_folder/van/Datacluster_van (5).jpg\n",
            "Output subfolder created at: /content/output_images_folder/bus\n"
          ]
        },
        {
          "output_type": "stream",
          "name": "stderr",
          "text": [
            "/root/.cache/torch/hub/ultralytics_yolov5_master/models/common.py:892: FutureWarning: `torch.cuda.amp.autocast(args...)` is deprecated. Please use `torch.amp.autocast('cuda', args...)` instead.\n",
            "  with amp.autocast(autocast):\n",
            "image 1/1: 3120x4160 (no detections)\n",
            "Speed: 44.7ms pre-process, 328.4ms inference, 0.7ms NMS per image at shape (1, 3, 480, 640)\n"
          ]
        },
        {
          "output_type": "stream",
          "name": "stdout",
          "text": [
            "Processed Datacluster_bus (10).jpg in folder bus and saved to /content/output_images_folder/bus/Datacluster_bus (10).jpg\n"
          ]
        },
        {
          "output_type": "stream",
          "name": "stderr",
          "text": [
            "/root/.cache/torch/hub/ultralytics_yolov5_master/models/common.py:892: FutureWarning: `torch.cuda.amp.autocast(args...)` is deprecated. Please use `torch.amp.autocast('cuda', args...)` instead.\n",
            "  with amp.autocast(autocast):\n",
            "image 1/1: 2448x3264 (no detections)\n",
            "Speed: 17.5ms pre-process, 305.2ms inference, 1.5ms NMS per image at shape (1, 3, 480, 640)\n"
          ]
        },
        {
          "output_type": "stream",
          "name": "stdout",
          "text": [
            "Processed Datacluster_bus (11).jpg in folder bus and saved to /content/output_images_folder/bus/Datacluster_bus (11).jpg\n"
          ]
        },
        {
          "output_type": "stream",
          "name": "stderr",
          "text": [
            "/root/.cache/torch/hub/ultralytics_yolov5_master/models/common.py:892: FutureWarning: `torch.cuda.amp.autocast(args...)` is deprecated. Please use `torch.amp.autocast('cuda', args...)` instead.\n",
            "  with amp.autocast(autocast):\n",
            "image 1/1: 3008x4016 (no detections)\n",
            "Speed: 45.1ms pre-process, 298.3ms inference, 0.8ms NMS per image at shape (1, 3, 480, 640)\n"
          ]
        },
        {
          "output_type": "stream",
          "name": "stdout",
          "text": [
            "Processed Datacluster_bus (1).jpg in folder bus and saved to /content/output_images_folder/bus/Datacluster_bus (1).jpg\n"
          ]
        },
        {
          "output_type": "stream",
          "name": "stderr",
          "text": [
            "/root/.cache/torch/hub/ultralytics_yolov5_master/models/common.py:892: FutureWarning: `torch.cuda.amp.autocast(args...)` is deprecated. Please use `torch.amp.autocast('cuda', args...)` instead.\n",
            "  with amp.autocast(autocast):\n",
            "image 1/1: 3008x4016 1 train\n",
            "Speed: 43.4ms pre-process, 336.0ms inference, 1.3ms NMS per image at shape (1, 3, 480, 640)\n"
          ]
        },
        {
          "output_type": "stream",
          "name": "stdout",
          "text": [
            "Processed Datacluster_bus (14).jpg in folder bus and saved to /content/output_images_folder/bus/Datacluster_bus (14).jpg\n"
          ]
        },
        {
          "output_type": "stream",
          "name": "stderr",
          "text": [
            "/root/.cache/torch/hub/ultralytics_yolov5_master/models/common.py:892: FutureWarning: `torch.cuda.amp.autocast(args...)` is deprecated. Please use `torch.amp.autocast('cuda', args...)` instead.\n",
            "  with amp.autocast(autocast):\n",
            "image 1/1: 2448x3264 2 persons, 1 motorcycle\n",
            "Speed: 41.6ms pre-process, 500.3ms inference, 2.0ms NMS per image at shape (1, 3, 480, 640)\n"
          ]
        },
        {
          "output_type": "stream",
          "name": "stdout",
          "text": [
            "Processed Datacluster_bus (13).jpg in folder bus and saved to /content/output_images_folder/bus/Datacluster_bus (13).jpg\n"
          ]
        },
        {
          "output_type": "stream",
          "name": "stderr",
          "text": [
            "/root/.cache/torch/hub/ultralytics_yolov5_master/models/common.py:892: FutureWarning: `torch.cuda.amp.autocast(args...)` is deprecated. Please use `torch.amp.autocast('cuda', args...)` instead.\n",
            "  with amp.autocast(autocast):\n",
            "image 1/1: 3024x4032 (no detections)\n",
            "Speed: 57.5ms pre-process, 480.1ms inference, 1.4ms NMS per image at shape (1, 3, 480, 640)\n"
          ]
        },
        {
          "output_type": "stream",
          "name": "stdout",
          "text": [
            "Processed Datacluster_bus (12).jpg in folder bus and saved to /content/output_images_folder/bus/Datacluster_bus (12).jpg\n"
          ]
        },
        {
          "output_type": "stream",
          "name": "stderr",
          "text": [
            "/root/.cache/torch/hub/ultralytics_yolov5_master/models/common.py:892: FutureWarning: `torch.cuda.amp.autocast(args...)` is deprecated. Please use `torch.amp.autocast('cuda', args...)` instead.\n",
            "  with amp.autocast(autocast):\n",
            "image 1/1: 2448x3264 1 car\n",
            "Speed: 23.3ms pre-process, 503.0ms inference, 1.8ms NMS per image at shape (1, 3, 480, 640)\n"
          ]
        },
        {
          "output_type": "stream",
          "name": "stdout",
          "text": [
            "Processed Datacluster_bus (15).jpg in folder bus and saved to /content/output_images_folder/bus/Datacluster_bus (15).jpg\n"
          ]
        },
        {
          "output_type": "stream",
          "name": "stderr",
          "text": [
            "/root/.cache/torch/hub/ultralytics_yolov5_master/models/common.py:892: FutureWarning: `torch.cuda.amp.autocast(args...)` is deprecated. Please use `torch.amp.autocast('cuda', args...)` instead.\n",
            "  with amp.autocast(autocast):\n",
            "image 1/1: 3024x4032 (no detections)\n",
            "Speed: 33.3ms pre-process, 478.1ms inference, 1.0ms NMS per image at shape (1, 3, 480, 640)\n"
          ]
        },
        {
          "output_type": "stream",
          "name": "stdout",
          "text": [
            "Processed Datacluster_bus (19).jpg in folder bus and saved to /content/output_images_folder/bus/Datacluster_bus (19).jpg\n"
          ]
        },
        {
          "output_type": "stream",
          "name": "stderr",
          "text": [
            "/root/.cache/torch/hub/ultralytics_yolov5_master/models/common.py:892: FutureWarning: `torch.cuda.amp.autocast(args...)` is deprecated. Please use `torch.amp.autocast('cuda', args...)` instead.\n",
            "  with amp.autocast(autocast):\n",
            "image 1/1: 2448x3264 1 traffic light\n",
            "Speed: 25.6ms pre-process, 490.1ms inference, 1.7ms NMS per image at shape (1, 3, 480, 640)\n"
          ]
        },
        {
          "output_type": "stream",
          "name": "stdout",
          "text": [
            "Processed Datacluster_bus (17).jpg in folder bus and saved to /content/output_images_folder/bus/Datacluster_bus (17).jpg\n"
          ]
        },
        {
          "output_type": "stream",
          "name": "stderr",
          "text": [
            "/root/.cache/torch/hub/ultralytics_yolov5_master/models/common.py:892: FutureWarning: `torch.cuda.amp.autocast(args...)` is deprecated. Please use `torch.amp.autocast('cuda', args...)` instead.\n",
            "  with amp.autocast(autocast):\n",
            "image 1/1: 2448x3264 (no detections)\n",
            "Speed: 24.5ms pre-process, 525.6ms inference, 1.1ms NMS per image at shape (1, 3, 480, 640)\n"
          ]
        },
        {
          "output_type": "stream",
          "name": "stdout",
          "text": [
            "Processed Datacluster_bus (16).jpg in folder bus and saved to /content/output_images_folder/bus/Datacluster_bus (16).jpg\n"
          ]
        },
        {
          "output_type": "stream",
          "name": "stderr",
          "text": [
            "/root/.cache/torch/hub/ultralytics_yolov5_master/models/common.py:892: FutureWarning: `torch.cuda.amp.autocast(args...)` is deprecated. Please use `torch.amp.autocast('cuda', args...)` instead.\n",
            "  with amp.autocast(autocast):\n",
            "image 1/1: 3008x4016 1 vase\n",
            "Speed: 43.8ms pre-process, 312.7ms inference, 1.3ms NMS per image at shape (1, 3, 480, 640)\n"
          ]
        },
        {
          "output_type": "stream",
          "name": "stdout",
          "text": [
            "Processed Datacluster_bus (2).jpg in folder bus and saved to /content/output_images_folder/bus/Datacluster_bus (2).jpg\n"
          ]
        },
        {
          "output_type": "stream",
          "name": "stderr",
          "text": [
            "/root/.cache/torch/hub/ultralytics_yolov5_master/models/common.py:892: FutureWarning: `torch.cuda.amp.autocast(args...)` is deprecated. Please use `torch.amp.autocast('cuda', args...)` instead.\n",
            "  with amp.autocast(autocast):\n",
            "image 1/1: 3120x4160 (no detections)\n",
            "Speed: 78.7ms pre-process, 311.2ms inference, 1.0ms NMS per image at shape (1, 3, 480, 640)\n"
          ]
        },
        {
          "output_type": "stream",
          "name": "stdout",
          "text": [
            "Processed Datacluster_bus (18).jpg in folder bus and saved to /content/output_images_folder/bus/Datacluster_bus (18).jpg\n"
          ]
        },
        {
          "output_type": "stream",
          "name": "stderr",
          "text": [
            "/root/.cache/torch/hub/ultralytics_yolov5_master/models/common.py:892: FutureWarning: `torch.cuda.amp.autocast(args...)` is deprecated. Please use `torch.amp.autocast('cuda', args...)` instead.\n",
            "  with amp.autocast(autocast):\n",
            "image 1/1: 2448x3264 (no detections)\n",
            "Speed: 17.7ms pre-process, 307.9ms inference, 0.7ms NMS per image at shape (1, 3, 480, 640)\n"
          ]
        },
        {
          "output_type": "stream",
          "name": "stdout",
          "text": [
            "Processed Datacluster_bus (24).jpg in folder bus and saved to /content/output_images_folder/bus/Datacluster_bus (24).jpg\n"
          ]
        },
        {
          "output_type": "stream",
          "name": "stderr",
          "text": [
            "/root/.cache/torch/hub/ultralytics_yolov5_master/models/common.py:892: FutureWarning: `torch.cuda.amp.autocast(args...)` is deprecated. Please use `torch.amp.autocast('cuda', args...)` instead.\n",
            "  with amp.autocast(autocast):\n",
            "image 1/1: 3000x4000 (no detections)\n",
            "Speed: 40.9ms pre-process, 316.6ms inference, 0.7ms NMS per image at shape (1, 3, 480, 640)\n"
          ]
        },
        {
          "output_type": "stream",
          "name": "stdout",
          "text": [
            "Processed Datacluster_bus (25).jpg in folder bus and saved to /content/output_images_folder/bus/Datacluster_bus (25).jpg\n"
          ]
        },
        {
          "output_type": "stream",
          "name": "stderr",
          "text": [
            "/root/.cache/torch/hub/ultralytics_yolov5_master/models/common.py:892: FutureWarning: `torch.cuda.amp.autocast(args...)` is deprecated. Please use `torch.amp.autocast('cuda', args...)` instead.\n",
            "  with amp.autocast(autocast):\n",
            "image 1/1: 3000x4000 1 person\n",
            "Speed: 40.4ms pre-process, 312.0ms inference, 1.5ms NMS per image at shape (1, 3, 480, 640)\n"
          ]
        },
        {
          "output_type": "stream",
          "name": "stdout",
          "text": [
            "Processed Datacluster_bus (26).jpg in folder bus and saved to /content/output_images_folder/bus/Datacluster_bus (26).jpg\n"
          ]
        },
        {
          "output_type": "stream",
          "name": "stderr",
          "text": [
            "/root/.cache/torch/hub/ultralytics_yolov5_master/models/common.py:892: FutureWarning: `torch.cuda.amp.autocast(args...)` is deprecated. Please use `torch.amp.autocast('cuda', args...)` instead.\n",
            "  with amp.autocast(autocast):\n",
            "image 1/1: 3024x4032 (no detections)\n",
            "Speed: 43.1ms pre-process, 333.1ms inference, 0.8ms NMS per image at shape (1, 3, 480, 640)\n"
          ]
        },
        {
          "output_type": "stream",
          "name": "stdout",
          "text": [
            "Processed Datacluster_bus (3).jpg in folder bus and saved to /content/output_images_folder/bus/Datacluster_bus (3).jpg\n"
          ]
        },
        {
          "output_type": "stream",
          "name": "stderr",
          "text": [
            "/root/.cache/torch/hub/ultralytics_yolov5_master/models/common.py:892: FutureWarning: `torch.cuda.amp.autocast(args...)` is deprecated. Please use `torch.amp.autocast('cuda', args...)` instead.\n",
            "  with amp.autocast(autocast):\n",
            "image 1/1: 3264x2448 (no detections)\n",
            "Speed: 21.4ms pre-process, 345.3ms inference, 0.9ms NMS per image at shape (1, 3, 640, 480)\n"
          ]
        },
        {
          "output_type": "stream",
          "name": "stdout",
          "text": [
            "Processed Datacluster_bus (29).jpg in folder bus and saved to /content/output_images_folder/bus/Datacluster_bus (29).jpg\n"
          ]
        },
        {
          "output_type": "stream",
          "name": "stderr",
          "text": [
            "/root/.cache/torch/hub/ultralytics_yolov5_master/models/common.py:892: FutureWarning: `torch.cuda.amp.autocast(args...)` is deprecated. Please use `torch.amp.autocast('cuda', args...)` instead.\n",
            "  with amp.autocast(autocast):\n",
            "image 1/1: 3072x4096 (no detections)\n",
            "Speed: 46.8ms pre-process, 305.4ms inference, 2.7ms NMS per image at shape (1, 3, 480, 640)\n"
          ]
        },
        {
          "output_type": "stream",
          "name": "stdout",
          "text": [
            "Processed Datacluster_bus (22).jpg in folder bus and saved to /content/output_images_folder/bus/Datacluster_bus (22).jpg\n"
          ]
        },
        {
          "output_type": "stream",
          "name": "stderr",
          "text": [
            "/root/.cache/torch/hub/ultralytics_yolov5_master/models/common.py:892: FutureWarning: `torch.cuda.amp.autocast(args...)` is deprecated. Please use `torch.amp.autocast('cuda', args...)` instead.\n",
            "  with amp.autocast(autocast):\n",
            "image 1/1: 3120x4160 (no detections)\n",
            "Speed: 47.6ms pre-process, 311.6ms inference, 0.7ms NMS per image at shape (1, 3, 480, 640)\n"
          ]
        },
        {
          "output_type": "stream",
          "name": "stdout",
          "text": [
            "Processed Datacluster_bus (30).jpg in folder bus and saved to /content/output_images_folder/bus/Datacluster_bus (30).jpg\n"
          ]
        },
        {
          "output_type": "stream",
          "name": "stderr",
          "text": [
            "/root/.cache/torch/hub/ultralytics_yolov5_master/models/common.py:892: FutureWarning: `torch.cuda.amp.autocast(args...)` is deprecated. Please use `torch.amp.autocast('cuda', args...)` instead.\n",
            "  with amp.autocast(autocast):\n",
            "image 1/1: 1920x2560 1 traffic light\n",
            "Speed: 12.6ms pre-process, 326.0ms inference, 1.4ms NMS per image at shape (1, 3, 480, 640)\n"
          ]
        },
        {
          "output_type": "stream",
          "name": "stdout",
          "text": [
            "Processed Datacluster_bus (28).jpg in folder bus and saved to /content/output_images_folder/bus/Datacluster_bus (28).jpg\n"
          ]
        },
        {
          "output_type": "stream",
          "name": "stderr",
          "text": [
            "/root/.cache/torch/hub/ultralytics_yolov5_master/models/common.py:892: FutureWarning: `torch.cuda.amp.autocast(args...)` is deprecated. Please use `torch.amp.autocast('cuda', args...)` instead.\n",
            "  with amp.autocast(autocast):\n",
            "image 1/1: 3120x4160 (no detections)\n",
            "Speed: 47.4ms pre-process, 306.2ms inference, 0.9ms NMS per image at shape (1, 3, 480, 640)\n"
          ]
        },
        {
          "output_type": "stream",
          "name": "stdout",
          "text": [
            "Processed Datacluster_bus (23).jpg in folder bus and saved to /content/output_images_folder/bus/Datacluster_bus (23).jpg\n"
          ]
        },
        {
          "output_type": "stream",
          "name": "stderr",
          "text": [
            "/root/.cache/torch/hub/ultralytics_yolov5_master/models/common.py:892: FutureWarning: `torch.cuda.amp.autocast(args...)` is deprecated. Please use `torch.amp.autocast('cuda', args...)` instead.\n",
            "  with amp.autocast(autocast):\n",
            "image 1/1: 3072x4096 (no detections)\n",
            "Speed: 41.9ms pre-process, 312.7ms inference, 0.9ms NMS per image at shape (1, 3, 480, 640)\n"
          ]
        },
        {
          "output_type": "stream",
          "name": "stdout",
          "text": [
            "Processed Datacluster_bus (27).jpg in folder bus and saved to /content/output_images_folder/bus/Datacluster_bus (27).jpg\n"
          ]
        },
        {
          "output_type": "stream",
          "name": "stderr",
          "text": [
            "/root/.cache/torch/hub/ultralytics_yolov5_master/models/common.py:892: FutureWarning: `torch.cuda.amp.autocast(args...)` is deprecated. Please use `torch.amp.autocast('cuda', args...)` instead.\n",
            "  with amp.autocast(autocast):\n",
            "image 1/1: 2448x3264 1 train\n",
            "Speed: 17.9ms pre-process, 312.9ms inference, 1.3ms NMS per image at shape (1, 3, 480, 640)\n"
          ]
        },
        {
          "output_type": "stream",
          "name": "stdout",
          "text": [
            "Processed Datacluster_bus (20).jpg in folder bus and saved to /content/output_images_folder/bus/Datacluster_bus (20).jpg\n"
          ]
        },
        {
          "output_type": "stream",
          "name": "stderr",
          "text": [
            "/root/.cache/torch/hub/ultralytics_yolov5_master/models/common.py:892: FutureWarning: `torch.cuda.amp.autocast(args...)` is deprecated. Please use `torch.amp.autocast('cuda', args...)` instead.\n",
            "  with amp.autocast(autocast):\n",
            "image 1/1: 3120x4160 (no detections)\n",
            "Speed: 45.0ms pre-process, 302.8ms inference, 1.0ms NMS per image at shape (1, 3, 480, 640)\n"
          ]
        },
        {
          "output_type": "stream",
          "name": "stdout",
          "text": [
            "Processed Datacluster_bus (21).jpg in folder bus and saved to /content/output_images_folder/bus/Datacluster_bus (21).jpg\n"
          ]
        },
        {
          "output_type": "stream",
          "name": "stderr",
          "text": [
            "/root/.cache/torch/hub/ultralytics_yolov5_master/models/common.py:892: FutureWarning: `torch.cuda.amp.autocast(args...)` is deprecated. Please use `torch.amp.autocast('cuda', args...)` instead.\n",
            "  with amp.autocast(autocast):\n",
            "image 1/1: 3120x4160 (no detections)\n",
            "Speed: 34.2ms pre-process, 488.0ms inference, 1.0ms NMS per image at shape (1, 3, 480, 640)\n"
          ]
        },
        {
          "output_type": "stream",
          "name": "stdout",
          "text": [
            "Processed Datacluster_bus (34).jpg in folder bus and saved to /content/output_images_folder/bus/Datacluster_bus (34).jpg\n"
          ]
        },
        {
          "output_type": "stream",
          "name": "stderr",
          "text": [
            "/root/.cache/torch/hub/ultralytics_yolov5_master/models/common.py:892: FutureWarning: `torch.cuda.amp.autocast(args...)` is deprecated. Please use `torch.amp.autocast('cuda', args...)` instead.\n",
            "  with amp.autocast(autocast):\n",
            "image 1/1: 3120x4160 (no detections)\n",
            "Speed: 66.0ms pre-process, 503.9ms inference, 1.3ms NMS per image at shape (1, 3, 480, 640)\n"
          ]
        },
        {
          "output_type": "stream",
          "name": "stdout",
          "text": [
            "Processed Datacluster_bus (37).jpg in folder bus and saved to /content/output_images_folder/bus/Datacluster_bus (37).jpg\n"
          ]
        },
        {
          "output_type": "stream",
          "name": "stderr",
          "text": [
            "/root/.cache/torch/hub/ultralytics_yolov5_master/models/common.py:892: FutureWarning: `torch.cuda.amp.autocast(args...)` is deprecated. Please use `torch.amp.autocast('cuda', args...)` instead.\n",
            "  with amp.autocast(autocast):\n",
            "image 1/1: 3120x4160 (no detections)\n",
            "Speed: 82.6ms pre-process, 482.3ms inference, 0.9ms NMS per image at shape (1, 3, 480, 640)\n"
          ]
        },
        {
          "output_type": "stream",
          "name": "stdout",
          "text": [
            "Processed Datacluster_bus (36).jpg in folder bus and saved to /content/output_images_folder/bus/Datacluster_bus (36).jpg\n"
          ]
        },
        {
          "output_type": "stream",
          "name": "stderr",
          "text": [
            "/root/.cache/torch/hub/ultralytics_yolov5_master/models/common.py:892: FutureWarning: `torch.cuda.amp.autocast(args...)` is deprecated. Please use `torch.amp.autocast('cuda', args...)` instead.\n",
            "  with amp.autocast(autocast):\n",
            "image 1/1: 2448x3264 1 clock\n",
            "Speed: 24.3ms pre-process, 489.4ms inference, 1.9ms NMS per image at shape (1, 3, 480, 640)\n"
          ]
        },
        {
          "output_type": "stream",
          "name": "stdout",
          "text": [
            "Processed Datacluster_bus (35).jpg in folder bus and saved to /content/output_images_folder/bus/Datacluster_bus (35).jpg\n"
          ]
        },
        {
          "output_type": "stream",
          "name": "stderr",
          "text": [
            "/root/.cache/torch/hub/ultralytics_yolov5_master/models/common.py:892: FutureWarning: `torch.cuda.amp.autocast(args...)` is deprecated. Please use `torch.amp.autocast('cuda', args...)` instead.\n",
            "  with amp.autocast(autocast):\n",
            "image 1/1: 2448x3264 (no detections)\n",
            "Speed: 27.1ms pre-process, 500.2ms inference, 1.5ms NMS per image at shape (1, 3, 480, 640)\n"
          ]
        },
        {
          "output_type": "stream",
          "name": "stdout",
          "text": [
            "Processed Datacluster_bus (33).jpg in folder bus and saved to /content/output_images_folder/bus/Datacluster_bus (33).jpg\n"
          ]
        },
        {
          "output_type": "stream",
          "name": "stderr",
          "text": [
            "/root/.cache/torch/hub/ultralytics_yolov5_master/models/common.py:892: FutureWarning: `torch.cuda.amp.autocast(args...)` is deprecated. Please use `torch.amp.autocast('cuda', args...)` instead.\n",
            "  with amp.autocast(autocast):\n",
            "image 1/1: 2448x3264 (no detections)\n",
            "Speed: 30.1ms pre-process, 364.2ms inference, 0.6ms NMS per image at shape (1, 3, 480, 640)\n"
          ]
        },
        {
          "output_type": "stream",
          "name": "stdout",
          "text": [
            "Processed Datacluster_bus (32).jpg in folder bus and saved to /content/output_images_folder/bus/Datacluster_bus (32).jpg\n"
          ]
        },
        {
          "output_type": "stream",
          "name": "stderr",
          "text": [
            "/root/.cache/torch/hub/ultralytics_yolov5_master/models/common.py:892: FutureWarning: `torch.cuda.amp.autocast(args...)` is deprecated. Please use `torch.amp.autocast('cuda', args...)` instead.\n",
            "  with amp.autocast(autocast):\n",
            "image 1/1: 2448x3264 (no detections)\n",
            "Speed: 27.3ms pre-process, 311.4ms inference, 1.0ms NMS per image at shape (1, 3, 480, 640)\n"
          ]
        },
        {
          "output_type": "stream",
          "name": "stdout",
          "text": [
            "Processed Datacluster_bus (4).jpg in folder bus and saved to /content/output_images_folder/bus/Datacluster_bus (4).jpg\n"
          ]
        },
        {
          "output_type": "stream",
          "name": "stderr",
          "text": [
            "/root/.cache/torch/hub/ultralytics_yolov5_master/models/common.py:892: FutureWarning: `torch.cuda.amp.autocast(args...)` is deprecated. Please use `torch.amp.autocast('cuda', args...)` instead.\n",
            "  with amp.autocast(autocast):\n",
            "image 1/1: 2448x3264 (no detections)\n",
            "Speed: 16.8ms pre-process, 314.1ms inference, 0.8ms NMS per image at shape (1, 3, 480, 640)\n"
          ]
        },
        {
          "output_type": "stream",
          "name": "stdout",
          "text": [
            "Processed Datacluster_bus (31).jpg in folder bus and saved to /content/output_images_folder/bus/Datacluster_bus (31).jpg\n"
          ]
        },
        {
          "output_type": "stream",
          "name": "stderr",
          "text": [
            "/root/.cache/torch/hub/ultralytics_yolov5_master/models/common.py:892: FutureWarning: `torch.cuda.amp.autocast(args...)` is deprecated. Please use `torch.amp.autocast('cuda', args...)` instead.\n",
            "  with amp.autocast(autocast):\n",
            "image 1/1: 2448x3264 (no detections)\n",
            "Speed: 28.1ms pre-process, 320.2ms inference, 0.9ms NMS per image at shape (1, 3, 480, 640)\n"
          ]
        },
        {
          "output_type": "stream",
          "name": "stdout",
          "text": [
            "Processed Datacluster_bus (6).jpg in folder bus and saved to /content/output_images_folder/bus/Datacluster_bus (6).jpg\n"
          ]
        },
        {
          "output_type": "stream",
          "name": "stderr",
          "text": [
            "/root/.cache/torch/hub/ultralytics_yolov5_master/models/common.py:892: FutureWarning: `torch.cuda.amp.autocast(args...)` is deprecated. Please use `torch.amp.autocast('cuda', args...)` instead.\n",
            "  with amp.autocast(autocast):\n",
            "image 1/1: 3120x4160 1 person, 1 cat\n",
            "Speed: 46.2ms pre-process, 302.3ms inference, 2.0ms NMS per image at shape (1, 3, 480, 640)\n"
          ]
        },
        {
          "output_type": "stream",
          "name": "stdout",
          "text": [
            "Processed Datacluster_bus (9).jpg in folder bus and saved to /content/output_images_folder/bus/Datacluster_bus (9).jpg\n"
          ]
        },
        {
          "output_type": "stream",
          "name": "stderr",
          "text": [
            "/root/.cache/torch/hub/ultralytics_yolov5_master/models/common.py:892: FutureWarning: `torch.cuda.amp.autocast(args...)` is deprecated. Please use `torch.amp.autocast('cuda', args...)` instead.\n",
            "  with amp.autocast(autocast):\n",
            "image 1/1: 3120x4160 1 person, 1 horse, 1 umbrella\n",
            "Speed: 73.5ms pre-process, 309.4ms inference, 1.4ms NMS per image at shape (1, 3, 480, 640)\n"
          ]
        },
        {
          "output_type": "stream",
          "name": "stdout",
          "text": [
            "Processed Datacluster_bus (7).jpg in folder bus and saved to /content/output_images_folder/bus/Datacluster_bus (7).jpg\n"
          ]
        },
        {
          "output_type": "stream",
          "name": "stderr",
          "text": [
            "/root/.cache/torch/hub/ultralytics_yolov5_master/models/common.py:892: FutureWarning: `torch.cuda.amp.autocast(args...)` is deprecated. Please use `torch.amp.autocast('cuda', args...)` instead.\n",
            "  with amp.autocast(autocast):\n",
            "image 1/1: 3120x4160 1 train\n",
            "Speed: 50.6ms pre-process, 328.0ms inference, 1.2ms NMS per image at shape (1, 3, 480, 640)\n"
          ]
        },
        {
          "output_type": "stream",
          "name": "stdout",
          "text": [
            "Processed Datacluster_bus (5).jpg in folder bus and saved to /content/output_images_folder/bus/Datacluster_bus (5).jpg\n"
          ]
        },
        {
          "output_type": "stream",
          "name": "stderr",
          "text": [
            "/root/.cache/torch/hub/ultralytics_yolov5_master/models/common.py:892: FutureWarning: `torch.cuda.amp.autocast(args...)` is deprecated. Please use `torch.amp.autocast('cuda', args...)` instead.\n",
            "  with amp.autocast(autocast):\n",
            "image 1/1: 3120x4160 (no detections)\n",
            "Speed: 26.2ms pre-process, 307.2ms inference, 1.0ms NMS per image at shape (1, 3, 480, 640)\n"
          ]
        },
        {
          "output_type": "stream",
          "name": "stdout",
          "text": [
            "Processed Datacluster_bus (8).jpg in folder bus and saved to /content/output_images_folder/bus/Datacluster_bus (8).jpg\n",
            "Output subfolder created at: /content/output_images_folder/tractor\n"
          ]
        },
        {
          "output_type": "stream",
          "name": "stderr",
          "text": [
            "/root/.cache/torch/hub/ultralytics_yolov5_master/models/common.py:892: FutureWarning: `torch.cuda.amp.autocast(args...)` is deprecated. Please use `torch.amp.autocast('cuda', args...)` instead.\n",
            "  with amp.autocast(autocast):\n",
            "image 1/1: 2448x3264 1 truck\n",
            "Speed: 18.8ms pre-process, 306.5ms inference, 1.3ms NMS per image at shape (1, 3, 480, 640)\n"
          ]
        },
        {
          "output_type": "stream",
          "name": "stdout",
          "text": [
            "Processed Datacluster_tracktor (1).jpg in folder tractor and saved to /content/output_images_folder/tractor/Datacluster_tracktor (1).jpg\n"
          ]
        },
        {
          "output_type": "stream",
          "name": "stderr",
          "text": [
            "/root/.cache/torch/hub/ultralytics_yolov5_master/models/common.py:892: FutureWarning: `torch.cuda.amp.autocast(args...)` is deprecated. Please use `torch.amp.autocast('cuda', args...)` instead.\n",
            "  with amp.autocast(autocast):\n",
            "image 1/1: 2448x3264 1 cat, 1 dog\n",
            "Speed: 17.7ms pre-process, 325.8ms inference, 1.3ms NMS per image at shape (1, 3, 480, 640)\n"
          ]
        },
        {
          "output_type": "stream",
          "name": "stdout",
          "text": [
            "Processed Datacluster_tracktor (10).jpg in folder tractor and saved to /content/output_images_folder/tractor/Datacluster_tracktor (10).jpg\n"
          ]
        },
        {
          "output_type": "stream",
          "name": "stderr",
          "text": [
            "/root/.cache/torch/hub/ultralytics_yolov5_master/models/common.py:892: FutureWarning: `torch.cuda.amp.autocast(args...)` is deprecated. Please use `torch.amp.autocast('cuda', args...)` instead.\n",
            "  with amp.autocast(autocast):\n",
            "image 1/1: 3120x4160 1 traffic light\n",
            "Speed: 44.5ms pre-process, 309.7ms inference, 1.3ms NMS per image at shape (1, 3, 480, 640)\n"
          ]
        },
        {
          "output_type": "stream",
          "name": "stdout",
          "text": [
            "Processed Datacluster_tracktor (16).jpg in folder tractor and saved to /content/output_images_folder/tractor/Datacluster_tracktor (16).jpg\n"
          ]
        },
        {
          "output_type": "stream",
          "name": "stderr",
          "text": [
            "/root/.cache/torch/hub/ultralytics_yolov5_master/models/common.py:892: FutureWarning: `torch.cuda.amp.autocast(args...)` is deprecated. Please use `torch.amp.autocast('cuda', args...)` instead.\n",
            "  with amp.autocast(autocast):\n",
            "image 1/1: 2448x3264 2 persons, 1 bicycle\n",
            "Speed: 17.7ms pre-process, 315.0ms inference, 1.4ms NMS per image at shape (1, 3, 480, 640)\n"
          ]
        },
        {
          "output_type": "stream",
          "name": "stdout",
          "text": [
            "Processed Datacluster_tracktor (13).jpg in folder tractor and saved to /content/output_images_folder/tractor/Datacluster_tracktor (13).jpg\n"
          ]
        },
        {
          "output_type": "stream",
          "name": "stderr",
          "text": [
            "/root/.cache/torch/hub/ultralytics_yolov5_master/models/common.py:892: FutureWarning: `torch.cuda.amp.autocast(args...)` is deprecated. Please use `torch.amp.autocast('cuda', args...)` instead.\n",
            "  with amp.autocast(autocast):\n",
            "image 1/1: 2448x3264 (no detections)\n",
            "Speed: 17.5ms pre-process, 326.7ms inference, 0.8ms NMS per image at shape (1, 3, 480, 640)\n"
          ]
        },
        {
          "output_type": "stream",
          "name": "stdout",
          "text": [
            "Processed Datacluster_tracktor (14).jpg in folder tractor and saved to /content/output_images_folder/tractor/Datacluster_tracktor (14).jpg\n"
          ]
        },
        {
          "output_type": "stream",
          "name": "stderr",
          "text": [
            "/root/.cache/torch/hub/ultralytics_yolov5_master/models/common.py:892: FutureWarning: `torch.cuda.amp.autocast(args...)` is deprecated. Please use `torch.amp.autocast('cuda', args...)` instead.\n",
            "  with amp.autocast(autocast):\n",
            "image 1/1: 3000x4000 1 train\n",
            "Speed: 44.0ms pre-process, 321.9ms inference, 1.3ms NMS per image at shape (1, 3, 480, 640)\n"
          ]
        },
        {
          "output_type": "stream",
          "name": "stdout",
          "text": [
            "Processed Datacluster_tracktor (11).jpg in folder tractor and saved to /content/output_images_folder/tractor/Datacluster_tracktor (11).jpg\n"
          ]
        },
        {
          "output_type": "stream",
          "name": "stderr",
          "text": [
            "/root/.cache/torch/hub/ultralytics_yolov5_master/models/common.py:892: FutureWarning: `torch.cuda.amp.autocast(args...)` is deprecated. Please use `torch.amp.autocast('cuda', args...)` instead.\n",
            "  with amp.autocast(autocast):\n",
            "image 1/1: 3120x4160 (no detections)\n",
            "Speed: 44.0ms pre-process, 315.1ms inference, 0.7ms NMS per image at shape (1, 3, 480, 640)\n"
          ]
        },
        {
          "output_type": "stream",
          "name": "stdout",
          "text": [
            "Processed Datacluster_tracktor (15).jpg in folder tractor and saved to /content/output_images_folder/tractor/Datacluster_tracktor (15).jpg\n"
          ]
        },
        {
          "output_type": "stream",
          "name": "stderr",
          "text": [
            "/root/.cache/torch/hub/ultralytics_yolov5_master/models/common.py:892: FutureWarning: `torch.cuda.amp.autocast(args...)` is deprecated. Please use `torch.amp.autocast('cuda', args...)` instead.\n",
            "  with amp.autocast(autocast):\n",
            "image 1/1: 2448x3264 1 clock\n",
            "Speed: 39.1ms pre-process, 490.3ms inference, 2.0ms NMS per image at shape (1, 3, 480, 640)\n"
          ]
        },
        {
          "output_type": "stream",
          "name": "stdout",
          "text": [
            "Processed Datacluster_tracktor (12).jpg in folder tractor and saved to /content/output_images_folder/tractor/Datacluster_tracktor (12).jpg\n"
          ]
        },
        {
          "output_type": "stream",
          "name": "stderr",
          "text": [
            "/root/.cache/torch/hub/ultralytics_yolov5_master/models/common.py:892: FutureWarning: `torch.cuda.amp.autocast(args...)` is deprecated. Please use `torch.amp.autocast('cuda', args...)` instead.\n",
            "  with amp.autocast(autocast):\n",
            "image 1/1: 3000x4000 1 person, 1 fire hydrant, 1 toilet\n",
            "Speed: 53.6ms pre-process, 493.5ms inference, 4.9ms NMS per image at shape (1, 3, 480, 640)\n"
          ]
        },
        {
          "output_type": "stream",
          "name": "stdout",
          "text": [
            "Processed Datacluster_tracktor (20).jpg in folder tractor and saved to /content/output_images_folder/tractor/Datacluster_tracktor (20).jpg\n"
          ]
        },
        {
          "output_type": "stream",
          "name": "stderr",
          "text": [
            "/root/.cache/torch/hub/ultralytics_yolov5_master/models/common.py:892: FutureWarning: `torch.cuda.amp.autocast(args...)` is deprecated. Please use `torch.amp.autocast('cuda', args...)` instead.\n",
            "  with amp.autocast(autocast):\n",
            "image 1/1: 3000x4000 (no detections)\n",
            "Speed: 57.9ms pre-process, 477.7ms inference, 0.9ms NMS per image at shape (1, 3, 480, 640)\n"
          ]
        },
        {
          "output_type": "stream",
          "name": "stdout",
          "text": [
            "Processed Datacluster_tracktor (21).jpg in folder tractor and saved to /content/output_images_folder/tractor/Datacluster_tracktor (21).jpg\n"
          ]
        },
        {
          "output_type": "stream",
          "name": "stderr",
          "text": [
            "/root/.cache/torch/hub/ultralytics_yolov5_master/models/common.py:892: FutureWarning: `torch.cuda.amp.autocast(args...)` is deprecated. Please use `torch.amp.autocast('cuda', args...)` instead.\n",
            "  with amp.autocast(autocast):\n",
            "image 1/1: 2448x3264 1 baseball bat\n",
            "Speed: 31.3ms pre-process, 490.4ms inference, 1.9ms NMS per image at shape (1, 3, 480, 640)\n"
          ]
        },
        {
          "output_type": "stream",
          "name": "stdout",
          "text": [
            "Processed Datacluster_tracktor (18).jpg in folder tractor and saved to /content/output_images_folder/tractor/Datacluster_tracktor (18).jpg\n"
          ]
        },
        {
          "output_type": "stream",
          "name": "stderr",
          "text": [
            "/root/.cache/torch/hub/ultralytics_yolov5_master/models/common.py:892: FutureWarning: `torch.cuda.amp.autocast(args...)` is deprecated. Please use `torch.amp.autocast('cuda', args...)` instead.\n",
            "  with amp.autocast(autocast):\n",
            "image 1/1: 2448x3264 1 person, 1 truck, 1 bird, 1 horse\n",
            "Speed: 26.1ms pre-process, 487.2ms inference, 2.2ms NMS per image at shape (1, 3, 480, 640)\n"
          ]
        },
        {
          "output_type": "stream",
          "name": "stdout",
          "text": [
            "Processed Datacluster_tracktor (19).jpg in folder tractor and saved to /content/output_images_folder/tractor/Datacluster_tracktor (19).jpg\n"
          ]
        },
        {
          "output_type": "stream",
          "name": "stderr",
          "text": [
            "/root/.cache/torch/hub/ultralytics_yolov5_master/models/common.py:892: FutureWarning: `torch.cuda.amp.autocast(args...)` is deprecated. Please use `torch.amp.autocast('cuda', args...)` instead.\n",
            "  with amp.autocast(autocast):\n",
            "image 1/1: 3072x4096 1 clock\n",
            "Speed: 72.9ms pre-process, 317.1ms inference, 1.3ms NMS per image at shape (1, 3, 480, 640)\n"
          ]
        },
        {
          "output_type": "stream",
          "name": "stdout",
          "text": [
            "Processed Datacluster_tracktor (22).jpg in folder tractor and saved to /content/output_images_folder/tractor/Datacluster_tracktor (22).jpg\n"
          ]
        },
        {
          "output_type": "stream",
          "name": "stderr",
          "text": [
            "/root/.cache/torch/hub/ultralytics_yolov5_master/models/common.py:892: FutureWarning: `torch.cuda.amp.autocast(args...)` is deprecated. Please use `torch.amp.autocast('cuda', args...)` instead.\n",
            "  with amp.autocast(autocast):\n",
            "image 1/1: 2448x3264 (no detections)\n",
            "Speed: 17.5ms pre-process, 313.8ms inference, 0.7ms NMS per image at shape (1, 3, 480, 640)\n"
          ]
        },
        {
          "output_type": "stream",
          "name": "stdout",
          "text": [
            "Processed Datacluster_tracktor (17).jpg in folder tractor and saved to /content/output_images_folder/tractor/Datacluster_tracktor (17).jpg\n"
          ]
        },
        {
          "output_type": "stream",
          "name": "stderr",
          "text": [
            "/root/.cache/torch/hub/ultralytics_yolov5_master/models/common.py:892: FutureWarning: `torch.cuda.amp.autocast(args...)` is deprecated. Please use `torch.amp.autocast('cuda', args...)` instead.\n",
            "  with amp.autocast(autocast):\n",
            "image 1/1: 2448x3264 (no detections)\n",
            "Speed: 17.2ms pre-process, 325.0ms inference, 0.7ms NMS per image at shape (1, 3, 480, 640)\n"
          ]
        },
        {
          "output_type": "stream",
          "name": "stdout",
          "text": [
            "Processed Datacluster_tracktor (2).jpg in folder tractor and saved to /content/output_images_folder/tractor/Datacluster_tracktor (2).jpg\n"
          ]
        },
        {
          "output_type": "stream",
          "name": "stderr",
          "text": [
            "/root/.cache/torch/hub/ultralytics_yolov5_master/models/common.py:892: FutureWarning: `torch.cuda.amp.autocast(args...)` is deprecated. Please use `torch.amp.autocast('cuda', args...)` instead.\n",
            "  with amp.autocast(autocast):\n",
            "image 1/1: 2448x3264 (no detections)\n",
            "Speed: 31.5ms pre-process, 306.5ms inference, 0.7ms NMS per image at shape (1, 3, 480, 640)\n"
          ]
        },
        {
          "output_type": "stream",
          "name": "stdout",
          "text": [
            "Processed Datacluster_tracktor (28).jpg in folder tractor and saved to /content/output_images_folder/tractor/Datacluster_tracktor (28).jpg\n"
          ]
        },
        {
          "output_type": "stream",
          "name": "stderr",
          "text": [
            "/root/.cache/torch/hub/ultralytics_yolov5_master/models/common.py:892: FutureWarning: `torch.cuda.amp.autocast(args...)` is deprecated. Please use `torch.amp.autocast('cuda', args...)` instead.\n",
            "  with amp.autocast(autocast):\n",
            "image 1/1: 3120x4160 (no detections)\n",
            "Speed: 50.4ms pre-process, 320.0ms inference, 0.6ms NMS per image at shape (1, 3, 480, 640)\n"
          ]
        },
        {
          "output_type": "stream",
          "name": "stdout",
          "text": [
            "Processed Datacluster_tracktor (23).jpg in folder tractor and saved to /content/output_images_folder/tractor/Datacluster_tracktor (23).jpg\n"
          ]
        },
        {
          "output_type": "stream",
          "name": "stderr",
          "text": [
            "/root/.cache/torch/hub/ultralytics_yolov5_master/models/common.py:892: FutureWarning: `torch.cuda.amp.autocast(args...)` is deprecated. Please use `torch.amp.autocast('cuda', args...)` instead.\n",
            "  with amp.autocast(autocast):\n",
            "image 1/1: 2448x3264 (no detections)\n",
            "Speed: 17.1ms pre-process, 314.6ms inference, 0.7ms NMS per image at shape (1, 3, 480, 640)\n"
          ]
        },
        {
          "output_type": "stream",
          "name": "stdout",
          "text": [
            "Processed Datacluster_tracktor (27).jpg in folder tractor and saved to /content/output_images_folder/tractor/Datacluster_tracktor (27).jpg\n"
          ]
        },
        {
          "output_type": "stream",
          "name": "stderr",
          "text": [
            "/root/.cache/torch/hub/ultralytics_yolov5_master/models/common.py:892: FutureWarning: `torch.cuda.amp.autocast(args...)` is deprecated. Please use `torch.amp.autocast('cuda', args...)` instead.\n",
            "  with amp.autocast(autocast):\n",
            "image 1/1: 3120x4160 (no detections)\n",
            "Speed: 51.6ms pre-process, 311.5ms inference, 0.7ms NMS per image at shape (1, 3, 480, 640)\n"
          ]
        },
        {
          "output_type": "stream",
          "name": "stdout",
          "text": [
            "Processed Datacluster_tracktor (24).jpg in folder tractor and saved to /content/output_images_folder/tractor/Datacluster_tracktor (24).jpg\n"
          ]
        },
        {
          "output_type": "stream",
          "name": "stderr",
          "text": [
            "/root/.cache/torch/hub/ultralytics_yolov5_master/models/common.py:892: FutureWarning: `torch.cuda.amp.autocast(args...)` is deprecated. Please use `torch.amp.autocast('cuda', args...)` instead.\n",
            "  with amp.autocast(autocast):\n",
            "image 1/1: 2448x3264 3 persons\n",
            "Speed: 17.3ms pre-process, 341.5ms inference, 1.3ms NMS per image at shape (1, 3, 480, 640)\n"
          ]
        },
        {
          "output_type": "stream",
          "name": "stdout",
          "text": [
            "Processed Datacluster_tracktor (25).jpg in folder tractor and saved to /content/output_images_folder/tractor/Datacluster_tracktor (25).jpg\n"
          ]
        },
        {
          "output_type": "stream",
          "name": "stderr",
          "text": [
            "/root/.cache/torch/hub/ultralytics_yolov5_master/models/common.py:892: FutureWarning: `torch.cuda.amp.autocast(args...)` is deprecated. Please use `torch.amp.autocast('cuda', args...)` instead.\n",
            "  with amp.autocast(autocast):\n",
            "image 1/1: 2448x3264 (no detections)\n",
            "Speed: 27.8ms pre-process, 315.5ms inference, 0.9ms NMS per image at shape (1, 3, 480, 640)\n"
          ]
        },
        {
          "output_type": "stream",
          "name": "stdout",
          "text": [
            "Processed Datacluster_tracktor (26).jpg in folder tractor and saved to /content/output_images_folder/tractor/Datacluster_tracktor (26).jpg\n"
          ]
        },
        {
          "output_type": "stream",
          "name": "stderr",
          "text": [
            "/root/.cache/torch/hub/ultralytics_yolov5_master/models/common.py:892: FutureWarning: `torch.cuda.amp.autocast(args...)` is deprecated. Please use `torch.amp.autocast('cuda', args...)` instead.\n",
            "  with amp.autocast(autocast):\n",
            "image 1/1: 3000x4000 1 clock\n",
            "Speed: 24.6ms pre-process, 318.4ms inference, 1.3ms NMS per image at shape (1, 3, 480, 640)\n"
          ]
        },
        {
          "output_type": "stream",
          "name": "stdout",
          "text": [
            "Processed Datacluster_tracktor (29).jpg in folder tractor and saved to /content/output_images_folder/tractor/Datacluster_tracktor (29).jpg\n"
          ]
        },
        {
          "output_type": "stream",
          "name": "stderr",
          "text": [
            "/root/.cache/torch/hub/ultralytics_yolov5_master/models/common.py:892: FutureWarning: `torch.cuda.amp.autocast(args...)` is deprecated. Please use `torch.amp.autocast('cuda', args...)` instead.\n",
            "  with amp.autocast(autocast):\n",
            "image 1/1: 3000x4000 (no detections)\n",
            "Speed: 44.7ms pre-process, 324.8ms inference, 0.7ms NMS per image at shape (1, 3, 480, 640)\n"
          ]
        },
        {
          "output_type": "stream",
          "name": "stdout",
          "text": [
            "Processed Datacluster_tracktor (30).jpg in folder tractor and saved to /content/output_images_folder/tractor/Datacluster_tracktor (30).jpg\n"
          ]
        },
        {
          "output_type": "stream",
          "name": "stderr",
          "text": [
            "/root/.cache/torch/hub/ultralytics_yolov5_master/models/common.py:892: FutureWarning: `torch.cuda.amp.autocast(args...)` is deprecated. Please use `torch.amp.autocast('cuda', args...)` instead.\n",
            "  with amp.autocast(autocast):\n",
            "image 1/1: 2448x3264 (no detections)\n",
            "Speed: 20.8ms pre-process, 327.5ms inference, 0.7ms NMS per image at shape (1, 3, 480, 640)\n"
          ]
        },
        {
          "output_type": "stream",
          "name": "stdout",
          "text": [
            "Processed Datacluster_tracktor (33).jpg in folder tractor and saved to /content/output_images_folder/tractor/Datacluster_tracktor (33).jpg\n"
          ]
        },
        {
          "output_type": "stream",
          "name": "stderr",
          "text": [
            "/root/.cache/torch/hub/ultralytics_yolov5_master/models/common.py:892: FutureWarning: `torch.cuda.amp.autocast(args...)` is deprecated. Please use `torch.amp.autocast('cuda', args...)` instead.\n",
            "  with amp.autocast(autocast):\n",
            "image 1/1: 3120x4160 1 fire hydrant\n",
            "Speed: 43.6ms pre-process, 318.9ms inference, 1.4ms NMS per image at shape (1, 3, 480, 640)\n"
          ]
        },
        {
          "output_type": "stream",
          "name": "stdout",
          "text": [
            "Processed Datacluster_tracktor (34).jpg in folder tractor and saved to /content/output_images_folder/tractor/Datacluster_tracktor (34).jpg\n"
          ]
        },
        {
          "output_type": "stream",
          "name": "stderr",
          "text": [
            "/root/.cache/torch/hub/ultralytics_yolov5_master/models/common.py:892: FutureWarning: `torch.cuda.amp.autocast(args...)` is deprecated. Please use `torch.amp.autocast('cuda', args...)` instead.\n",
            "  with amp.autocast(autocast):\n",
            "image 1/1: 3120x4160 (no detections)\n",
            "Speed: 50.9ms pre-process, 308.0ms inference, 0.7ms NMS per image at shape (1, 3, 480, 640)\n"
          ]
        },
        {
          "output_type": "stream",
          "name": "stdout",
          "text": [
            "Processed Datacluster_tracktor (32).jpg in folder tractor and saved to /content/output_images_folder/tractor/Datacluster_tracktor (32).jpg\n"
          ]
        },
        {
          "output_type": "stream",
          "name": "stderr",
          "text": [
            "/root/.cache/torch/hub/ultralytics_yolov5_master/models/common.py:892: FutureWarning: `torch.cuda.amp.autocast(args...)` is deprecated. Please use `torch.amp.autocast('cuda', args...)` instead.\n",
            "  with amp.autocast(autocast):\n",
            "image 1/1: 2448x3264 (no detections)\n",
            "Speed: 27.9ms pre-process, 387.2ms inference, 1.4ms NMS per image at shape (1, 3, 480, 640)\n"
          ]
        },
        {
          "output_type": "stream",
          "name": "stdout",
          "text": [
            "Processed Datacluster_tracktor (31).jpg in folder tractor and saved to /content/output_images_folder/tractor/Datacluster_tracktor (31).jpg\n"
          ]
        },
        {
          "output_type": "stream",
          "name": "stderr",
          "text": [
            "/root/.cache/torch/hub/ultralytics_yolov5_master/models/common.py:892: FutureWarning: `torch.cuda.amp.autocast(args...)` is deprecated. Please use `torch.amp.autocast('cuda', args...)` instead.\n",
            "  with amp.autocast(autocast):\n",
            "image 1/1: 3072x4096 (no detections)\n",
            "Speed: 74.4ms pre-process, 490.5ms inference, 1.5ms NMS per image at shape (1, 3, 480, 640)\n"
          ]
        },
        {
          "output_type": "stream",
          "name": "stdout",
          "text": [
            "Processed Datacluster_tracktor (3).jpg in folder tractor and saved to /content/output_images_folder/tractor/Datacluster_tracktor (3).jpg\n"
          ]
        },
        {
          "output_type": "stream",
          "name": "stderr",
          "text": [
            "/root/.cache/torch/hub/ultralytics_yolov5_master/models/common.py:892: FutureWarning: `torch.cuda.amp.autocast(args...)` is deprecated. Please use `torch.amp.autocast('cuda', args...)` instead.\n",
            "  with amp.autocast(autocast):\n",
            "image 1/1: 2448x3264 (no detections)\n",
            "Speed: 25.6ms pre-process, 491.5ms inference, 1.0ms NMS per image at shape (1, 3, 480, 640)\n"
          ]
        },
        {
          "output_type": "stream",
          "name": "stdout",
          "text": [
            "Processed Datacluster_tracktor (39).jpg in folder tractor and saved to /content/output_images_folder/tractor/Datacluster_tracktor (39).jpg\n"
          ]
        },
        {
          "output_type": "stream",
          "name": "stderr",
          "text": [
            "/root/.cache/torch/hub/ultralytics_yolov5_master/models/common.py:892: FutureWarning: `torch.cuda.amp.autocast(args...)` is deprecated. Please use `torch.amp.autocast('cuda', args...)` instead.\n",
            "  with amp.autocast(autocast):\n",
            "image 1/1: 3120x4160 1 fire hydrant\n",
            "Speed: 60.8ms pre-process, 502.8ms inference, 1.6ms NMS per image at shape (1, 3, 480, 640)\n"
          ]
        },
        {
          "output_type": "stream",
          "name": "stdout",
          "text": [
            "Processed Datacluster_tracktor (35).jpg in folder tractor and saved to /content/output_images_folder/tractor/Datacluster_tracktor (35).jpg\n"
          ]
        },
        {
          "output_type": "stream",
          "name": "stderr",
          "text": [
            "/root/.cache/torch/hub/ultralytics_yolov5_master/models/common.py:892: FutureWarning: `torch.cuda.amp.autocast(args...)` is deprecated. Please use `torch.amp.autocast('cuda', args...)` instead.\n",
            "  with amp.autocast(autocast):\n",
            "image 1/1: 3120x4160 (no detections)\n",
            "Speed: 66.7ms pre-process, 509.1ms inference, 0.9ms NMS per image at shape (1, 3, 480, 640)\n"
          ]
        },
        {
          "output_type": "stream",
          "name": "stdout",
          "text": [
            "Processed Datacluster_tracktor (4).jpg in folder tractor and saved to /content/output_images_folder/tractor/Datacluster_tracktor (4).jpg\n"
          ]
        },
        {
          "output_type": "stream",
          "name": "stderr",
          "text": [
            "/root/.cache/torch/hub/ultralytics_yolov5_master/models/common.py:892: FutureWarning: `torch.cuda.amp.autocast(args...)` is deprecated. Please use `torch.amp.autocast('cuda', args...)` instead.\n",
            "  with amp.autocast(autocast):\n",
            "image 1/1: 3000x4000 (no detections)\n",
            "Speed: 58.4ms pre-process, 308.4ms inference, 0.7ms NMS per image at shape (1, 3, 480, 640)\n"
          ]
        },
        {
          "output_type": "stream",
          "name": "stdout",
          "text": [
            "Processed Datacluster_tracktor (36).jpg in folder tractor and saved to /content/output_images_folder/tractor/Datacluster_tracktor (36).jpg\n"
          ]
        },
        {
          "output_type": "stream",
          "name": "stderr",
          "text": [
            "/root/.cache/torch/hub/ultralytics_yolov5_master/models/common.py:892: FutureWarning: `torch.cuda.amp.autocast(args...)` is deprecated. Please use `torch.amp.autocast('cuda', args...)` instead.\n",
            "  with amp.autocast(autocast):\n",
            "image 1/1: 2448x3264 1 person\n",
            "Speed: 27.5ms pre-process, 315.7ms inference, 1.2ms NMS per image at shape (1, 3, 480, 640)\n"
          ]
        },
        {
          "output_type": "stream",
          "name": "stdout",
          "text": [
            "Processed Datacluster_tracktor (37).jpg in folder tractor and saved to /content/output_images_folder/tractor/Datacluster_tracktor (37).jpg\n"
          ]
        },
        {
          "output_type": "stream",
          "name": "stderr",
          "text": [
            "/root/.cache/torch/hub/ultralytics_yolov5_master/models/common.py:892: FutureWarning: `torch.cuda.amp.autocast(args...)` is deprecated. Please use `torch.amp.autocast('cuda', args...)` instead.\n",
            "  with amp.autocast(autocast):\n",
            "image 1/1: 2448x3264 (no detections)\n",
            "Speed: 17.4ms pre-process, 316.3ms inference, 1.0ms NMS per image at shape (1, 3, 480, 640)\n"
          ]
        },
        {
          "output_type": "stream",
          "name": "stdout",
          "text": [
            "Processed Datacluster_tracktor (38).jpg in folder tractor and saved to /content/output_images_folder/tractor/Datacluster_tracktor (38).jpg\n"
          ]
        },
        {
          "output_type": "stream",
          "name": "stderr",
          "text": [
            "/root/.cache/torch/hub/ultralytics_yolov5_master/models/common.py:892: FutureWarning: `torch.cuda.amp.autocast(args...)` is deprecated. Please use `torch.amp.autocast('cuda', args...)` instead.\n",
            "  with amp.autocast(autocast):\n",
            "image 1/1: 2448x3264 1 train\n",
            "Speed: 17.8ms pre-process, 324.6ms inference, 1.2ms NMS per image at shape (1, 3, 480, 640)\n"
          ]
        },
        {
          "output_type": "stream",
          "name": "stdout",
          "text": [
            "Processed Datacluster_tracktor (7).jpg in folder tractor and saved to /content/output_images_folder/tractor/Datacluster_tracktor (7).jpg\n"
          ]
        },
        {
          "output_type": "stream",
          "name": "stderr",
          "text": [
            "/root/.cache/torch/hub/ultralytics_yolov5_master/models/common.py:892: FutureWarning: `torch.cuda.amp.autocast(args...)` is deprecated. Please use `torch.amp.autocast('cuda', args...)` instead.\n",
            "  with amp.autocast(autocast):\n",
            "image 1/1: 3120x4160 (no detections)\n",
            "Speed: 90.2ms pre-process, 310.6ms inference, 0.7ms NMS per image at shape (1, 3, 480, 640)\n"
          ]
        },
        {
          "output_type": "stream",
          "name": "stdout",
          "text": [
            "Processed Datacluster_tracktor (5).jpg in folder tractor and saved to /content/output_images_folder/tractor/Datacluster_tracktor (5).jpg\n"
          ]
        },
        {
          "output_type": "stream",
          "name": "stderr",
          "text": [
            "/root/.cache/torch/hub/ultralytics_yolov5_master/models/common.py:892: FutureWarning: `torch.cuda.amp.autocast(args...)` is deprecated. Please use `torch.amp.autocast('cuda', args...)` instead.\n",
            "  with amp.autocast(autocast):\n",
            "image 1/1: 2448x3264 (no detections)\n",
            "Speed: 28.5ms pre-process, 327.6ms inference, 0.7ms NMS per image at shape (1, 3, 480, 640)\n"
          ]
        },
        {
          "output_type": "stream",
          "name": "stdout",
          "text": [
            "Processed Datacluster_tracktor (40).jpg in folder tractor and saved to /content/output_images_folder/tractor/Datacluster_tracktor (40).jpg\n"
          ]
        },
        {
          "output_type": "stream",
          "name": "stderr",
          "text": [
            "/root/.cache/torch/hub/ultralytics_yolov5_master/models/common.py:892: FutureWarning: `torch.cuda.amp.autocast(args...)` is deprecated. Please use `torch.amp.autocast('cuda', args...)` instead.\n",
            "  with amp.autocast(autocast):\n",
            "image 1/1: 3024x4032 1 umbrella\n",
            "Speed: 45.3ms pre-process, 320.9ms inference, 2.1ms NMS per image at shape (1, 3, 480, 640)\n"
          ]
        },
        {
          "output_type": "stream",
          "name": "stdout",
          "text": [
            "Processed Datacluster_tracktor (41).jpg in folder tractor and saved to /content/output_images_folder/tractor/Datacluster_tracktor (41).jpg\n"
          ]
        },
        {
          "output_type": "stream",
          "name": "stderr",
          "text": [
            "/root/.cache/torch/hub/ultralytics_yolov5_master/models/common.py:892: FutureWarning: `torch.cuda.amp.autocast(args...)` is deprecated. Please use `torch.amp.autocast('cuda', args...)` instead.\n",
            "  with amp.autocast(autocast):\n",
            "image 1/1: 2448x3264 1 clock\n",
            "Speed: 17.5ms pre-process, 326.9ms inference, 1.4ms NMS per image at shape (1, 3, 480, 640)\n"
          ]
        },
        {
          "output_type": "stream",
          "name": "stdout",
          "text": [
            "Processed Datacluster_tracktor (8).jpg in folder tractor and saved to /content/output_images_folder/tractor/Datacluster_tracktor (8).jpg\n"
          ]
        },
        {
          "output_type": "stream",
          "name": "stderr",
          "text": [
            "/root/.cache/torch/hub/ultralytics_yolov5_master/models/common.py:892: FutureWarning: `torch.cuda.amp.autocast(args...)` is deprecated. Please use `torch.amp.autocast('cuda', args...)` instead.\n",
            "  with amp.autocast(autocast):\n",
            "image 1/1: 2448x3264 (no detections)\n",
            "Speed: 20.9ms pre-process, 312.7ms inference, 1.3ms NMS per image at shape (1, 3, 480, 640)\n"
          ]
        },
        {
          "output_type": "stream",
          "name": "stdout",
          "text": [
            "Processed Datacluster_tracktor (6).jpg in folder tractor and saved to /content/output_images_folder/tractor/Datacluster_tracktor (6).jpg\n"
          ]
        },
        {
          "output_type": "stream",
          "name": "stderr",
          "text": [
            "/root/.cache/torch/hub/ultralytics_yolov5_master/models/common.py:892: FutureWarning: `torch.cuda.amp.autocast(args...)` is deprecated. Please use `torch.amp.autocast('cuda', args...)` instead.\n",
            "  with amp.autocast(autocast):\n",
            "image 1/1: 2448x3264 (no detections)\n",
            "Speed: 17.4ms pre-process, 328.6ms inference, 1.1ms NMS per image at shape (1, 3, 480, 640)\n"
          ]
        },
        {
          "output_type": "stream",
          "name": "stdout",
          "text": [
            "Processed Datacluster_tracktor (42).jpg in folder tractor and saved to /content/output_images_folder/tractor/Datacluster_tracktor (42).jpg\n"
          ]
        },
        {
          "output_type": "stream",
          "name": "stderr",
          "text": [
            "/root/.cache/torch/hub/ultralytics_yolov5_master/models/common.py:892: FutureWarning: `torch.cuda.amp.autocast(args...)` is deprecated. Please use `torch.amp.autocast('cuda', args...)` instead.\n",
            "  with amp.autocast(autocast):\n",
            "image 1/1: 2448x3264 (no detections)\n",
            "Speed: 17.6ms pre-process, 328.7ms inference, 0.7ms NMS per image at shape (1, 3, 480, 640)\n"
          ]
        },
        {
          "output_type": "stream",
          "name": "stdout",
          "text": [
            "Processed Datacluster_tracktor (9).jpg in folder tractor and saved to /content/output_images_folder/tractor/Datacluster_tracktor (9).jpg\n",
            "Output subfolder created at: /content/output_images_folder/auto\n"
          ]
        },
        {
          "output_type": "stream",
          "name": "stderr",
          "text": [
            "/root/.cache/torch/hub/ultralytics_yolov5_master/models/common.py:892: FutureWarning: `torch.cuda.amp.autocast(args...)` is deprecated. Please use `torch.amp.autocast('cuda', args...)` instead.\n",
            "  with amp.autocast(autocast):\n",
            "image 1/1: 2448x3264 1 car, 1 suitcase\n",
            "Speed: 17.5ms pre-process, 315.7ms inference, 1.2ms NMS per image at shape (1, 3, 480, 640)\n"
          ]
        },
        {
          "output_type": "stream",
          "name": "stdout",
          "text": [
            "Processed Datacluster_auto (10).jpg in folder auto and saved to /content/output_images_folder/auto/Datacluster_auto (10).jpg\n"
          ]
        },
        {
          "output_type": "stream",
          "name": "stderr",
          "text": [
            "/root/.cache/torch/hub/ultralytics_yolov5_master/models/common.py:892: FutureWarning: `torch.cuda.amp.autocast(args...)` is deprecated. Please use `torch.amp.autocast('cuda', args...)` instead.\n",
            "  with amp.autocast(autocast):\n",
            "image 1/1: 3120x4160 3 persons, 1 snowboard\n",
            "Speed: 56.8ms pre-process, 322.0ms inference, 1.4ms NMS per image at shape (1, 3, 480, 640)\n"
          ]
        },
        {
          "output_type": "stream",
          "name": "stdout",
          "text": [
            "Processed Datacluster_auto (1).jpg in folder auto and saved to /content/output_images_folder/auto/Datacluster_auto (1).jpg\n"
          ]
        },
        {
          "output_type": "stream",
          "name": "stderr",
          "text": [
            "/root/.cache/torch/hub/ultralytics_yolov5_master/models/common.py:892: FutureWarning: `torch.cuda.amp.autocast(args...)` is deprecated. Please use `torch.amp.autocast('cuda', args...)` instead.\n",
            "  with amp.autocast(autocast):\n",
            "image 1/1: 3000x4000 1 umbrella\n",
            "Speed: 39.2ms pre-process, 335.5ms inference, 1.3ms NMS per image at shape (1, 3, 480, 640)\n"
          ]
        },
        {
          "output_type": "stream",
          "name": "stdout",
          "text": [
            "Processed Datacluster_auto (13).jpg in folder auto and saved to /content/output_images_folder/auto/Datacluster_auto (13).jpg\n"
          ]
        },
        {
          "output_type": "stream",
          "name": "stderr",
          "text": [
            "/root/.cache/torch/hub/ultralytics_yolov5_master/models/common.py:892: FutureWarning: `torch.cuda.amp.autocast(args...)` is deprecated. Please use `torch.amp.autocast('cuda', args...)` instead.\n",
            "  with amp.autocast(autocast):\n",
            "image 1/1: 3120x4160 1 person, 1 clock\n",
            "Speed: 47.9ms pre-process, 319.7ms inference, 1.4ms NMS per image at shape (1, 3, 480, 640)\n"
          ]
        },
        {
          "output_type": "stream",
          "name": "stdout",
          "text": [
            "Processed Datacluster_auto (11).jpg in folder auto and saved to /content/output_images_folder/auto/Datacluster_auto (11).jpg\n"
          ]
        },
        {
          "output_type": "stream",
          "name": "stderr",
          "text": [
            "/root/.cache/torch/hub/ultralytics_yolov5_master/models/common.py:892: FutureWarning: `torch.cuda.amp.autocast(args...)` is deprecated. Please use `torch.amp.autocast('cuda', args...)` instead.\n",
            "  with amp.autocast(autocast):\n",
            "image 1/1: 3120x4160 1 traffic light\n",
            "Speed: 58.1ms pre-process, 491.6ms inference, 1.7ms NMS per image at shape (1, 3, 480, 640)\n"
          ]
        },
        {
          "output_type": "stream",
          "name": "stdout",
          "text": [
            "Processed Datacluster_auto (12).jpg in folder auto and saved to /content/output_images_folder/auto/Datacluster_auto (12).jpg\n"
          ]
        },
        {
          "output_type": "stream",
          "name": "stderr",
          "text": [
            "/root/.cache/torch/hub/ultralytics_yolov5_master/models/common.py:892: FutureWarning: `torch.cuda.amp.autocast(args...)` is deprecated. Please use `torch.amp.autocast('cuda', args...)` instead.\n",
            "  with amp.autocast(autocast):\n",
            "image 1/1: 3120x4160 (no detections)\n",
            "Speed: 60.0ms pre-process, 499.0ms inference, 0.9ms NMS per image at shape (1, 3, 480, 640)\n"
          ]
        },
        {
          "output_type": "stream",
          "name": "stdout",
          "text": [
            "Processed Datacluster_auto (17).jpg in folder auto and saved to /content/output_images_folder/auto/Datacluster_auto (17).jpg\n"
          ]
        },
        {
          "output_type": "stream",
          "name": "stderr",
          "text": [
            "/root/.cache/torch/hub/ultralytics_yolov5_master/models/common.py:892: FutureWarning: `torch.cuda.amp.autocast(args...)` is deprecated. Please use `torch.amp.autocast('cuda', args...)` instead.\n",
            "  with amp.autocast(autocast):\n",
            "image 1/1: 3000x3000 (no detections)\n",
            "Speed: 30.3ms pre-process, 640.3ms inference, 1.0ms NMS per image at shape (1, 3, 640, 640)\n"
          ]
        },
        {
          "output_type": "stream",
          "name": "stdout",
          "text": [
            "Processed Datacluster_auto (18).jpg in folder auto and saved to /content/output_images_folder/auto/Datacluster_auto (18).jpg\n"
          ]
        },
        {
          "output_type": "stream",
          "name": "stderr",
          "text": [
            "/root/.cache/torch/hub/ultralytics_yolov5_master/models/common.py:892: FutureWarning: `torch.cuda.amp.autocast(args...)` is deprecated. Please use `torch.amp.autocast('cuda', args...)` instead.\n",
            "  with amp.autocast(autocast):\n",
            "image 1/1: 3120x4160 2 persons\n",
            "Speed: 64.6ms pre-process, 473.9ms inference, 1.8ms NMS per image at shape (1, 3, 480, 640)\n"
          ]
        },
        {
          "output_type": "stream",
          "name": "stdout",
          "text": [
            "Processed Datacluster_auto (2).jpg in folder auto and saved to /content/output_images_folder/auto/Datacluster_auto (2).jpg\n"
          ]
        },
        {
          "output_type": "stream",
          "name": "stderr",
          "text": [
            "/root/.cache/torch/hub/ultralytics_yolov5_master/models/common.py:892: FutureWarning: `torch.cuda.amp.autocast(args...)` is deprecated. Please use `torch.amp.autocast('cuda', args...)` instead.\n",
            "  with amp.autocast(autocast):\n",
            "image 1/1: 3024x4032 (no detections)\n",
            "Speed: 58.8ms pre-process, 510.5ms inference, 1.5ms NMS per image at shape (1, 3, 480, 640)\n"
          ]
        },
        {
          "output_type": "stream",
          "name": "stdout",
          "text": [
            "Processed Datacluster_auto (14).jpg in folder auto and saved to /content/output_images_folder/auto/Datacluster_auto (14).jpg\n"
          ]
        },
        {
          "output_type": "stream",
          "name": "stderr",
          "text": [
            "/root/.cache/torch/hub/ultralytics_yolov5_master/models/common.py:892: FutureWarning: `torch.cuda.amp.autocast(args...)` is deprecated. Please use `torch.amp.autocast('cuda', args...)` instead.\n",
            "  with amp.autocast(autocast):\n",
            "image 1/1: 2448x3264 (no detections)\n",
            "Speed: 29.2ms pre-process, 332.3ms inference, 1.1ms NMS per image at shape (1, 3, 480, 640)\n"
          ]
        },
        {
          "output_type": "stream",
          "name": "stdout",
          "text": [
            "Processed Datacluster_auto (19).jpg in folder auto and saved to /content/output_images_folder/auto/Datacluster_auto (19).jpg\n"
          ]
        },
        {
          "output_type": "stream",
          "name": "stderr",
          "text": [
            "/root/.cache/torch/hub/ultralytics_yolov5_master/models/common.py:892: FutureWarning: `torch.cuda.amp.autocast(args...)` is deprecated. Please use `torch.amp.autocast('cuda', args...)` instead.\n",
            "  with amp.autocast(autocast):\n",
            "image 1/1: 3024x4032 (no detections)\n",
            "Speed: 40.6ms pre-process, 345.8ms inference, 0.7ms NMS per image at shape (1, 3, 480, 640)\n"
          ]
        },
        {
          "output_type": "stream",
          "name": "stdout",
          "text": [
            "Processed Datacluster_auto (15).jpg in folder auto and saved to /content/output_images_folder/auto/Datacluster_auto (15).jpg\n"
          ]
        },
        {
          "output_type": "stream",
          "name": "stderr",
          "text": [
            "/root/.cache/torch/hub/ultralytics_yolov5_master/models/common.py:892: FutureWarning: `torch.cuda.amp.autocast(args...)` is deprecated. Please use `torch.amp.autocast('cuda', args...)` instead.\n",
            "  with amp.autocast(autocast):\n",
            "image 1/1: 2448x3264 1 person, 1 kite\n",
            "Speed: 19.5ms pre-process, 329.8ms inference, 1.6ms NMS per image at shape (1, 3, 480, 640)\n"
          ]
        },
        {
          "output_type": "stream",
          "name": "stdout",
          "text": [
            "Processed Datacluster_auto (16).jpg in folder auto and saved to /content/output_images_folder/auto/Datacluster_auto (16).jpg\n"
          ]
        },
        {
          "output_type": "stream",
          "name": "stderr",
          "text": [
            "/root/.cache/torch/hub/ultralytics_yolov5_master/models/common.py:892: FutureWarning: `torch.cuda.amp.autocast(args...)` is deprecated. Please use `torch.amp.autocast('cuda', args...)` instead.\n",
            "  with amp.autocast(autocast):\n",
            "image 1/1: 3024x4032 1 traffic light, 1 apple\n",
            "Speed: 42.1ms pre-process, 306.9ms inference, 1.3ms NMS per image at shape (1, 3, 480, 640)\n"
          ]
        },
        {
          "output_type": "stream",
          "name": "stdout",
          "text": [
            "Processed Datacluster_auto (20).jpg in folder auto and saved to /content/output_images_folder/auto/Datacluster_auto (20).jpg\n"
          ]
        },
        {
          "output_type": "stream",
          "name": "stderr",
          "text": [
            "/root/.cache/torch/hub/ultralytics_yolov5_master/models/common.py:892: FutureWarning: `torch.cuda.amp.autocast(args...)` is deprecated. Please use `torch.amp.autocast('cuda', args...)` instead.\n",
            "  with amp.autocast(autocast):\n",
            "image 1/1: 3000x4000 (no detections)\n",
            "Speed: 46.3ms pre-process, 323.2ms inference, 0.7ms NMS per image at shape (1, 3, 480, 640)\n"
          ]
        },
        {
          "output_type": "stream",
          "name": "stdout",
          "text": [
            "Processed Datacluster_auto (22).jpg in folder auto and saved to /content/output_images_folder/auto/Datacluster_auto (22).jpg\n"
          ]
        },
        {
          "output_type": "stream",
          "name": "stderr",
          "text": [
            "/root/.cache/torch/hub/ultralytics_yolov5_master/models/common.py:892: FutureWarning: `torch.cuda.amp.autocast(args...)` is deprecated. Please use `torch.amp.autocast('cuda', args...)` instead.\n",
            "  with amp.autocast(autocast):\n",
            "image 1/1: 3120x4160 1 person, 1 cat, 1 dog\n",
            "Speed: 46.4ms pre-process, 325.8ms inference, 1.4ms NMS per image at shape (1, 3, 480, 640)\n"
          ]
        },
        {
          "output_type": "stream",
          "name": "stdout",
          "text": [
            "Processed Datacluster_auto (23).jpg in folder auto and saved to /content/output_images_folder/auto/Datacluster_auto (23).jpg\n"
          ]
        },
        {
          "output_type": "stream",
          "name": "stderr",
          "text": [
            "/root/.cache/torch/hub/ultralytics_yolov5_master/models/common.py:892: FutureWarning: `torch.cuda.amp.autocast(args...)` is deprecated. Please use `torch.amp.autocast('cuda', args...)` instead.\n",
            "  with amp.autocast(autocast):\n",
            "image 1/1: 3120x4160 (no detections)\n",
            "Speed: 46.5ms pre-process, 316.6ms inference, 0.7ms NMS per image at shape (1, 3, 480, 640)\n"
          ]
        },
        {
          "output_type": "stream",
          "name": "stdout",
          "text": [
            "Processed Datacluster_auto (21).jpg in folder auto and saved to /content/output_images_folder/auto/Datacluster_auto (21).jpg\n"
          ]
        },
        {
          "output_type": "stream",
          "name": "stderr",
          "text": [
            "/root/.cache/torch/hub/ultralytics_yolov5_master/models/common.py:892: FutureWarning: `torch.cuda.amp.autocast(args...)` is deprecated. Please use `torch.amp.autocast('cuda', args...)` instead.\n",
            "  with amp.autocast(autocast):\n",
            "image 1/1: 1080x1440 1 potted plant\n",
            "Speed: 6.7ms pre-process, 340.4ms inference, 1.2ms NMS per image at shape (1, 3, 480, 640)\n"
          ]
        },
        {
          "output_type": "stream",
          "name": "stdout",
          "text": [
            "Processed Datacluster_auto (26).jpg in folder auto and saved to /content/output_images_folder/auto/Datacluster_auto (26).jpg\n"
          ]
        },
        {
          "output_type": "stream",
          "name": "stderr",
          "text": [
            "/root/.cache/torch/hub/ultralytics_yolov5_master/models/common.py:892: FutureWarning: `torch.cuda.amp.autocast(args...)` is deprecated. Please use `torch.amp.autocast('cuda', args...)` instead.\n",
            "  with amp.autocast(autocast):\n",
            "image 1/1: 3120x4160 1 suitcase\n",
            "Speed: 47.7ms pre-process, 320.5ms inference, 1.3ms NMS per image at shape (1, 3, 480, 640)\n"
          ]
        },
        {
          "output_type": "stream",
          "name": "stdout",
          "text": [
            "Processed Datacluster_auto (24).jpg in folder auto and saved to /content/output_images_folder/auto/Datacluster_auto (24).jpg\n"
          ]
        },
        {
          "output_type": "stream",
          "name": "stderr",
          "text": [
            "/root/.cache/torch/hub/ultralytics_yolov5_master/models/common.py:892: FutureWarning: `torch.cuda.amp.autocast(args...)` is deprecated. Please use `torch.amp.autocast('cuda', args...)` instead.\n",
            "  with amp.autocast(autocast):\n",
            "image 1/1: 2448x3264 (no detections)\n",
            "Speed: 31.6ms pre-process, 333.2ms inference, 0.7ms NMS per image at shape (1, 3, 480, 640)\n"
          ]
        },
        {
          "output_type": "stream",
          "name": "stdout",
          "text": [
            "Processed Datacluster_auto (28).jpg in folder auto and saved to /content/output_images_folder/auto/Datacluster_auto (28).jpg\n"
          ]
        },
        {
          "output_type": "stream",
          "name": "stderr",
          "text": [
            "/root/.cache/torch/hub/ultralytics_yolov5_master/models/common.py:892: FutureWarning: `torch.cuda.amp.autocast(args...)` is deprecated. Please use `torch.amp.autocast('cuda', args...)` instead.\n",
            "  with amp.autocast(autocast):\n",
            "image 1/1: 3000x4000 1 potted plant\n",
            "Speed: 42.0ms pre-process, 352.3ms inference, 1.6ms NMS per image at shape (1, 3, 480, 640)\n"
          ]
        },
        {
          "output_type": "stream",
          "name": "stdout",
          "text": [
            "Processed Datacluster_auto (27).jpg in folder auto and saved to /content/output_images_folder/auto/Datacluster_auto (27).jpg\n"
          ]
        },
        {
          "output_type": "stream",
          "name": "stderr",
          "text": [
            "/root/.cache/torch/hub/ultralytics_yolov5_master/models/common.py:892: FutureWarning: `torch.cuda.amp.autocast(args...)` is deprecated. Please use `torch.amp.autocast('cuda', args...)` instead.\n",
            "  with amp.autocast(autocast):\n",
            "image 1/1: 3096x4128 1 train, 1 traffic light\n",
            "Speed: 26.5ms pre-process, 331.0ms inference, 1.4ms NMS per image at shape (1, 3, 480, 640)\n"
          ]
        },
        {
          "output_type": "stream",
          "name": "stdout",
          "text": [
            "Processed Datacluster_auto (25).jpg in folder auto and saved to /content/output_images_folder/auto/Datacluster_auto (25).jpg\n"
          ]
        },
        {
          "output_type": "stream",
          "name": "stderr",
          "text": [
            "/root/.cache/torch/hub/ultralytics_yolov5_master/models/common.py:892: FutureWarning: `torch.cuda.amp.autocast(args...)` is deprecated. Please use `torch.amp.autocast('cuda', args...)` instead.\n",
            "  with amp.autocast(autocast):\n",
            "image 1/1: 3120x4160 (no detections)\n",
            "Speed: 48.7ms pre-process, 337.9ms inference, 1.2ms NMS per image at shape (1, 3, 480, 640)\n"
          ]
        },
        {
          "output_type": "stream",
          "name": "stdout",
          "text": [
            "Processed Datacluster_auto (5).jpg in folder auto and saved to /content/output_images_folder/auto/Datacluster_auto (5).jpg\n"
          ]
        },
        {
          "output_type": "stream",
          "name": "stderr",
          "text": [
            "/root/.cache/torch/hub/ultralytics_yolov5_master/models/common.py:892: FutureWarning: `torch.cuda.amp.autocast(args...)` is deprecated. Please use `torch.amp.autocast('cuda', args...)` instead.\n",
            "  with amp.autocast(autocast):\n",
            "image 1/1: 3120x4160 (no detections)\n",
            "Speed: 27.5ms pre-process, 335.4ms inference, 1.0ms NMS per image at shape (1, 3, 480, 640)\n"
          ]
        },
        {
          "output_type": "stream",
          "name": "stdout",
          "text": [
            "Processed Datacluster_auto (6).jpg in folder auto and saved to /content/output_images_folder/auto/Datacluster_auto (6).jpg\n"
          ]
        },
        {
          "output_type": "stream",
          "name": "stderr",
          "text": [
            "/root/.cache/torch/hub/ultralytics_yolov5_master/models/common.py:892: FutureWarning: `torch.cuda.amp.autocast(args...)` is deprecated. Please use `torch.amp.autocast('cuda', args...)` instead.\n",
            "  with amp.autocast(autocast):\n",
            "image 1/1: 3000x4000 1 person\n",
            "Speed: 58.3ms pre-process, 519.5ms inference, 1.9ms NMS per image at shape (1, 3, 480, 640)\n"
          ]
        },
        {
          "output_type": "stream",
          "name": "stdout",
          "text": [
            "Processed Datacluster_auto (29).jpg in folder auto and saved to /content/output_images_folder/auto/Datacluster_auto (29).jpg\n"
          ]
        },
        {
          "output_type": "stream",
          "name": "stderr",
          "text": [
            "/root/.cache/torch/hub/ultralytics_yolov5_master/models/common.py:892: FutureWarning: `torch.cuda.amp.autocast(args...)` is deprecated. Please use `torch.amp.autocast('cuda', args...)` instead.\n",
            "  with amp.autocast(autocast):\n",
            "image 1/1: 2448x3264 1 bicycle\n",
            "Speed: 23.6ms pre-process, 515.8ms inference, 2.8ms NMS per image at shape (1, 3, 480, 640)\n"
          ]
        },
        {
          "output_type": "stream",
          "name": "stdout",
          "text": [
            "Processed Datacluster_auto (3).jpg in folder auto and saved to /content/output_images_folder/auto/Datacluster_auto (3).jpg\n"
          ]
        },
        {
          "output_type": "stream",
          "name": "stderr",
          "text": [
            "/root/.cache/torch/hub/ultralytics_yolov5_master/models/common.py:892: FutureWarning: `torch.cuda.amp.autocast(args...)` is deprecated. Please use `torch.amp.autocast('cuda', args...)` instead.\n",
            "  with amp.autocast(autocast):\n",
            "image 1/1: 3016x4032 2 persons\n",
            "Speed: 60.4ms pre-process, 540.9ms inference, 2.1ms NMS per image at shape (1, 3, 480, 640)\n"
          ]
        },
        {
          "output_type": "stream",
          "name": "stdout",
          "text": [
            "Processed Datacluster_auto (4).jpg in folder auto and saved to /content/output_images_folder/auto/Datacluster_auto (4).jpg\n"
          ]
        },
        {
          "output_type": "stream",
          "name": "stderr",
          "text": [
            "/root/.cache/torch/hub/ultralytics_yolov5_master/models/common.py:892: FutureWarning: `torch.cuda.amp.autocast(args...)` is deprecated. Please use `torch.amp.autocast('cuda', args...)` instead.\n",
            "  with amp.autocast(autocast):\n",
            "image 1/1: 3120x4160 5 persons, 1 motorcycle\n",
            "Speed: 42.4ms pre-process, 532.4ms inference, 2.2ms NMS per image at shape (1, 3, 480, 640)\n"
          ]
        },
        {
          "output_type": "stream",
          "name": "stdout",
          "text": [
            "Processed Datacluster_auto (30).jpg in folder auto and saved to /content/output_images_folder/auto/Datacluster_auto (30).jpg\n"
          ]
        },
        {
          "output_type": "stream",
          "name": "stderr",
          "text": [
            "/root/.cache/torch/hub/ultralytics_yolov5_master/models/common.py:892: FutureWarning: `torch.cuda.amp.autocast(args...)` is deprecated. Please use `torch.amp.autocast('cuda', args...)` instead.\n",
            "  with amp.autocast(autocast):\n",
            "image 1/1: 1944x2592 (no detections)\n",
            "Speed: 17.3ms pre-process, 477.5ms inference, 1.1ms NMS per image at shape (1, 3, 480, 640)\n"
          ]
        },
        {
          "output_type": "stream",
          "name": "stdout",
          "text": [
            "Processed Datacluster_auto (8).jpg in folder auto and saved to /content/output_images_folder/auto/Datacluster_auto (8).jpg\n"
          ]
        },
        {
          "output_type": "stream",
          "name": "stderr",
          "text": [
            "/root/.cache/torch/hub/ultralytics_yolov5_master/models/common.py:892: FutureWarning: `torch.cuda.amp.autocast(args...)` is deprecated. Please use `torch.amp.autocast('cuda', args...)` instead.\n",
            "  with amp.autocast(autocast):\n",
            "image 1/1: 3120x4160 3 persons, 1 boat, 1 traffic light\n",
            "Speed: 46.1ms pre-process, 436.6ms inference, 2.0ms NMS per image at shape (1, 3, 480, 640)\n"
          ]
        },
        {
          "output_type": "stream",
          "name": "stdout",
          "text": [
            "Processed Datacluster_auto (9).jpg in folder auto and saved to /content/output_images_folder/auto/Datacluster_auto (9).jpg\n"
          ]
        },
        {
          "output_type": "stream",
          "name": "stderr",
          "text": [
            "/root/.cache/torch/hub/ultralytics_yolov5_master/models/common.py:892: FutureWarning: `torch.cuda.amp.autocast(args...)` is deprecated. Please use `torch.amp.autocast('cuda', args...)` instead.\n",
            "  with amp.autocast(autocast):\n",
            "image 1/1: 3120x4160 1 traffic light\n",
            "Speed: 26.5ms pre-process, 317.9ms inference, 1.4ms NMS per image at shape (1, 3, 480, 640)\n"
          ]
        },
        {
          "output_type": "stream",
          "name": "stdout",
          "text": [
            "Processed Datacluster_auto (7).jpg in folder auto and saved to /content/output_images_folder/auto/Datacluster_auto (7).jpg\n",
            "Object detection complete for all images.\n"
          ]
        }
      ]
    },
    {
      "cell_type": "code",
      "source": [],
      "metadata": {
        "id": "JeQETsQiySTB"
      },
      "execution_count": null,
      "outputs": []
    }
  ]
}